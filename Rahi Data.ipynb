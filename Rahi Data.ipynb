{
 "cells": [
  {
   "cell_type": "code",
   "execution_count": 1,
   "metadata": {},
   "outputs": [],
   "source": [
    "import pandas as pd\n",
    "import numpy as np\n",
    "import matplotlib.pyplot as plt\n",
    "import seaborn as sns\n",
    "%matplotlib inline\n",
    "import matplotlib.style\n",
    "import matplotlib as mpl\n",
    "mpl.style.use('classic')"
   ]
  },
  {
   "cell_type": "code",
   "execution_count": 2,
   "metadata": {},
   "outputs": [
    {
     "data": {
      "text/html": [
       "<div>\n",
       "<style scoped>\n",
       "    .dataframe tbody tr th:only-of-type {\n",
       "        vertical-align: middle;\n",
       "    }\n",
       "\n",
       "    .dataframe tbody tr th {\n",
       "        vertical-align: top;\n",
       "    }\n",
       "\n",
       "    .dataframe thead th {\n",
       "        text-align: right;\n",
       "    }\n",
       "</style>\n",
       "<table border=\"1\" class=\"dataframe\">\n",
       "  <thead>\n",
       "    <tr style=\"text-align: right;\">\n",
       "      <th></th>\n",
       "      <th>Unnamed: 0</th>\n",
       "      <th>Depth</th>\n",
       "      <th>Phi</th>\n",
       "      <th>C</th>\n",
       "      <th>spt</th>\n",
       "      <th>N60</th>\n",
       "    </tr>\n",
       "  </thead>\n",
       "  <tbody>\n",
       "    <tr>\n",
       "      <th>0</th>\n",
       "      <td>BH1</td>\n",
       "      <td>22.5</td>\n",
       "      <td>38.0</td>\n",
       "      <td>6.3452</td>\n",
       "      <td>50</td>\n",
       "      <td>30.0</td>\n",
       "    </tr>\n",
       "    <tr>\n",
       "      <th>1</th>\n",
       "      <td>BH2</td>\n",
       "      <td>28.5</td>\n",
       "      <td>37.5</td>\n",
       "      <td>3.8679</td>\n",
       "      <td>50</td>\n",
       "      <td>30.0</td>\n",
       "    </tr>\n",
       "    <tr>\n",
       "      <th>2</th>\n",
       "      <td>BH3</td>\n",
       "      <td>28.5</td>\n",
       "      <td>38.0</td>\n",
       "      <td>2.2164</td>\n",
       "      <td>50</td>\n",
       "      <td>30.0</td>\n",
       "    </tr>\n",
       "    <tr>\n",
       "      <th>3</th>\n",
       "      <td>BH4</td>\n",
       "      <td>30.0</td>\n",
       "      <td>38.0</td>\n",
       "      <td>7.9967</td>\n",
       "      <td>50</td>\n",
       "      <td>30.0</td>\n",
       "    </tr>\n",
       "    <tr>\n",
       "      <th>4</th>\n",
       "      <td>NaN</td>\n",
       "      <td>16.5</td>\n",
       "      <td>33.0</td>\n",
       "      <td>4.6936</td>\n",
       "      <td>50</td>\n",
       "      <td>30.0</td>\n",
       "    </tr>\n",
       "  </tbody>\n",
       "</table>\n",
       "</div>"
      ],
      "text/plain": [
       "  Unnamed: 0  Depth   Phi       C  spt   N60\n",
       "0        BH1   22.5  38.0  6.3452   50  30.0\n",
       "1        BH2   28.5  37.5  3.8679   50  30.0\n",
       "2        BH3   28.5  38.0  2.2164   50  30.0\n",
       "3        BH4   30.0  38.0  7.9967   50  30.0\n",
       "4        NaN   16.5  33.0  4.6936   50  30.0"
      ]
     },
     "execution_count": 2,
     "metadata": {},
     "output_type": "execute_result"
    }
   ],
   "source": [
    "df = pd.read_excel(\"Data.xlsx\", sheet_name = \"Rahi bhai\")\n",
    "df.head()"
   ]
  },
  {
   "cell_type": "code",
   "execution_count": 3,
   "metadata": {},
   "outputs": [
    {
     "data": {
      "text/html": [
       "<div>\n",
       "<style scoped>\n",
       "    .dataframe tbody tr th:only-of-type {\n",
       "        vertical-align: middle;\n",
       "    }\n",
       "\n",
       "    .dataframe tbody tr th {\n",
       "        vertical-align: top;\n",
       "    }\n",
       "\n",
       "    .dataframe thead th {\n",
       "        text-align: right;\n",
       "    }\n",
       "</style>\n",
       "<table border=\"1\" class=\"dataframe\">\n",
       "  <thead>\n",
       "    <tr style=\"text-align: right;\">\n",
       "      <th></th>\n",
       "      <th>Borehole</th>\n",
       "      <th>Depth</th>\n",
       "      <th>Phi</th>\n",
       "      <th>C</th>\n",
       "      <th>SPT</th>\n",
       "      <th>N60</th>\n",
       "    </tr>\n",
       "  </thead>\n",
       "  <tbody>\n",
       "    <tr>\n",
       "      <th>0</th>\n",
       "      <td>BH1</td>\n",
       "      <td>22.5</td>\n",
       "      <td>38.0</td>\n",
       "      <td>6.3452</td>\n",
       "      <td>50</td>\n",
       "      <td>30.0</td>\n",
       "    </tr>\n",
       "    <tr>\n",
       "      <th>1</th>\n",
       "      <td>BH2</td>\n",
       "      <td>28.5</td>\n",
       "      <td>37.5</td>\n",
       "      <td>3.8679</td>\n",
       "      <td>50</td>\n",
       "      <td>30.0</td>\n",
       "    </tr>\n",
       "    <tr>\n",
       "      <th>2</th>\n",
       "      <td>BH3</td>\n",
       "      <td>28.5</td>\n",
       "      <td>38.0</td>\n",
       "      <td>2.2164</td>\n",
       "      <td>50</td>\n",
       "      <td>30.0</td>\n",
       "    </tr>\n",
       "    <tr>\n",
       "      <th>3</th>\n",
       "      <td>BH4</td>\n",
       "      <td>30.0</td>\n",
       "      <td>38.0</td>\n",
       "      <td>7.9967</td>\n",
       "      <td>50</td>\n",
       "      <td>30.0</td>\n",
       "    </tr>\n",
       "    <tr>\n",
       "      <th>4</th>\n",
       "      <td>NaN</td>\n",
       "      <td>16.5</td>\n",
       "      <td>33.0</td>\n",
       "      <td>4.6936</td>\n",
       "      <td>50</td>\n",
       "      <td>30.0</td>\n",
       "    </tr>\n",
       "  </tbody>\n",
       "</table>\n",
       "</div>"
      ],
      "text/plain": [
       "  Borehole  Depth   Phi       C  SPT   N60\n",
       "0      BH1   22.5  38.0  6.3452   50  30.0\n",
       "1      BH2   28.5  37.5  3.8679   50  30.0\n",
       "2      BH3   28.5  38.0  2.2164   50  30.0\n",
       "3      BH4   30.0  38.0  7.9967   50  30.0\n",
       "4      NaN   16.5  33.0  4.6936   50  30.0"
      ]
     },
     "execution_count": 3,
     "metadata": {},
     "output_type": "execute_result"
    }
   ],
   "source": [
    "df.columns = [\"Borehole\", \"Depth\", \"Phi\", \"C\", \"SPT\", \"N60\"]\n",
    "df.head()"
   ]
  },
  {
   "cell_type": "code",
   "execution_count": 4,
   "metadata": {},
   "outputs": [],
   "source": [
    "df.drop(\"Borehole\",axis=1,inplace= True)"
   ]
  },
  {
   "cell_type": "code",
   "execution_count": 5,
   "metadata": {},
   "outputs": [],
   "source": [
    "#df[\"SPT_N60\"] = 0.60* df[\"SPT\"]"
   ]
  },
  {
   "cell_type": "code",
   "execution_count": 4,
   "metadata": {},
   "outputs": [
    {
     "data": {
      "text/html": [
       "<div>\n",
       "<style scoped>\n",
       "    .dataframe tbody tr th:only-of-type {\n",
       "        vertical-align: middle;\n",
       "    }\n",
       "\n",
       "    .dataframe tbody tr th {\n",
       "        vertical-align: top;\n",
       "    }\n",
       "\n",
       "    .dataframe thead th {\n",
       "        text-align: right;\n",
       "    }\n",
       "</style>\n",
       "<table border=\"1\" class=\"dataframe\">\n",
       "  <thead>\n",
       "    <tr style=\"text-align: right;\">\n",
       "      <th></th>\n",
       "      <th>Borehole</th>\n",
       "      <th>Depth</th>\n",
       "      <th>Phi</th>\n",
       "      <th>C</th>\n",
       "      <th>SPT</th>\n",
       "      <th>N60</th>\n",
       "    </tr>\n",
       "  </thead>\n",
       "  <tbody>\n",
       "    <tr>\n",
       "      <th>0</th>\n",
       "      <td>BH1</td>\n",
       "      <td>22.5</td>\n",
       "      <td>38.0</td>\n",
       "      <td>6.3452</td>\n",
       "      <td>50</td>\n",
       "      <td>30.0</td>\n",
       "    </tr>\n",
       "    <tr>\n",
       "      <th>1</th>\n",
       "      <td>BH2</td>\n",
       "      <td>28.5</td>\n",
       "      <td>37.5</td>\n",
       "      <td>3.8679</td>\n",
       "      <td>50</td>\n",
       "      <td>30.0</td>\n",
       "    </tr>\n",
       "    <tr>\n",
       "      <th>2</th>\n",
       "      <td>BH3</td>\n",
       "      <td>28.5</td>\n",
       "      <td>38.0</td>\n",
       "      <td>2.2164</td>\n",
       "      <td>50</td>\n",
       "      <td>30.0</td>\n",
       "    </tr>\n",
       "    <tr>\n",
       "      <th>3</th>\n",
       "      <td>BH4</td>\n",
       "      <td>30.0</td>\n",
       "      <td>38.0</td>\n",
       "      <td>7.9967</td>\n",
       "      <td>50</td>\n",
       "      <td>30.0</td>\n",
       "    </tr>\n",
       "    <tr>\n",
       "      <th>4</th>\n",
       "      <td>NaN</td>\n",
       "      <td>16.5</td>\n",
       "      <td>33.0</td>\n",
       "      <td>4.6936</td>\n",
       "      <td>50</td>\n",
       "      <td>30.0</td>\n",
       "    </tr>\n",
       "  </tbody>\n",
       "</table>\n",
       "</div>"
      ],
      "text/plain": [
       "  Borehole  Depth   Phi       C  SPT   N60\n",
       "0      BH1   22.5  38.0  6.3452   50  30.0\n",
       "1      BH2   28.5  37.5  3.8679   50  30.0\n",
       "2      BH3   28.5  38.0  2.2164   50  30.0\n",
       "3      BH4   30.0  38.0  7.9967   50  30.0\n",
       "4      NaN   16.5  33.0  4.6936   50  30.0"
      ]
     },
     "execution_count": 4,
     "metadata": {},
     "output_type": "execute_result"
    }
   ],
   "source": [
    "df.head()"
   ]
  },
  {
   "cell_type": "code",
   "execution_count": 5,
   "metadata": {},
   "outputs": [],
   "source": [
    "df = df.drop([\"C\", \"SPT\"], axis = 1)"
   ]
  },
  {
   "cell_type": "code",
   "execution_count": 6,
   "metadata": {},
   "outputs": [
    {
     "data": {
      "text/html": [
       "<div>\n",
       "<style scoped>\n",
       "    .dataframe tbody tr th:only-of-type {\n",
       "        vertical-align: middle;\n",
       "    }\n",
       "\n",
       "    .dataframe tbody tr th {\n",
       "        vertical-align: top;\n",
       "    }\n",
       "\n",
       "    .dataframe thead th {\n",
       "        text-align: right;\n",
       "    }\n",
       "</style>\n",
       "<table border=\"1\" class=\"dataframe\">\n",
       "  <thead>\n",
       "    <tr style=\"text-align: right;\">\n",
       "      <th></th>\n",
       "      <th>Depth</th>\n",
       "      <th>Phi</th>\n",
       "      <th>N60</th>\n",
       "    </tr>\n",
       "  </thead>\n",
       "  <tbody>\n",
       "    <tr>\n",
       "      <th>Depth</th>\n",
       "      <td>1.000000</td>\n",
       "      <td>0.744358</td>\n",
       "      <td>0.782704</td>\n",
       "    </tr>\n",
       "    <tr>\n",
       "      <th>Phi</th>\n",
       "      <td>0.744358</td>\n",
       "      <td>1.000000</td>\n",
       "      <td>0.917124</td>\n",
       "    </tr>\n",
       "    <tr>\n",
       "      <th>N60</th>\n",
       "      <td>0.782704</td>\n",
       "      <td>0.917124</td>\n",
       "      <td>1.000000</td>\n",
       "    </tr>\n",
       "  </tbody>\n",
       "</table>\n",
       "</div>"
      ],
      "text/plain": [
       "          Depth       Phi       N60\n",
       "Depth  1.000000  0.744358  0.782704\n",
       "Phi    0.744358  1.000000  0.917124\n",
       "N60    0.782704  0.917124  1.000000"
      ]
     },
     "execution_count": 6,
     "metadata": {},
     "output_type": "execute_result"
    }
   ],
   "source": [
    "df.corr()"
   ]
  },
  {
   "cell_type": "code",
   "execution_count": 7,
   "metadata": {},
   "outputs": [
    {
     "data": {
      "image/png": "[encoded data removed]",
      "text/plain": [
       "<Figure size 640x480 with 1 Axes>"
      ]
     },
     "metadata": {},
     "output_type": "display_data"
    }
   ],
   "source": [
    "image = sns.heatmap(df.corr(), annot = True, cbar = False, cmap = \"Greys\")\n",
    "#image.figure.savefig(\"heatmap.png\", dpi=600, transparent=True) "
   ]
  },
  {
   "cell_type": "code",
   "execution_count": 8,
   "metadata": {},
   "outputs": [],
   "source": [
    "#df[df[\"N60\"] < 3]"
   ]
  },
  {
   "cell_type": "code",
   "execution_count": 9,
   "metadata": {},
   "outputs": [],
   "source": [
    "for_print = df.describe().transpose()\n",
    "#for_print.to_excel(\"describe.xlsx\")"
   ]
  },
  {
   "cell_type": "code",
   "execution_count": 10,
   "metadata": {},
   "outputs": [
    {
     "data": {
      "image/png": "[encoded data removed]",
      "text/plain": [
       "<Figure size 320x320 with 1 Axes>"
      ]
     },
     "metadata": {},
     "output_type": "display_data"
    }
   ],
   "source": [
    "fig, ax = plt.subplots()\n",
    "fig.set_size_inches(4,4)\n",
    "\n",
    "plt.hist(df[\"Phi\"],color = \"gray\", bins = 15 )\n",
    "fig.patch.set_facecolor(\"White\")\n",
    "ax.set(ylabel = \"Count\", xlabel = \"Phi in degree\")\n",
    "fig.savefig(\"Phi_hist.jpg\", dpi = 600, transparent=True)"
   ]
  },
  {
   "cell_type": "code",
   "execution_count": 11,
   "metadata": {},
   "outputs": [
    {
     "data": {
      "image/png": "[encoded data removed]",
      "text/plain": [
       "<Figure size 320x320 with 1 Axes>"
      ]
     },
     "metadata": {},
     "output_type": "display_data"
    }
   ],
   "source": [
    "fig, ax = plt.subplots()\n",
    "fig.set_size_inches(4,4)\n",
    "plt.hist(df[\"N60\"],color = \"gray\", bins = 15 )\n",
    "fig.patch.set_facecolor(\"White\")\n",
    "ax.set(ylabel = \"Count\", xlabel = \"SPT N_60\")\n",
    "fig.savefig(\"SPT N60_hist.jpg\", dpi = 600, transparent=True)"
   ]
  },
  {
   "cell_type": "code",
   "execution_count": null,
   "metadata": {},
   "outputs": [],
   "source": []
  },
  {
   "cell_type": "code",
   "execution_count": 12,
   "metadata": {},
   "outputs": [
    {
     "data": {
      "image/png": "[encoded data removed]",
      "text/plain": [
       "<Figure size 320x320 with 1 Axes>"
      ]
     },
     "metadata": {},
     "output_type": "display_data"
    }
   ],
   "source": [
    "fig, ax = plt.subplots()\n",
    "fig.set_size_inches(4,4)\n",
    "\n",
    "plt.hist(df[\"Depth\"],color = \"gray\", bins = 15 )\n",
    "fig.patch.set_facecolor(\"White\")\n",
    "ax.set(ylabel = \"Count\", xlabel = \"Depth in meter\")\n",
    "fig.savefig(\"Depth_hist.jpg\", dpi = 600, transparent=True)"
   ]
  },
  {
   "cell_type": "code",
   "execution_count": 13,
   "metadata": {},
   "outputs": [
    {
     "data": {
      "text/plain": [
       "<matplotlib.axes._subplots.AxesSubplot at 0x1b1017cc348>"
      ]
     },
     "execution_count": 13,
     "metadata": {},
     "output_type": "execute_result"
    },
    {
     "data": {
      "image/png": "[encoded data removed]",
      "text/plain": [
       "<Figure size 640x480 with 1 Axes>"
      ]
     },
     "metadata": {},
     "output_type": "display_data"
    }
   ],
   "source": [
    "sns.boxplot(df[\"Phi\"])"
   ]
  },
  {
   "cell_type": "code",
   "execution_count": 14,
   "metadata": {},
   "outputs": [
    {
     "data": {
      "text/plain": [
       "Borehole    26\n",
       "Depth        0\n",
       "Phi          0\n",
       "N60          0\n",
       "dtype: int64"
      ]
     },
     "execution_count": 14,
     "metadata": {},
     "output_type": "execute_result"
    }
   ],
   "source": [
    "df.isnull().sum()"
   ]
  },
  {
   "cell_type": "code",
   "execution_count": 15,
   "metadata": {},
   "outputs": [],
   "source": [
    "X = df.drop(columns = \"Phi\", axis = 1)\n",
    "y = df[\"Phi\"]"
   ]
  },
  {
   "cell_type": "code",
   "execution_count": 16,
   "metadata": {},
   "outputs": [],
   "source": [
    "#corr_print = df.drop([\"N60\", \"C\"], axis = 1).corr()\n",
    "#corr_print.to_excel(\"Corr.xlsx\")"
   ]
  },
  {
   "cell_type": "code",
   "execution_count": 18,
   "metadata": {},
   "outputs": [
    {
     "data": {
      "image/png": "[encoded data removed]",
      "text/plain": [
       "<Figure size 320x360 with 1 Axes>"
      ]
     },
     "metadata": {},
     "output_type": "display_data"
    }
   ],
   "source": [
    "fig, ax = plt.subplots(figsize = (4,4.5))\n",
    "#fig.set_size_inches(3.5,3)\n",
    "\n",
    "ax.scatter(df[\"N60\"], df[\"Phi\"], c = \"k\")\n",
    "ax.set(ylabel = \"Phi in degree\", xlabel = \"SPT_N60\")\n",
    "fig.patch.set_facecolor(\"White\")\n",
    "ax.tick_params(length = 4, width = 2)\n",
    "#fig.savefig(\"Phi vs SPT N60.jpg\", dpi = 600, transparent=True)"
   ]
  },
  {
   "cell_type": "code",
   "execution_count": 19,
   "metadata": {},
   "outputs": [
    {
     "data": {
      "image/png": "[encoded data removed]",
      "text/plain": [
       "<Figure size 320x360 with 1 Axes>"
      ]
     },
     "metadata": {},
     "output_type": "display_data"
    }
   ],
   "source": [
    "mpl.style.use('classic')\n",
    "fig, ax = plt.subplots()\n",
    "fig.set_size_inches(4,4.5)\n",
    "\n",
    "ax.scatter(df[\"Depth\"], df[\"Phi\"], c = \"k\")\n",
    "ax.set(ylabel = \"Phi in degree\", xlabel = \"Depth in meters\")\n",
    "fig.patch.set_facecolor(\"White\")\n",
    "ax.tick_params(length = 4, width = 2)\n",
    "mpl.rc('xtick', labelsize=10)     \n",
    "mpl.rc('ytick', labelsize=10)\n",
    "plt.rcParams.update({'font.size': 10})\n",
    "#fig.savefig(\"Phi vs Depth.jpg\", dpi = 600, transparent=True)"
   ]
  },
  {
   "cell_type": "code",
   "execution_count": 20,
   "metadata": {},
   "outputs": [],
   "source": [
    "from sklearn.model_selection import train_test_split\n",
    "from sklearn.linear_model import LinearRegression\n",
    "from sklearn.preprocessing import MinMaxScaler\n",
    "from sklearn.model_selection import cross_val_score\n",
    "from sklearn.metrics import mean_squared_error as MSE\n",
    "from sklearn.metrics import r2_score"
   ]
  },
  {
   "cell_type": "code",
   "execution_count": 21,
   "metadata": {},
   "outputs": [],
   "source": [
    "lr = LinearRegression()"
   ]
  },
  {
   "cell_type": "code",
   "execution_count": 22,
   "metadata": {},
   "outputs": [],
   "source": [
    "X_train, X_test, y_train, y_test = train_test_split(X, y, test_size = 0.3, random_state = 1)"
   ]
  },
  {
   "cell_type": "code",
   "execution_count": 23,
   "metadata": {},
   "outputs": [
    {
     "data": {
      "text/plain": [
       "(137,)"
      ]
     },
     "execution_count": 23,
     "metadata": {},
     "output_type": "execute_result"
    }
   ],
   "source": [
    "y_train.shape"
   ]
  },
  {
   "cell_type": "code",
   "execution_count": 42,
   "metadata": {},
   "outputs": [],
   "source": [
    "#y_test [y_test >= 35]"
   ]
  },
  {
   "cell_type": "code",
   "execution_count": 43,
   "metadata": {},
   "outputs": [
    {
     "data": {
      "text/plain": [
       "LinearRegression(copy_X=True, fit_intercept=True, n_jobs=None, normalize=False)"
      ]
     },
     "execution_count": 43,
     "metadata": {},
     "output_type": "execute_result"
    }
   ],
   "source": [
    "lr.fit(X_train,y_train)"
   ]
  },
  {
   "cell_type": "code",
   "execution_count": 44,
   "metadata": {},
   "outputs": [],
   "source": [
    "y_pred = lr.predict(X_test)"
   ]
  },
  {
   "cell_type": "code",
   "execution_count": 45,
   "metadata": {},
   "outputs": [
    {
     "data": {
      "text/plain": [
       "0.9096009294867217"
      ]
     },
     "execution_count": 45,
     "metadata": {},
     "output_type": "execute_result"
    }
   ],
   "source": [
    "lr.score(X_test, y_test)"
   ]
  },
  {
   "cell_type": "code",
   "execution_count": 106,
   "metadata": {},
   "outputs": [
    {
     "data": {
      "text/plain": [
       "array([0.02619694, 0.31777237])"
      ]
     },
     "execution_count": 106,
     "metadata": {},
     "output_type": "execute_result"
    }
   ],
   "source": [
    "lr.coef_"
   ]
  },
  {
   "cell_type": "code",
   "execution_count": 107,
   "metadata": {},
   "outputs": [
    {
     "data": {
      "text/plain": [
       "27.519137499219774"
      ]
     },
     "execution_count": 107,
     "metadata": {},
     "output_type": "execute_result"
    }
   ],
   "source": [
    "lr.intercept_"
   ]
  },
  {
   "cell_type": "code",
   "execution_count": 108,
   "metadata": {},
   "outputs": [
    {
     "data": {
      "text/plain": [
       "0.9096009294867216"
      ]
     },
     "execution_count": 108,
     "metadata": {},
     "output_type": "execute_result"
    }
   ],
   "source": [
    "r2_score(y_test, y_pred)"
   ]
  },
  {
   "cell_type": "code",
   "execution_count": 109,
   "metadata": {},
   "outputs": [
    {
     "data": {
      "text/plain": [
       "1.041588070173701"
      ]
     },
     "execution_count": 109,
     "metadata": {},
     "output_type": "execute_result"
    }
   ],
   "source": [
    "rmse = (MSE(y_test, y_pred))**(1/2)\n",
    "rmse"
   ]
  },
  {
   "cell_type": "code",
   "execution_count": 121,
   "metadata": {},
   "outputs": [],
   "source": [
    "X_test.to_excel(\"test.xlsx\")"
   ]
  },
  {
   "cell_type": "code",
   "execution_count": 123,
   "metadata": {},
   "outputs": [],
   "source": [
    "y_test.to_excel(\"test1.xlsx\")"
   ]
  },
  {
   "cell_type": "code",
   "execution_count": 87,
   "metadata": {},
   "outputs": [
    {
     "data": {
      "text/plain": [
       "<matplotlib.axes._subplots.AxesSubplot at 0x277c1a82908>"
      ]
     },
     "execution_count": 87,
     "metadata": {},
     "output_type": "execute_result"
    },
    {
     "data": {
      "image/png": "[encoded data removed]",
      "text/plain": [
       "<Figure size 640x480 with 1 Axes>"
      ]
     },
     "metadata": {},
     "output_type": "display_data"
    }
   ],
   "source": [
    "sns.scatterplot(y_test, y_pred, alpha = 0.5)"
   ]
  },
  {
   "cell_type": "code",
   "execution_count": 51,
   "metadata": {},
   "outputs": [
    {
     "data": {
      "image/png": "[encoded data removed]",
      "text/plain": [
       "<Figure size 280x304 with 1 Axes>"
      ]
     },
     "metadata": {},
     "output_type": "display_data"
    }
   ],
   "source": [
    "from matplotlib import rc\n",
    "mpl.rcParams['font.size'] = 10\n",
    "rc('font',**{'family':'sans-serif','sans-serif':['Arial']}) \n",
    "fig, ax = plt.subplots()\n",
    "fig.set_size_inches(3.5,3.8)\n",
    "\n",
    "ax.scatter(y_test, y_pred, c = \"k\")\n",
    "plt.plot(y_test, y_test, c = \"k\", linewidth = 2)\n",
    "ax.set(ylabel = \"Predicted Data\", xlabel = \"Test Data\")\n",
    "fig.patch.set_facecolor(\"White\")\n",
    "ax.tick_params(length = 4, width = 2)\n",
    "fig.savefig(\"Linear Regression.jpg\", dpi = 600, transparent=True)"
   ]
  },
  {
   "cell_type": "code",
   "execution_count": 32,
   "metadata": {
    "scrolled": true
   },
   "outputs": [
    {
     "data": {
      "text/plain": [
       "array([0.00084255, 0.33849092])"
      ]
     },
     "execution_count": 32,
     "metadata": {},
     "output_type": "execute_result"
    }
   ],
   "source": [
    "lr.coef_"
   ]
  },
  {
   "cell_type": "code",
   "execution_count": 33,
   "metadata": {},
   "outputs": [
    {
     "data": {
      "text/plain": [
       "27.621989146075997"
      ]
     },
     "execution_count": 33,
     "metadata": {},
     "output_type": "execute_result"
    }
   ],
   "source": [
    "lr.intercept_"
   ]
  },
  {
   "cell_type": "code",
   "execution_count": 34,
   "metadata": {},
   "outputs": [],
   "source": [
    "from sklearn.ensemble import RandomForestRegressor\n",
    "rf = RandomForestRegressor(random_state=42)"
   ]
  },
  {
   "cell_type": "code",
   "execution_count": 35,
   "metadata": {},
   "outputs": [
    {
     "data": {
      "text/plain": [
       "0.8589556802491117"
      ]
     },
     "execution_count": 35,
     "metadata": {},
     "output_type": "execute_result"
    }
   ],
   "source": [
    "rf.fit(X_train,y_train)\n",
    "y_pred_rf = rf.predict(X_test)\n",
    "rf.score(X_test,y_test)"
   ]
  },
  {
   "cell_type": "code",
   "execution_count": 36,
   "metadata": {},
   "outputs": [
    {
     "data": {
      "text/plain": [
       "1.2363552885515896"
      ]
     },
     "execution_count": 36,
     "metadata": {},
     "output_type": "execute_result"
    }
   ],
   "source": [
    "rmse = (MSE(y_test,y_pred_rf))**(1/2)\n",
    "rmse"
   ]
  },
  {
   "cell_type": "code",
   "execution_count": 37,
   "metadata": {},
   "outputs": [],
   "source": [
    "from sklearn.model_selection import GridSearchCV\n",
    "# Define a grid of hyperparameter 'params_rf'\n",
    "params_rf = {\n",
    "'n_estimators': [100, 200, 300, 400, 500],\n",
    "'max_depth': [2, 4, 6, 8],\n",
    "'min_samples_leaf': [0.1, 0.2,2,5,10],\n",
    "'max_features': ['log2', 'sqrt']\n",
    "}\n",
    "# Instantiate 'grid_rf'\n",
    "grid_rf = GridSearchCV(estimator=rf,\n",
    "param_grid=params_rf,\n",
    "cv=3,\n",
    "scoring='neg_mean_squared_error',\n",
    "verbose=1,\n",
    "n_jobs=-1)"
   ]
  },
  {
   "cell_type": "code",
   "execution_count": 38,
   "metadata": {},
   "outputs": [
    {
     "name": "stdout",
     "output_type": "stream",
     "text": [
      "Fitting 3 folds for each of 200 candidates, totalling 600 fits\n"
     ]
    },
    {
     "name": "stderr",
     "output_type": "stream",
     "text": [
      "[Parallel(n_jobs=-1)]: Using backend LokyBackend with 8 concurrent workers.\n",
      "[Parallel(n_jobs=-1)]: Done  34 tasks      | elapsed:    8.2s\n",
      "[Parallel(n_jobs=-1)]: Done 184 tasks      | elapsed:   26.9s\n",
      "[Parallel(n_jobs=-1)]: Done 434 tasks      | elapsed:   57.7s\n",
      "[Parallel(n_jobs=-1)]: Done 600 out of 600 | elapsed:  1.3min finished\n"
     ]
    },
    {
     "data": {
      "text/plain": [
       "GridSearchCV(cv=3, error_score=nan,\n",
       "             estimator=RandomForestRegressor(bootstrap=True, ccp_alpha=0.0,\n",
       "                                             criterion='mse', max_depth=None,\n",
       "                                             max_features='auto',\n",
       "                                             max_leaf_nodes=None,\n",
       "                                             max_samples=None,\n",
       "                                             min_impurity_decrease=0.0,\n",
       "                                             min_impurity_split=None,\n",
       "                                             min_samples_leaf=1,\n",
       "                                             min_samples_split=2,\n",
       "                                             min_weight_fraction_leaf=0.0,\n",
       "                                             n_estimators=100, n_jobs=None,\n",
       "                                             oob_score=False, random_state=42,\n",
       "                                             verbose=0, warm_start=False),\n",
       "             iid='deprecated', n_jobs=-1,\n",
       "             param_grid={'max_depth': [2, 4, 6, 8],\n",
       "                         'max_features': ['log2', 'sqrt'],\n",
       "                         'min_samples_leaf': [0.1, 0.2, 2, 5, 10],\n",
       "                         'n_estimators': [100, 200, 300, 400, 500]},\n",
       "             pre_dispatch='2*n_jobs', refit=True, return_train_score=False,\n",
       "             scoring='neg_mean_squared_error', verbose=1)"
      ]
     },
     "execution_count": 38,
     "metadata": {},
     "output_type": "execute_result"
    }
   ],
   "source": [
    "grid_rf.fit(X_train, y_train)"
   ]
  },
  {
   "cell_type": "code",
   "execution_count": 39,
   "metadata": {},
   "outputs": [
    {
     "name": "stdout",
     "output_type": "stream",
     "text": [
      "Best hyerparameters:\n",
      " {'max_depth': 6, 'max_features': 'log2', 'min_samples_leaf': 2, 'n_estimators': 300}\n"
     ]
    }
   ],
   "source": [
    "# Extract best hyperparameters from 'grid_rf'\n",
    "best_hyperparams = grid_rf.best_params_\n",
    "print('Best hyerparameters:\\n', best_hyperparams)"
   ]
  },
  {
   "cell_type": "code",
   "execution_count": 40,
   "metadata": {},
   "outputs": [
    {
     "name": "stdout",
     "output_type": "stream",
     "text": [
      "Test set RMSE of rf: 1.22\n"
     ]
    }
   ],
   "source": [
    "# Extract best model from 'grid_rf'\n",
    "best_model = grid_rf.best_estimator_\n",
    "# Predict the test set labels\n",
    "y_pred_rf = best_model.predict(X_test)\n",
    "# Evaluate the test set RMSE\n",
    "rmse_test = MSE(y_test, y_pred_rf)**(1/2)\n",
    "# Print the test set RMSE\n",
    "print('Test set RMSE of rf: {:.2f}'.format(rmse_test))"
   ]
  },
  {
   "cell_type": "code",
   "execution_count": 41,
   "metadata": {},
   "outputs": [
    {
     "data": {
      "text/plain": [
       "0.8635275889634216"
      ]
     },
     "execution_count": 41,
     "metadata": {},
     "output_type": "execute_result"
    }
   ],
   "source": [
    "r2_score(y_test,y_pred_rf)"
   ]
  },
  {
   "cell_type": "code",
   "execution_count": 42,
   "metadata": {},
   "outputs": [
    {
     "data": {
      "image/png": "[encoded data removed]",
      "text/plain": [
       "<Figure size 640x480 with 1 Axes>"
      ]
     },
     "metadata": {},
     "output_type": "display_data"
    }
   ],
   "source": [
    "fig, ax = plt.subplots()\n",
    "ax.scatter(y_test, y_pred_rf, c = \"k\")\n",
    "plt.plot(y_test, y_test, c = \"k\", linewidth = 2)\n",
    "ax.set(ylabel = \"Predicted Data\", xlabel = \"Test Data\")\n",
    "fig.patch.set_facecolor(\"White\")\n",
    "ax.tick_params(length = 4, width = 2)\n",
    "#fig.savefig(\"Random Forest.jpg\", dpi = 600, transparent=True)"
   ]
  },
  {
   "cell_type": "code",
   "execution_count": null,
   "metadata": {},
   "outputs": [],
   "source": []
  },
  {
   "cell_type": "code",
   "execution_count": null,
   "metadata": {},
   "outputs": [],
   "source": []
  },
  {
   "cell_type": "code",
   "execution_count": null,
   "metadata": {},
   "outputs": [],
   "source": []
  },
  {
   "cell_type": "code",
   "execution_count": null,
   "metadata": {},
   "outputs": [],
   "source": []
  },
  {
   "cell_type": "code",
   "execution_count": null,
   "metadata": {},
   "outputs": [],
   "source": []
  },
  {
   "cell_type": "code",
   "execution_count": null,
   "metadata": {},
   "outputs": [],
   "source": []
  },
  {
   "cell_type": "code",
   "execution_count": 52,
   "metadata": {},
   "outputs": [],
   "source": [
    "from sklearn.ensemble import GradientBoostingRegressor\n",
    "gb = GradientBoostingRegressor(n_estimators=200, max_depth=3, random_state=42)"
   ]
  },
  {
   "cell_type": "code",
   "execution_count": 44,
   "metadata": {},
   "outputs": [
    {
     "data": {
      "text/plain": [
       "0.8586669758613252"
      ]
     },
     "execution_count": 44,
     "metadata": {},
     "output_type": "execute_result"
    }
   ],
   "source": [
    "gb.fit(X_train, y_train)\n",
    "y_pred_gb = gb.predict(X_test)\n",
    "r2_score(y_test, y_pred_gb)"
   ]
  },
  {
   "cell_type": "code",
   "execution_count": 45,
   "metadata": {},
   "outputs": [
    {
     "data": {
      "text/plain": [
       "1.2376199928933822"
      ]
     },
     "execution_count": 45,
     "metadata": {},
     "output_type": "execute_result"
    }
   ],
   "source": [
    "rmse = (MSE(y_test, y_pred_gb))**(1/2)\n",
    "rmse"
   ]
  },
  {
   "cell_type": "code",
   "execution_count": 46,
   "metadata": {},
   "outputs": [
    {
     "data": {
      "text/plain": [
       "0.8586669758613253"
      ]
     },
     "execution_count": 46,
     "metadata": {},
     "output_type": "execute_result"
    }
   ],
   "source": [
    "gb.score(X_test, y_test)"
   ]
  },
  {
   "cell_type": "code",
   "execution_count": 47,
   "metadata": {},
   "outputs": [
    {
     "data": {
      "image/png": "[encoded data removed]",
      "text/plain": [
       "<Figure size 640x480 with 1 Axes>"
      ]
     },
     "metadata": {},
     "output_type": "display_data"
    }
   ],
   "source": [
    "fig, ax = plt.subplots()\n",
    "ax.scatter(y_test, y_pred_gb, c = \"k\")\n",
    "plt.plot(y_test, y_test, c = \"k\", linewidth = 2)\n",
    "ax.set(ylabel = \"Predicted Data\", xlabel = \"Test Data\")\n",
    "fig.patch.set_facecolor(\"White\")\n",
    "ax.tick_params(length = 4, width = 2)\n",
    "#fig.savefig(\"Gradient Boosting.jpg\", dpi = 600, transparent=True)"
   ]
  },
  {
   "cell_type": "code",
   "execution_count": 49,
   "metadata": {},
   "outputs": [],
   "source": [
    "X_print_train = X_train\n",
    "X_print_test = X_test"
   ]
  },
  {
   "cell_type": "code",
   "execution_count": null,
   "metadata": {},
   "outputs": [],
   "source": []
  },
  {
   "cell_type": "markdown",
   "metadata": {},
   "source": [
    "## ANN"
   ]
  },
  {
   "cell_type": "code",
   "execution_count": 53,
   "metadata": {},
   "outputs": [],
   "source": [
    "X_train = X_train.values"
   ]
  },
  {
   "cell_type": "code",
   "execution_count": 54,
   "metadata": {},
   "outputs": [],
   "source": [
    "X_test = X_test.values"
   ]
  },
  {
   "cell_type": "code",
   "execution_count": 55,
   "metadata": {},
   "outputs": [],
   "source": [
    "y_train = y_train.values"
   ]
  },
  {
   "cell_type": "code",
   "execution_count": 56,
   "metadata": {},
   "outputs": [],
   "source": [
    "y_test = y_test.values"
   ]
  },
  {
   "cell_type": "code",
   "execution_count": 57,
   "metadata": {},
   "outputs": [],
   "source": [
    "scaler = MinMaxScaler()"
   ]
  },
  {
   "cell_type": "code",
   "execution_count": 58,
   "metadata": {},
   "outputs": [
    {
     "data": {
      "text/plain": [
       "MinMaxScaler(copy=True, feature_range=(0, 1))"
      ]
     },
     "execution_count": 58,
     "metadata": {},
     "output_type": "execute_result"
    }
   ],
   "source": [
    "scaler.fit(X_train)"
   ]
  },
  {
   "cell_type": "code",
   "execution_count": 59,
   "metadata": {},
   "outputs": [],
   "source": [
    "X_train_scaled = scaler.transform(X_train)\n",
    "X_test_scaled = scaler.transform(X_test)"
   ]
  },
  {
   "cell_type": "code",
   "execution_count": 60,
   "metadata": {},
   "outputs": [],
   "source": [
    "from tensorflow.keras.models import Sequential\n",
    "from tensorflow.keras.layers import Dense, Activation\n",
    "from tensorflow.keras.optimizers import Adam\n",
    "from tensorflow.keras.callbacks import EarlyStopping"
   ]
  },
  {
   "cell_type": "code",
   "execution_count": 61,
   "metadata": {},
   "outputs": [],
   "source": [
    "model = Sequential()\n",
    "\n",
    "model.add(Dense(10,activation='relu'))\n",
    "model.add(Dense(10,activation='relu'))\n",
    "model.add(Dense(10,activation='relu'))\n",
    "\n",
    "model.add(Dense(1))\n",
    "\n",
    "model.compile(optimizer='adam',loss='mse')"
   ]
  },
  {
   "cell_type": "code",
   "execution_count": 62,
   "metadata": {},
   "outputs": [],
   "source": [
    "early_stop = EarlyStopping(monitor='val_loss', mode='min', verbose=1, patience=50)"
   ]
  },
  {
   "cell_type": "code",
   "execution_count": 63,
   "metadata": {},
   "outputs": [
    {
     "name": "stdout",
     "output_type": "stream",
     "text": [
      "Epoch 1/800\n",
      "5/5 [==============================] - 0s 30ms/step - loss: 831.7950 - val_loss: 804.4915\n",
      "Epoch 2/800\n",
      "5/5 [==============================] - 0s 6ms/step - loss: 792.1007 - val_loss: 764.0947\n",
      "Epoch 3/800\n",
      "5/5 [==============================] - 0s 6ms/step - loss: 753.8448 - val_loss: 723.5686\n",
      "Epoch 4/800\n",
      "5/5 [==============================] - 0s 6ms/step - loss: 715.1977 - val_loss: 683.2328\n",
      "Epoch 5/800\n",
      "5/5 [==============================] - 0s 6ms/step - loss: 676.1836 - val_loss: 642.8561\n",
      "Epoch 6/800\n",
      "5/5 [==============================] - 0s 8ms/step - loss: 636.8336 - val_loss: 601.8779\n",
      "Epoch 7/800\n",
      "5/5 [==============================] - 0s 6ms/step - loss: 596.2919 - val_loss: 560.8419\n",
      "Epoch 8/800\n",
      "5/5 [==============================] - 0s 10ms/step - loss: 556.1555 - val_loss: 519.2109\n",
      "Epoch 9/800\n",
      "5/5 [==============================] - 0s 8ms/step - loss: 514.8473 - val_loss: 477.2806\n",
      "Epoch 10/800\n",
      "5/5 [==============================] - ETA: 0s - loss: 476.613 - 0s 9ms/step - loss: 473.6950 - val_loss: 434.1345\n",
      "Epoch 11/800\n",
      "5/5 [==============================] - 0s 6ms/step - loss: 431.3214 - val_loss: 391.9514\n",
      "Epoch 12/800\n",
      "5/5 [==============================] - 0s 7ms/step - loss: 390.0882 - val_loss: 350.8816\n",
      "Epoch 13/800\n",
      "5/5 [==============================] - 0s 6ms/step - loss: 349.6411 - val_loss: 311.9630\n",
      "Epoch 14/800\n",
      "5/5 [==============================] - 0s 8ms/step - loss: 310.3059 - val_loss: 275.4668\n",
      "Epoch 15/800\n",
      "5/5 [==============================] - 0s 6ms/step - loss: 274.3051 - val_loss: 241.4506\n",
      "Epoch 16/800\n",
      "5/5 [==============================] - 0s 6ms/step - loss: 239.1545 - val_loss: 212.3034\n",
      "Epoch 17/800\n",
      "5/5 [==============================] - 0s 10ms/step - loss: 208.5382 - val_loss: 192.4394\n",
      "Epoch 18/800\n",
      "5/5 [==============================] - 0s 8ms/step - loss: 186.7033 - val_loss: 182.8273\n",
      "Epoch 19/800\n",
      "5/5 [==============================] - 0s 8ms/step - loss: 176.1354 - val_loss: 181.4556\n",
      "Epoch 20/800\n",
      "5/5 [==============================] - 0s 8ms/step - loss: 172.7448 - val_loss: 184.5787\n",
      "Epoch 21/800\n",
      "5/5 [==============================] - 0s 8ms/step - loss: 171.2621 - val_loss: 186.6481\n",
      "Epoch 22/800\n",
      "5/5 [==============================] - 0s 8ms/step - loss: 171.7165 - val_loss: 187.8563\n",
      "Epoch 23/800\n",
      "5/5 [==============================] - 0s 8ms/step - loss: 170.8970 - val_loss: 186.5974\n",
      "Epoch 24/800\n",
      "5/5 [==============================] - 0s 10ms/step - loss: 169.9395 - val_loss: 184.8956\n",
      "Epoch 25/800\n",
      "5/5 [==============================] - 0s 10ms/step - loss: 168.8573 - val_loss: 182.6403\n",
      "Epoch 26/800\n",
      "5/5 [==============================] - 0s 6ms/step - loss: 168.2250 - val_loss: 180.6671\n",
      "Epoch 27/800\n",
      "5/5 [==============================] - 0s 8ms/step - loss: 166.8755 - val_loss: 179.7975\n",
      "Epoch 28/800\n",
      "5/5 [==============================] - 0s 6ms/step - loss: 166.1537 - val_loss: 179.1519\n",
      "Epoch 29/800\n",
      "5/5 [==============================] - 0s 8ms/step - loss: 165.4835 - val_loss: 177.9357\n",
      "Epoch 30/800\n",
      "5/5 [==============================] - 0s 6ms/step - loss: 164.9175 - val_loss: 176.4700\n",
      "Epoch 31/800\n",
      "5/5 [==============================] - 0s 6ms/step - loss: 164.0363 - val_loss: 175.4252\n",
      "Epoch 32/800\n",
      "5/5 [==============================] - 0s 8ms/step - loss: 163.3004 - val_loss: 174.1939\n",
      "Epoch 33/800\n",
      "5/5 [==============================] - 0s 6ms/step - loss: 162.6656 - val_loss: 173.2312\n",
      "Epoch 34/800\n",
      "5/5 [==============================] - 0s 6ms/step - loss: 161.9806 - val_loss: 172.2779\n",
      "Epoch 35/800\n",
      "5/5 [==============================] - 0s 8ms/step - loss: 161.2444 - val_loss: 171.2294\n",
      "Epoch 36/800\n",
      "5/5 [==============================] - 0s 8ms/step - loss: 160.6889 - val_loss: 170.2090\n",
      "Epoch 37/800\n",
      "5/5 [==============================] - 0s 8ms/step - loss: 160.0599 - val_loss: 169.5849\n",
      "Epoch 38/800\n",
      "5/5 [==============================] - 0s 6ms/step - loss: 159.7234 - val_loss: 170.0691\n",
      "Epoch 39/800\n",
      "5/5 [==============================] - 0s 8ms/step - loss: 158.2760 - val_loss: 169.1610\n",
      "Epoch 40/800\n",
      "5/5 [==============================] - 0s 6ms/step - loss: 157.3493 - val_loss: 168.8811\n",
      "Epoch 41/800\n",
      "5/5 [==============================] - ETA: 0s - loss: 150.950 - 0s 6ms/step - loss: 157.0106 - val_loss: 168.6177\n",
      "Epoch 42/800\n",
      "5/5 [==============================] - 0s 8ms/step - loss: 155.8828 - val_loss: 166.1250\n",
      "Epoch 43/800\n",
      "5/5 [==============================] - 0s 8ms/step - loss: 155.6974 - val_loss: 164.5914\n",
      "Epoch 44/800\n",
      "5/5 [==============================] - 0s 8ms/step - loss: 154.7089 - val_loss: 163.9558\n",
      "Epoch 45/800\n",
      "5/5 [==============================] - 0s 8ms/step - loss: 153.9454 - val_loss: 163.4060\n",
      "Epoch 46/800\n",
      "5/5 [==============================] - 0s 10ms/step - loss: 153.2213 - val_loss: 162.8176\n",
      "Epoch 47/800\n",
      "5/5 [==============================] - 0s 10ms/step - loss: 152.3749 - val_loss: 162.4085\n",
      "Epoch 48/800\n",
      "5/5 [==============================] - 0s 8ms/step - loss: 151.6337 - val_loss: 161.9398\n",
      "Epoch 49/800\n",
      "5/5 [==============================] - 0s 8ms/step - loss: 150.9252 - val_loss: 161.6626\n",
      "Epoch 50/800\n",
      "5/5 [==============================] - 0s 8ms/step - loss: 150.1989 - val_loss: 161.4387\n",
      "Epoch 51/800\n",
      "5/5 [==============================] - 0s 7ms/step - loss: 149.7179 - val_loss: 160.6634\n",
      "Epoch 52/800\n",
      "5/5 [==============================] - 0s 6ms/step - loss: 149.1886 - val_loss: 159.8393\n",
      "Epoch 53/800\n",
      "5/5 [==============================] - 0s 6ms/step - loss: 148.2990 - val_loss: 159.7037\n",
      "Epoch 54/800\n",
      "5/5 [==============================] - 0s 7ms/step - loss: 147.7547 - val_loss: 159.4440\n",
      "Epoch 55/800\n",
      "5/5 [==============================] - 0s 7ms/step - loss: 147.2416 - val_loss: 158.4186\n",
      "Epoch 56/800\n",
      "5/5 [==============================] - 0s 6ms/step - loss: 146.3874 - val_loss: 157.3858\n",
      "Epoch 57/800\n",
      "5/5 [==============================] - 0s 6ms/step - loss: 145.5103 - val_loss: 155.8500\n",
      "Epoch 58/800\n",
      "5/5 [==============================] - 0s 6ms/step - loss: 144.8437 - val_loss: 154.0327\n",
      "Epoch 59/800\n",
      "5/5 [==============================] - 0s 6ms/step - loss: 144.2618 - val_loss: 153.0999\n",
      "Epoch 60/800\n",
      "5/5 [==============================] - 0s 6ms/step - loss: 143.9726 - val_loss: 151.9504\n",
      "Epoch 61/800\n",
      "5/5 [==============================] - 0s 8ms/step - loss: 143.1451 - val_loss: 151.4906\n",
      "Epoch 62/800\n",
      "5/5 [==============================] - 0s 8ms/step - loss: 142.6768 - val_loss: 151.3595\n",
      "Epoch 63/800\n",
      "5/5 [==============================] - 0s 8ms/step - loss: 141.4845 - val_loss: 150.7615\n",
      "Epoch 64/800\n",
      "5/5 [==============================] - 0s 7ms/step - loss: 140.8440 - val_loss: 150.0580\n",
      "Epoch 65/800\n",
      "5/5 [==============================] - 0s 9ms/step - loss: 140.1085 - val_loss: 149.5819\n",
      "Epoch 66/800\n",
      "5/5 [==============================] - 0s 7ms/step - loss: 139.4792 - val_loss: 148.7016\n",
      "Epoch 67/800\n",
      "5/5 [==============================] - 0s 10ms/step - loss: 138.9296 - val_loss: 148.4256\n",
      "Epoch 68/800\n",
      "5/5 [==============================] - 0s 6ms/step - loss: 138.1262 - val_loss: 147.2798\n",
      "Epoch 69/800\n",
      "5/5 [==============================] - 0s 6ms/step - loss: 137.5331 - val_loss: 145.8021\n",
      "Epoch 70/800\n",
      "5/5 [==============================] - 0s 4ms/step - loss: 136.7713 - val_loss: 144.8921\n",
      "Epoch 71/800\n",
      "5/5 [==============================] - 0s 6ms/step - loss: 136.0567 - val_loss: 144.3931\n",
      "Epoch 72/800\n",
      "5/5 [==============================] - 0s 4ms/step - loss: 135.5614 - val_loss: 144.6230\n",
      "Epoch 73/800\n",
      "5/5 [==============================] - 0s 6ms/step - loss: 135.1100 - val_loss: 144.2489\n",
      "Epoch 74/800\n",
      "5/5 [==============================] - 0s 9ms/step - loss: 134.1018 - val_loss: 142.9333\n",
      "Epoch 75/800\n",
      "5/5 [==============================] - 0s 7ms/step - loss: 133.4025 - val_loss: 141.6196\n",
      "Epoch 76/800\n",
      "5/5 [==============================] - 0s 6ms/step - loss: 132.5648 - val_loss: 140.6712\n",
      "Epoch 77/800\n",
      "5/5 [==============================] - 0s 6ms/step - loss: 131.8312 - val_loss: 140.3749\n",
      "Epoch 78/800\n",
      "5/5 [==============================] - 0s 8ms/step - loss: 131.0098 - val_loss: 139.6189\n",
      "Epoch 79/800\n",
      "5/5 [==============================] - 0s 8ms/step - loss: 130.2059 - val_loss: 139.1808\n",
      "Epoch 80/800\n",
      "5/5 [==============================] - 0s 8ms/step - loss: 129.4620 - val_loss: 138.6739\n"
     ]
    },
    {
     "name": "stdout",
     "output_type": "stream",
     "text": [
      "Epoch 81/800\n",
      "5/5 [==============================] - 0s 6ms/step - loss: 128.9804 - val_loss: 137.5432\n",
      "Epoch 82/800\n",
      "5/5 [==============================] - 0s 5ms/step - loss: 127.9851 - val_loss: 136.9648\n",
      "Epoch 83/800\n",
      "5/5 [==============================] - 0s 6ms/step - loss: 127.7150 - val_loss: 134.6295\n",
      "Epoch 84/800\n",
      "5/5 [==============================] - 0s 8ms/step - loss: 126.4675 - val_loss: 133.5115\n",
      "Epoch 85/800\n",
      "5/5 [==============================] - 0s 6ms/step - loss: 125.7928 - val_loss: 132.2115\n",
      "Epoch 86/800\n",
      "5/5 [==============================] - 0s 6ms/step - loss: 125.3279 - val_loss: 131.3960\n",
      "Epoch 87/800\n",
      "5/5 [==============================] - 0s 6ms/step - loss: 124.4321 - val_loss: 130.9488\n",
      "Epoch 88/800\n",
      "5/5 [==============================] - 0s 6ms/step - loss: 124.1448 - val_loss: 131.2327\n",
      "Epoch 89/800\n",
      "5/5 [==============================] - 0s 6ms/step - loss: 122.6113 - val_loss: 130.1448\n",
      "Epoch 90/800\n",
      "5/5 [==============================] - 0s 6ms/step - loss: 122.5216 - val_loss: 128.4034\n",
      "Epoch 91/800\n",
      "5/5 [==============================] - 0s 6ms/step - loss: 121.2511 - val_loss: 127.4013\n",
      "Epoch 92/800\n",
      "5/5 [==============================] - 0s 6ms/step - loss: 120.3947 - val_loss: 126.6188\n",
      "Epoch 93/800\n",
      "5/5 [==============================] - 0s 6ms/step - loss: 119.7157 - val_loss: 126.7489\n",
      "Epoch 94/800\n",
      "5/5 [==============================] - 0s 6ms/step - loss: 118.5179 - val_loss: 124.6590\n",
      "Epoch 95/800\n",
      "5/5 [==============================] - 0s 5ms/step - loss: 117.2407 - val_loss: 123.6767\n",
      "Epoch 96/800\n",
      "5/5 [==============================] - 0s 4ms/step - loss: 116.2185 - val_loss: 123.0766\n",
      "Epoch 97/800\n",
      "5/5 [==============================] - 0s 6ms/step - loss: 115.1426 - val_loss: 121.8947\n",
      "Epoch 98/800\n",
      "5/5 [==============================] - 0s 7ms/step - loss: 114.0597 - val_loss: 121.0192\n",
      "Epoch 99/800\n",
      "5/5 [==============================] - 0s 6ms/step - loss: 113.1465 - val_loss: 120.1492\n",
      "Epoch 100/800\n",
      "5/5 [==============================] - 0s 6ms/step - loss: 112.0105 - val_loss: 118.6525\n",
      "Epoch 101/800\n",
      "5/5 [==============================] - 0s 7ms/step - loss: 111.0322 - val_loss: 117.2425\n",
      "Epoch 102/800\n",
      "5/5 [==============================] - ETA: 0s - loss: 108.321 - 0s 5ms/step - loss: 111.0626 - val_loss: 115.4954\n",
      "Epoch 103/800\n",
      "5/5 [==============================] - 0s 8ms/step - loss: 109.7966 - val_loss: 114.7434\n",
      "Epoch 104/800\n",
      "5/5 [==============================] - 0s 6ms/step - loss: 108.5001 - val_loss: 114.3095\n",
      "Epoch 105/800\n",
      "5/5 [==============================] - 0s 6ms/step - loss: 107.4620 - val_loss: 113.3726\n",
      "Epoch 106/800\n",
      "5/5 [==============================] - 0s 6ms/step - loss: 106.5476 - val_loss: 113.0063\n",
      "Epoch 107/800\n",
      "5/5 [==============================] - 0s 6ms/step - loss: 105.6843 - val_loss: 112.0541\n",
      "Epoch 108/800\n",
      "5/5 [==============================] - 0s 6ms/step - loss: 104.7925 - val_loss: 110.8886\n",
      "Epoch 109/800\n",
      "5/5 [==============================] - 0s 6ms/step - loss: 103.8226 - val_loss: 109.8441\n",
      "Epoch 110/800\n",
      "5/5 [==============================] - 0s 8ms/step - loss: 103.0571 - val_loss: 109.0655\n",
      "Epoch 111/800\n",
      "5/5 [==============================] - 0s 6ms/step - loss: 102.2209 - val_loss: 108.5960\n",
      "Epoch 112/800\n",
      "5/5 [==============================] - 0s 6ms/step - loss: 101.4011 - val_loss: 108.1244\n",
      "Epoch 113/800\n",
      "5/5 [==============================] - 0s 4ms/step - loss: 100.7085 - val_loss: 106.7090\n",
      "Epoch 114/800\n",
      "5/5 [==============================] - 0s 6ms/step - loss: 99.6416 - val_loss: 105.5941\n",
      "Epoch 115/800\n",
      "5/5 [==============================] - 0s 6ms/step - loss: 98.2240 - val_loss: 103.7823\n",
      "Epoch 116/800\n",
      "5/5 [==============================] - 0s 6ms/step - loss: 97.3407 - val_loss: 102.4354\n",
      "Epoch 117/800\n",
      "5/5 [==============================] - 0s 6ms/step - loss: 96.8346 - val_loss: 101.2837\n",
      "Epoch 118/800\n",
      "5/5 [==============================] - 0s 6ms/step - loss: 95.7103 - val_loss: 100.4822\n",
      "Epoch 119/800\n",
      "5/5 [==============================] - 0s 6ms/step - loss: 94.5824 - val_loss: 100.0364\n",
      "Epoch 120/800\n",
      "5/5 [==============================] - 0s 6ms/step - loss: 93.9988 - val_loss: 99.4504\n",
      "Epoch 121/800\n",
      "5/5 [==============================] - 0s 6ms/step - loss: 92.8965 - val_loss: 97.5866\n",
      "Epoch 122/800\n",
      "5/5 [==============================] - 0s 8ms/step - loss: 92.2726 - val_loss: 96.2025\n",
      "Epoch 123/800\n",
      "5/5 [==============================] - 0s 6ms/step - loss: 92.4683 - val_loss: 95.2679\n",
      "Epoch 124/800\n",
      "5/5 [==============================] - 0s 5ms/step - loss: 91.4575 - val_loss: 94.2042\n",
      "Epoch 125/800\n",
      "5/5 [==============================] - 0s 6ms/step - loss: 89.5984 - val_loss: 94.0187\n",
      "Epoch 126/800\n",
      "5/5 [==============================] - 0s 6ms/step - loss: 89.2410 - val_loss: 95.1161\n",
      "Epoch 127/800\n",
      "5/5 [==============================] - ETA: 0s - loss: 69.99 - 0s 6ms/step - loss: 89.2095 - val_loss: 94.9439\n",
      "Epoch 128/800\n",
      "5/5 [==============================] - 0s 6ms/step - loss: 89.0133 - val_loss: 93.9036\n",
      "Epoch 129/800\n",
      "5/5 [==============================] - 0s 6ms/step - loss: 87.2227 - val_loss: 91.2904\n",
      "Epoch 130/800\n",
      "5/5 [==============================] - 0s 7ms/step - loss: 85.7957 - val_loss: 89.7472\n",
      "Epoch 131/800\n",
      "5/5 [==============================] - 0s 6ms/step - loss: 84.7997 - val_loss: 88.8390\n",
      "Epoch 132/800\n",
      "5/5 [==============================] - 0s 5ms/step - loss: 83.9327 - val_loss: 88.2705\n",
      "Epoch 133/800\n",
      "5/5 [==============================] - 0s 6ms/step - loss: 83.1295 - val_loss: 87.3779\n",
      "Epoch 134/800\n",
      "5/5 [==============================] - 0s 6ms/step - loss: 82.3858 - val_loss: 86.6019\n",
      "Epoch 135/800\n",
      "5/5 [==============================] - 0s 6ms/step - loss: 81.3092 - val_loss: 84.9063\n",
      "Epoch 136/800\n",
      "5/5 [==============================] - 0s 6ms/step - loss: 80.6194 - val_loss: 83.5929\n",
      "Epoch 137/800\n",
      "5/5 [==============================] - 0s 6ms/step - loss: 79.8455 - val_loss: 82.7873\n",
      "Epoch 138/800\n",
      "5/5 [==============================] - 0s 6ms/step - loss: 78.8682 - val_loss: 81.6171\n",
      "Epoch 139/800\n",
      "5/5 [==============================] - 0s 6ms/step - loss: 78.1541 - val_loss: 80.6962\n",
      "Epoch 140/800\n",
      "5/5 [==============================] - 0s 6ms/step - loss: 77.2728 - val_loss: 79.9645\n",
      "Epoch 141/800\n",
      "5/5 [==============================] - 0s 7ms/step - loss: 76.5430 - val_loss: 79.2289\n",
      "Epoch 142/800\n",
      "5/5 [==============================] - 0s 4ms/step - loss: 75.9753 - val_loss: 78.0362\n",
      "Epoch 143/800\n",
      "5/5 [==============================] - 0s 4ms/step - loss: 75.0455 - val_loss: 77.2473\n",
      "Epoch 144/800\n",
      "5/5 [==============================] - 0s 6ms/step - loss: 74.4667 - val_loss: 76.1285\n",
      "Epoch 145/800\n",
      "5/5 [==============================] - 0s 6ms/step - loss: 73.3876 - val_loss: 75.3993\n",
      "Epoch 146/800\n",
      "5/5 [==============================] - 0s 6ms/step - loss: 72.4416 - val_loss: 74.7657\n",
      "Epoch 147/800\n",
      "5/5 [==============================] - 0s 6ms/step - loss: 71.8248 - val_loss: 73.8776\n",
      "Epoch 148/800\n",
      "5/5 [==============================] - 0s 6ms/step - loss: 71.2304 - val_loss: 72.5363\n",
      "Epoch 149/800\n",
      "5/5 [==============================] - 0s 6ms/step - loss: 70.0874 - val_loss: 71.8059\n",
      "Epoch 150/800\n",
      "5/5 [==============================] - 0s 8ms/step - loss: 69.2719 - val_loss: 70.7965\n",
      "Epoch 151/800\n",
      "5/5 [==============================] - 0s 8ms/step - loss: 68.8750 - val_loss: 69.7910\n",
      "Epoch 152/800\n",
      "5/5 [==============================] - 0s 8ms/step - loss: 67.5394 - val_loss: 69.1102\n",
      "Epoch 153/800\n",
      "5/5 [==============================] - 0s 8ms/step - loss: 67.6968 - val_loss: 69.4828\n",
      "Epoch 154/800\n",
      "5/5 [==============================] - 0s 8ms/step - loss: 67.1035 - val_loss: 68.4462\n",
      "Epoch 155/800\n",
      "5/5 [==============================] - 0s 6ms/step - loss: 66.0036 - val_loss: 66.2156\n",
      "Epoch 156/800\n",
      "5/5 [==============================] - 0s 6ms/step - loss: 64.3853 - val_loss: 65.1221\n",
      "Epoch 157/800\n",
      "5/5 [==============================] - 0s 6ms/step - loss: 63.6411 - val_loss: 64.0512\n",
      "Epoch 158/800\n",
      "5/5 [==============================] - 0s 6ms/step - loss: 63.2572 - val_loss: 63.1261\n",
      "Epoch 159/800\n",
      "5/5 [==============================] - 0s 8ms/step - loss: 62.2352 - val_loss: 62.1382\n",
      "Epoch 160/800\n",
      "5/5 [==============================] - 0s 6ms/step - loss: 61.3897 - val_loss: 61.4487\n",
      "Epoch 161/800\n"
     ]
    },
    {
     "name": "stdout",
     "output_type": "stream",
     "text": [
      "5/5 [==============================] - 0s 6ms/step - loss: 60.5551 - val_loss: 60.4912\n",
      "Epoch 162/800\n",
      "5/5 [==============================] - 0s 7ms/step - loss: 60.4022 - val_loss: 59.5621\n",
      "Epoch 163/800\n",
      "5/5 [==============================] - 0s 4ms/step - loss: 59.0026 - val_loss: 58.6845\n",
      "Epoch 164/800\n",
      "5/5 [==============================] - 0s 8ms/step - loss: 58.1086 - val_loss: 58.0446\n",
      "Epoch 165/800\n",
      "5/5 [==============================] - 0s 6ms/step - loss: 57.7593 - val_loss: 57.7548\n",
      "Epoch 166/800\n",
      "5/5 [==============================] - 0s 6ms/step - loss: 56.8905 - val_loss: 56.4951\n",
      "Epoch 167/800\n",
      "5/5 [==============================] - 0s 8ms/step - loss: 55.9189 - val_loss: 55.4621\n",
      "Epoch 168/800\n",
      "5/5 [==============================] - 0s 6ms/step - loss: 55.1457 - val_loss: 54.6368\n",
      "Epoch 169/800\n",
      "5/5 [==============================] - 0s 6ms/step - loss: 54.2567 - val_loss: 53.9628\n",
      "Epoch 170/800\n",
      "5/5 [==============================] - 0s 4ms/step - loss: 53.8736 - val_loss: 53.3184\n",
      "Epoch 171/800\n",
      "5/5 [==============================] - 0s 6ms/step - loss: 52.6951 - val_loss: 52.0373\n",
      "Epoch 172/800\n",
      "5/5 [==============================] - 0s 6ms/step - loss: 52.1216 - val_loss: 51.1187\n",
      "Epoch 173/800\n",
      "5/5 [==============================] - 0s 10ms/step - loss: 51.4494 - val_loss: 50.3240\n",
      "Epoch 174/800\n",
      "5/5 [==============================] - 0s 8ms/step - loss: 50.4614 - val_loss: 49.3632\n",
      "Epoch 175/800\n",
      "5/5 [==============================] - 0s 6ms/step - loss: 49.6960 - val_loss: 48.7131\n",
      "Epoch 176/800\n",
      "5/5 [==============================] - 0s 6ms/step - loss: 48.9057 - val_loss: 47.8781\n",
      "Epoch 177/800\n",
      "5/5 [==============================] - 0s 6ms/step - loss: 48.0244 - val_loss: 46.8878\n",
      "Epoch 178/800\n",
      "5/5 [==============================] - 0s 8ms/step - loss: 47.3724 - val_loss: 45.9816\n",
      "Epoch 179/800\n",
      "5/5 [==============================] - 0s 8ms/step - loss: 46.6834 - val_loss: 45.1720\n",
      "Epoch 180/800\n",
      "5/5 [==============================] - 0s 6ms/step - loss: 45.6754 - val_loss: 44.5918\n",
      "Epoch 181/800\n",
      "5/5 [==============================] - 0s 6ms/step - loss: 45.3299 - val_loss: 44.0861\n",
      "Epoch 182/800\n",
      "5/5 [==============================] - 0s 4ms/step - loss: 44.6161 - val_loss: 42.8307\n",
      "Epoch 183/800\n",
      "5/5 [==============================] - 0s 4ms/step - loss: 43.4621 - val_loss: 42.0537\n",
      "Epoch 184/800\n",
      "5/5 [==============================] - 0s 5ms/step - loss: 42.9991 - val_loss: 41.2354\n",
      "Epoch 185/800\n",
      "5/5 [==============================] - 0s 6ms/step - loss: 42.2155 - val_loss: 40.2567\n",
      "Epoch 186/800\n",
      "5/5 [==============================] - 0s 7ms/step - loss: 41.3318 - val_loss: 39.5960\n",
      "Epoch 187/800\n",
      "5/5 [==============================] - 0s 9ms/step - loss: 40.7418 - val_loss: 39.1352\n",
      "Epoch 188/800\n",
      "5/5 [==============================] - 0s 8ms/step - loss: 40.0940 - val_loss: 37.9339\n",
      "Epoch 189/800\n",
      "5/5 [==============================] - 0s 4ms/step - loss: 39.4035 - val_loss: 37.1073\n",
      "Epoch 190/800\n",
      "5/5 [==============================] - 0s 6ms/step - loss: 38.5100 - val_loss: 36.3579\n",
      "Epoch 191/800\n",
      "5/5 [==============================] - 0s 6ms/step - loss: 37.9109 - val_loss: 35.9024\n",
      "Epoch 192/800\n",
      "5/5 [==============================] - 0s 6ms/step - loss: 37.1416 - val_loss: 34.7790\n",
      "Epoch 193/800\n",
      "5/5 [==============================] - 0s 6ms/step - loss: 36.1302 - val_loss: 34.2178\n",
      "Epoch 194/800\n",
      "5/5 [==============================] - 0s 6ms/step - loss: 35.7457 - val_loss: 33.5631\n",
      "Epoch 195/800\n",
      "5/5 [==============================] - 0s 6ms/step - loss: 35.2231 - val_loss: 32.4819\n",
      "Epoch 196/800\n",
      "5/5 [==============================] - 0s 6ms/step - loss: 34.0490 - val_loss: 31.8220\n",
      "Epoch 197/800\n",
      "5/5 [==============================] - 0s 6ms/step - loss: 33.6048 - val_loss: 31.0987\n",
      "Epoch 198/800\n",
      "5/5 [==============================] - 0s 8ms/step - loss: 33.0083 - val_loss: 29.9050\n",
      "Epoch 199/800\n",
      "5/5 [==============================] - 0s 6ms/step - loss: 32.3327 - val_loss: 29.2928\n",
      "Epoch 200/800\n",
      "5/5 [==============================] - 0s 6ms/step - loss: 31.3640 - val_loss: 28.4526\n",
      "Epoch 201/800\n",
      "5/5 [==============================] - 0s 6ms/step - loss: 30.6811 - val_loss: 27.8490\n",
      "Epoch 202/800\n",
      "5/5 [==============================] - 0s 8ms/step - loss: 29.9526 - val_loss: 26.9546\n",
      "Epoch 203/800\n",
      "5/5 [==============================] - 0s 6ms/step - loss: 29.2794 - val_loss: 26.4253\n",
      "Epoch 204/800\n",
      "5/5 [==============================] - 0s 6ms/step - loss: 28.9818 - val_loss: 25.7796\n",
      "Epoch 205/800\n",
      "5/5 [==============================] - 0s 6ms/step - loss: 28.0919 - val_loss: 24.9072\n",
      "Epoch 206/800\n",
      "5/5 [==============================] - 0s 6ms/step - loss: 27.1431 - val_loss: 24.8979\n",
      "Epoch 207/800\n",
      "5/5 [==============================] - 0s 8ms/step - loss: 27.0531 - val_loss: 23.8741\n",
      "Epoch 208/800\n",
      "5/5 [==============================] - 0s 6ms/step - loss: 26.1969 - val_loss: 22.8899\n",
      "Epoch 209/800\n",
      "5/5 [==============================] - 0s 4ms/step - loss: 25.5716 - val_loss: 22.2480\n",
      "Epoch 210/800\n",
      "5/5 [==============================] - 0s 6ms/step - loss: 24.6863 - val_loss: 21.6391\n",
      "Epoch 211/800\n",
      "5/5 [==============================] - 0s 6ms/step - loss: 24.0235 - val_loss: 21.0029\n",
      "Epoch 212/800\n",
      "5/5 [==============================] - 0s 6ms/step - loss: 23.3627 - val_loss: 20.3634\n",
      "Epoch 213/800\n",
      "5/5 [==============================] - 0s 4ms/step - loss: 22.7307 - val_loss: 19.7463\n",
      "Epoch 214/800\n",
      "5/5 [==============================] - 0s 6ms/step - loss: 22.0923 - val_loss: 19.1854\n",
      "Epoch 215/800\n",
      "5/5 [==============================] - 0s 5ms/step - loss: 21.5791 - val_loss: 18.6116\n",
      "Epoch 216/800\n",
      "5/5 [==============================] - 0s 7ms/step - loss: 20.9919 - val_loss: 18.0330\n",
      "Epoch 217/800\n",
      "5/5 [==============================] - 0s 10ms/step - loss: 20.3456 - val_loss: 17.4675\n",
      "Epoch 218/800\n",
      "5/5 [==============================] - 0s 6ms/step - loss: 19.7197 - val_loss: 16.9318\n",
      "Epoch 219/800\n",
      "5/5 [==============================] - 0s 6ms/step - loss: 19.1604 - val_loss: 16.3845\n",
      "Epoch 220/800\n",
      "5/5 [==============================] - 0s 6ms/step - loss: 18.6501 - val_loss: 15.8849\n",
      "Epoch 221/800\n",
      "5/5 [==============================] - 0s 6ms/step - loss: 18.0873 - val_loss: 15.4496\n",
      "Epoch 222/800\n",
      "5/5 [==============================] - 0s 6ms/step - loss: 17.6000 - val_loss: 14.9013\n",
      "Epoch 223/800\n",
      "5/5 [==============================] - 0s 6ms/step - loss: 17.2363 - val_loss: 14.6775\n",
      "Epoch 224/800\n",
      "5/5 [==============================] - 0s 7ms/step - loss: 16.5494 - val_loss: 14.0346\n",
      "Epoch 225/800\n",
      "5/5 [==============================] - 0s 6ms/step - loss: 15.9680 - val_loss: 13.6043\n",
      "Epoch 226/800\n",
      "5/5 [==============================] - ETA: 0s - loss: 25.49 - 0s 6ms/step - loss: 15.6334 - val_loss: 13.0748\n",
      "Epoch 227/800\n",
      "5/5 [==============================] - 0s 5ms/step - loss: 15.1115 - val_loss: 12.6394\n",
      "Epoch 228/800\n",
      "5/5 [==============================] - 0s 6ms/step - loss: 14.6452 - val_loss: 12.2100\n",
      "Epoch 229/800\n",
      "5/5 [==============================] - 0s 6ms/step - loss: 14.1282 - val_loss: 11.8416\n",
      "Epoch 230/800\n",
      "5/5 [==============================] - 0s 7ms/step - loss: 13.7888 - val_loss: 11.4951\n",
      "Epoch 231/800\n",
      "5/5 [==============================] - 0s 5ms/step - loss: 13.3453 - val_loss: 11.1683\n",
      "Epoch 232/800\n",
      "5/5 [==============================] - 0s 6ms/step - loss: 12.9983 - val_loss: 10.7704\n",
      "Epoch 233/800\n",
      "5/5 [==============================] - 0s 6ms/step - loss: 12.7073 - val_loss: 10.4309\n",
      "Epoch 234/800\n",
      "5/5 [==============================] - 0s 5ms/step - loss: 12.3069 - val_loss: 10.0457\n",
      "Epoch 235/800\n",
      "5/5 [==============================] - 0s 6ms/step - loss: 11.9053 - val_loss: 9.7346\n",
      "Epoch 236/800\n",
      "5/5 [==============================] - 0s 8ms/step - loss: 11.5506 - val_loss: 9.3913\n",
      "Epoch 237/800\n",
      "5/5 [==============================] - 0s 6ms/step - loss: 11.2549 - val_loss: 9.0295\n",
      "Epoch 238/800\n",
      "5/5 [==============================] - 0s 6ms/step - loss: 10.9157 - val_loss: 8.8885\n",
      "Epoch 239/800\n",
      "5/5 [==============================] - 0s 6ms/step - loss: 10.5865 - val_loss: 8.4945\n",
      "Epoch 240/800\n",
      "5/5 [==============================] - 0s 6ms/step - loss: 10.4730 - val_loss: 8.2469\n",
      "Epoch 241/800\n",
      "5/5 [==============================] - 0s 6ms/step - loss: 10.0717 - val_loss: 7.9491\n",
      "Epoch 242/800\n"
     ]
    },
    {
     "name": "stdout",
     "output_type": "stream",
     "text": [
      "5/5 [==============================] - 0s 6ms/step - loss: 9.7825 - val_loss: 7.7523\n",
      "Epoch 243/800\n",
      "5/5 [==============================] - 0s 6ms/step - loss: 9.4717 - val_loss: 7.4090\n",
      "Epoch 244/800\n",
      "5/5 [==============================] - 0s 6ms/step - loss: 9.2210 - val_loss: 7.1454\n",
      "Epoch 245/800\n",
      "5/5 [==============================] - 0s 6ms/step - loss: 9.1153 - val_loss: 6.9581\n",
      "Epoch 246/800\n",
      "5/5 [==============================] - 0s 6ms/step - loss: 8.7377 - val_loss: 6.7122\n",
      "Epoch 247/800\n",
      "5/5 [==============================] - 0s 6ms/step - loss: 8.6444 - val_loss: 6.7425\n",
      "Epoch 248/800\n",
      "5/5 [==============================] - 0s 6ms/step - loss: 8.6055 - val_loss: 6.2042\n",
      "Epoch 249/800\n",
      "5/5 [==============================] - 0s 8ms/step - loss: 7.9656 - val_loss: 6.2945\n",
      "Epoch 250/800\n",
      "5/5 [==============================] - 0s 6ms/step - loss: 8.2146 - val_loss: 6.2469\n",
      "Epoch 251/800\n",
      "5/5 [==============================] - 0s 6ms/step - loss: 7.7675 - val_loss: 5.5807\n",
      "Epoch 252/800\n",
      "5/5 [==============================] - 0s 8ms/step - loss: 7.5719 - val_loss: 5.4898\n",
      "Epoch 253/800\n",
      "5/5 [==============================] - 0s 8ms/step - loss: 7.4380 - val_loss: 5.2238\n",
      "Epoch 254/800\n",
      "5/5 [==============================] - 0s 8ms/step - loss: 7.1355 - val_loss: 5.1099\n",
      "Epoch 255/800\n",
      "5/5 [==============================] - 0s 9ms/step - loss: 7.1107 - val_loss: 5.0501\n",
      "Epoch 256/800\n",
      "5/5 [==============================] - 0s 6ms/step - loss: 6.8074 - val_loss: 4.7856\n",
      "Epoch 257/800\n",
      "5/5 [==============================] - 0s 7ms/step - loss: 6.9420 - val_loss: 4.6835\n",
      "Epoch 258/800\n",
      "5/5 [==============================] - 0s 5ms/step - loss: 6.6706 - val_loss: 4.7554\n",
      "Epoch 259/800\n",
      "5/5 [==============================] - 0s 6ms/step - loss: 6.4587 - val_loss: 4.4317\n",
      "Epoch 260/800\n",
      "5/5 [==============================] - 0s 6ms/step - loss: 6.2618 - val_loss: 4.2916\n",
      "Epoch 261/800\n",
      "5/5 [==============================] - 0s 6ms/step - loss: 6.2683 - val_loss: 4.1691\n",
      "Epoch 262/800\n",
      "5/5 [==============================] - 0s 6ms/step - loss: 6.0713 - val_loss: 4.3686\n",
      "Epoch 263/800\n",
      "5/5 [==============================] - 0s 6ms/step - loss: 6.0012 - val_loss: 4.0476\n",
      "Epoch 264/800\n",
      "5/5 [==============================] - 0s 6ms/step - loss: 5.7259 - val_loss: 3.8584\n",
      "Epoch 265/800\n",
      "5/5 [==============================] - 0s 8ms/step - loss: 5.6987 - val_loss: 3.7814\n",
      "Epoch 266/800\n",
      "5/5 [==============================] - 0s 8ms/step - loss: 5.5244 - val_loss: 3.7976\n",
      "Epoch 267/800\n",
      "5/5 [==============================] - ETA: 0s - loss: 1.529 - 0s 8ms/step - loss: 5.6010 - val_loss: 4.0214\n",
      "Epoch 268/800\n",
      "5/5 [==============================] - 0s 8ms/step - loss: 5.4465 - val_loss: 3.4782\n",
      "Epoch 269/800\n",
      "5/5 [==============================] - 0s 8ms/step - loss: 5.2952 - val_loss: 3.4215\n",
      "Epoch 270/800\n",
      "5/5 [==============================] - 0s 8ms/step - loss: 5.2248 - val_loss: 3.3439\n",
      "Epoch 271/800\n",
      "5/5 [==============================] - 0s 8ms/step - loss: 5.0309 - val_loss: 3.4028\n",
      "Epoch 272/800\n",
      "5/5 [==============================] - 0s 8ms/step - loss: 4.9354 - val_loss: 3.2392\n",
      "Epoch 273/800\n",
      "5/5 [==============================] - 0s 9ms/step - loss: 4.8352 - val_loss: 3.1518\n",
      "Epoch 274/800\n",
      "5/5 [==============================] - 0s 6ms/step - loss: 4.7354 - val_loss: 3.0756\n",
      "Epoch 275/800\n",
      "5/5 [==============================] - 0s 6ms/step - loss: 4.6634 - val_loss: 3.0261\n",
      "Epoch 276/800\n",
      "5/5 [==============================] - 0s 6ms/step - loss: 4.5651 - val_loss: 2.9600\n",
      "Epoch 277/800\n",
      "5/5 [==============================] - 0s 6ms/step - loss: 4.5050 - val_loss: 2.9290\n",
      "Epoch 278/800\n",
      "5/5 [==============================] - ETA: 0s - loss: 10.16 - 0s 6ms/step - loss: 4.4420 - val_loss: 2.8567\n",
      "Epoch 279/800\n",
      "5/5 [==============================] - 0s 7ms/step - loss: 4.3360 - val_loss: 2.7464\n",
      "Epoch 280/800\n",
      "5/5 [==============================] - 0s 6ms/step - loss: 4.2329 - val_loss: 2.6284\n",
      "Epoch 281/800\n",
      "5/5 [==============================] - 0s 8ms/step - loss: 4.3582 - val_loss: 2.5829\n",
      "Epoch 282/800\n",
      "5/5 [==============================] - 0s 8ms/step - loss: 4.2054 - val_loss: 2.6301\n",
      "Epoch 283/800\n",
      "5/5 [==============================] - 0s 8ms/step - loss: 4.1642 - val_loss: 2.5897\n",
      "Epoch 284/800\n",
      "5/5 [==============================] - 0s 7ms/step - loss: 4.0314 - val_loss: 2.4185\n",
      "Epoch 285/800\n",
      "5/5 [==============================] - 0s 8ms/step - loss: 4.0028 - val_loss: 2.3549\n",
      "Epoch 286/800\n",
      "5/5 [==============================] - 0s 6ms/step - loss: 3.9749 - val_loss: 2.6892\n",
      "Epoch 287/800\n",
      "5/5 [==============================] - 0s 6ms/step - loss: 4.0719 - val_loss: 2.4672\n",
      "Epoch 288/800\n",
      "5/5 [==============================] - 0s 6ms/step - loss: 3.8467 - val_loss: 2.3200\n",
      "Epoch 289/800\n",
      "5/5 [==============================] - 0s 6ms/step - loss: 3.8895 - val_loss: 2.2413\n",
      "Epoch 290/800\n",
      "5/5 [==============================] - 0s 8ms/step - loss: 3.7611 - val_loss: 2.2841\n",
      "Epoch 291/800\n",
      "5/5 [==============================] - 0s 8ms/step - loss: 3.6769 - val_loss: 2.3147\n",
      "Epoch 292/800\n",
      "5/5 [==============================] - 0s 7ms/step - loss: 3.7642 - val_loss: 2.3348\n",
      "Epoch 293/800\n",
      "5/5 [==============================] - 0s 7ms/step - loss: 3.6903 - val_loss: 2.1440\n",
      "Epoch 294/800\n",
      "5/5 [==============================] - 0s 8ms/step - loss: 3.5122 - val_loss: 2.3892\n",
      "Epoch 295/800\n",
      "5/5 [==============================] - 0s 6ms/step - loss: 3.7144 - val_loss: 2.4185\n",
      "Epoch 296/800\n",
      "5/5 [==============================] - 0s 6ms/step - loss: 3.5415 - val_loss: 2.0105\n",
      "Epoch 297/800\n",
      "5/5 [==============================] - 0s 6ms/step - loss: 3.5914 - val_loss: 1.9730\n",
      "Epoch 298/800\n",
      "5/5 [==============================] - 0s 6ms/step - loss: 3.4988 - val_loss: 2.0310\n",
      "Epoch 299/800\n",
      "5/5 [==============================] - 0s 7ms/step - loss: 3.5799 - val_loss: 2.1106\n",
      "Epoch 300/800\n",
      "5/5 [==============================] - 0s 8ms/step - loss: 3.4562 - val_loss: 1.9117\n",
      "Epoch 301/800\n",
      "5/5 [==============================] - 0s 7ms/step - loss: 3.6386 - val_loss: 2.1278\n",
      "Epoch 302/800\n",
      "5/5 [==============================] - 0s 7ms/step - loss: 3.2928 - val_loss: 1.8379\n",
      "Epoch 303/800\n",
      "5/5 [==============================] - 0s 10ms/step - loss: 3.3702 - val_loss: 1.8106\n",
      "Epoch 304/800\n",
      "5/5 [==============================] - 0s 6ms/step - loss: 3.2905 - val_loss: 1.8396\n",
      "Epoch 305/800\n",
      "5/5 [==============================] - 0s 9ms/step - loss: 3.2372 - val_loss: 1.8322\n",
      "Epoch 306/800\n",
      "5/5 [==============================] - 0s 8ms/step - loss: 3.2100 - val_loss: 1.7512\n",
      "Epoch 307/800\n",
      "5/5 [==============================] - 0s 6ms/step - loss: 3.2018 - val_loss: 1.7697\n",
      "Epoch 308/800\n",
      "5/5 [==============================] - 0s 6ms/step - loss: 3.1499 - val_loss: 1.7850\n",
      "Epoch 309/800\n",
      "5/5 [==============================] - 0s 4ms/step - loss: 3.0934 - val_loss: 1.7640\n",
      "Epoch 310/800\n",
      "5/5 [==============================] - 0s 6ms/step - loss: 3.1936 - val_loss: 1.7510\n",
      "Epoch 311/800\n",
      "5/5 [==============================] - 0s 6ms/step - loss: 3.0545 - val_loss: 1.8990\n",
      "Epoch 312/800\n",
      "5/5 [==============================] - 0s 8ms/step - loss: 3.0962 - val_loss: 1.6791\n",
      "Epoch 313/800\n",
      "5/5 [==============================] - 0s 6ms/step - loss: 3.0202 - val_loss: 1.6539\n",
      "Epoch 314/800\n",
      "5/5 [==============================] - 0s 6ms/step - loss: 2.9896 - val_loss: 1.6923\n",
      "Epoch 315/800\n",
      "5/5 [==============================] - 0s 8ms/step - loss: 2.9816 - val_loss: 1.6243\n",
      "Epoch 316/800\n",
      "5/5 [==============================] - 0s 6ms/step - loss: 2.9512 - val_loss: 1.5751\n",
      "Epoch 317/800\n",
      "5/5 [==============================] - 0s 6ms/step - loss: 2.9483 - val_loss: 1.6239\n",
      "Epoch 318/800\n",
      "5/5 [==============================] - 0s 8ms/step - loss: 2.9014 - val_loss: 1.6254\n",
      "Epoch 319/800\n",
      "5/5 [==============================] - 0s 6ms/step - loss: 2.9329 - val_loss: 1.6226\n",
      "Epoch 320/800\n",
      "5/5 [==============================] - 0s 6ms/step - loss: 3.1227 - val_loss: 1.9583\n",
      "Epoch 321/800\n",
      "5/5 [==============================] - 0s 8ms/step - loss: 3.0132 - val_loss: 1.4844\n",
      "Epoch 322/800\n",
      "5/5 [==============================] - 0s 6ms/step - loss: 2.8480 - val_loss: 1.6000\n",
      "Epoch 323/800\n",
      "5/5 [==============================] - 0s 9ms/step - loss: 2.8491 - val_loss: 1.5148\n",
      "Epoch 324/800\n",
      "5/5 [==============================] - 0s 4ms/step - loss: 2.8020 - val_loss: 1.5262\n",
      "Epoch 325/800\n",
      "5/5 [==============================] - 0s 6ms/step - loss: 2.7814 - val_loss: 1.4380\n",
      "Epoch 326/800\n",
      "5/5 [==============================] - 0s 6ms/step - loss: 2.9113 - val_loss: 1.4313\n",
      "Epoch 327/800\n",
      "5/5 [==============================] - 0s 8ms/step - loss: 2.8235 - val_loss: 1.5357\n",
      "Epoch 328/800\n",
      "5/5 [==============================] - 0s 9ms/step - loss: 2.8039 - val_loss: 1.4522\n",
      "Epoch 329/800\n",
      "5/5 [==============================] - 0s 6ms/step - loss: 2.6986 - val_loss: 1.3958\n",
      "Epoch 330/800\n",
      "5/5 [==============================] - 0s 8ms/step - loss: 2.7354 - val_loss: 1.4356\n",
      "Epoch 331/800\n",
      "5/5 [==============================] - 0s 10ms/step - loss: 2.6943 - val_loss: 1.5688\n",
      "Epoch 332/800\n",
      "5/5 [==============================] - 0s 6ms/step - loss: 2.7085 - val_loss: 1.4054\n",
      "Epoch 333/800\n",
      "5/5 [==============================] - 0s 8ms/step - loss: 2.8019 - val_loss: 1.3791\n",
      "Epoch 334/800\n",
      "5/5 [==============================] - 0s 6ms/step - loss: 3.0662 - val_loss: 2.0854\n",
      "Epoch 335/800\n",
      "5/5 [==============================] - 0s 6ms/step - loss: 2.7697 - val_loss: 1.3517\n",
      "Epoch 336/800\n",
      "5/5 [==============================] - 0s 8ms/step - loss: 2.8977 - val_loss: 1.3811\n",
      "Epoch 337/800\n",
      "5/5 [==============================] - 0s 9ms/step - loss: 2.7056 - val_loss: 1.5871\n",
      "Epoch 338/800\n",
      "5/5 [==============================] - 0s 8ms/step - loss: 2.7087 - val_loss: 1.4491\n",
      "Epoch 339/800\n",
      "5/5 [==============================] - 0s 9ms/step - loss: 2.6390 - val_loss: 1.3409\n",
      "Epoch 340/800\n",
      "5/5 [==============================] - 0s 8ms/step - loss: 2.6418 - val_loss: 1.3706\n",
      "Epoch 341/800\n",
      "5/5 [==============================] - 0s 9ms/step - loss: 2.5847 - val_loss: 1.3356\n",
      "Epoch 342/800\n",
      "5/5 [==============================] - 0s 8ms/step - loss: 2.5792 - val_loss: 1.4698\n",
      "Epoch 343/800\n",
      "5/5 [==============================] - 0s 9ms/step - loss: 2.6263 - val_loss: 1.2947\n",
      "Epoch 344/800\n",
      "5/5 [==============================] - 0s 8ms/step - loss: 2.5981 - val_loss: 1.3046\n",
      "Epoch 345/800\n",
      "5/5 [==============================] - 0s 9ms/step - loss: 2.5434 - val_loss: 1.3480\n",
      "Epoch 346/800\n",
      "5/5 [==============================] - ETA: 0s - loss: 3.267 - 0s 9ms/step - loss: 2.5826 - val_loss: 1.4222\n",
      "Epoch 347/800\n",
      "5/5 [==============================] - 0s 11ms/step - loss: 2.5274 - val_loss: 1.2722\n",
      "Epoch 348/800\n",
      "5/5 [==============================] - 0s 6ms/step - loss: 2.5233 - val_loss: 1.2679\n",
      "Epoch 349/800\n",
      "5/5 [==============================] - 0s 10ms/step - loss: 2.5814 - val_loss: 1.3662\n",
      "Epoch 350/800\n",
      "5/5 [==============================] - 0s 13ms/step - loss: 3.0354 - val_loss: 2.2594\n",
      "Epoch 351/800\n",
      "5/5 [==============================] - 0s 10ms/step - loss: 2.7924 - val_loss: 1.3333\n",
      "Epoch 352/800\n",
      "5/5 [==============================] - 0s 6ms/step - loss: 2.7663 - val_loss: 1.2446\n",
      "Epoch 353/800\n",
      "5/5 [==============================] - 0s 8ms/step - loss: 2.5193 - val_loss: 1.3996\n",
      "Epoch 354/800\n",
      "5/5 [==============================] - 0s 8ms/step - loss: 2.4819 - val_loss: 1.2497\n",
      "Epoch 355/800\n",
      "5/5 [==============================] - 0s 8ms/step - loss: 2.4678 - val_loss: 1.2316\n",
      "Epoch 356/800\n",
      "5/5 [==============================] - 0s 6ms/step - loss: 2.4810 - val_loss: 1.2399\n",
      "Epoch 357/800\n",
      "5/5 [==============================] - ETA: 0s - loss: 3.700 - 0s 8ms/step - loss: 2.4549 - val_loss: 1.2468\n",
      "Epoch 358/800\n",
      "5/5 [==============================] - 0s 6ms/step - loss: 2.5146 - val_loss: 1.2246\n",
      "Epoch 359/800\n",
      "5/5 [==============================] - 0s 8ms/step - loss: 2.4530 - val_loss: 1.3323\n",
      "Epoch 360/800\n",
      "5/5 [==============================] - 0s 6ms/step - loss: 2.4557 - val_loss: 1.2638\n",
      "Epoch 361/800\n",
      "5/5 [==============================] - ETA: 0s - loss: 4.145 - 0s 6ms/step - loss: 2.4706 - val_loss: 1.2283\n",
      "Epoch 362/800\n",
      "5/5 [==============================] - 0s 6ms/step - loss: 2.5183 - val_loss: 1.6034\n",
      "Epoch 363/800\n",
      "5/5 [==============================] - 0s 8ms/step - loss: 2.5276 - val_loss: 1.1954\n",
      "Epoch 364/800\n",
      "5/5 [==============================] - 0s 8ms/step - loss: 2.6119 - val_loss: 1.1957\n",
      "Epoch 365/800\n",
      "5/5 [==============================] - 0s 6ms/step - loss: 2.3930 - val_loss: 1.3144\n",
      "Epoch 366/800\n",
      "5/5 [==============================] - 0s 10ms/step - loss: 2.4724 - val_loss: 1.4367\n",
      "Epoch 367/800\n",
      "5/5 [==============================] - 0s 6ms/step - loss: 2.7315 - val_loss: 1.9064\n",
      "Epoch 368/800\n",
      "5/5 [==============================] - 0s 8ms/step - loss: 2.7203 - val_loss: 1.1807\n",
      "Epoch 369/800\n",
      "5/5 [==============================] - 0s 8ms/step - loss: 2.4477 - val_loss: 1.1908\n",
      "Epoch 370/800\n",
      "5/5 [==============================] - 0s 8ms/step - loss: 2.4456 - val_loss: 1.2043\n",
      "Epoch 371/800\n",
      "5/5 [==============================] - 0s 9ms/step - loss: 2.3867 - val_loss: 1.2375\n",
      "Epoch 372/800\n",
      "5/5 [==============================] - 0s 8ms/step - loss: 2.4534 - val_loss: 1.1696\n",
      "Epoch 373/800\n",
      "5/5 [==============================] - 0s 8ms/step - loss: 2.3691 - val_loss: 1.2422\n",
      "Epoch 374/800\n",
      "5/5 [==============================] - 0s 6ms/step - loss: 2.4133 - val_loss: 1.1860\n",
      "Epoch 375/800\n",
      "5/5 [==============================] - 0s 8ms/step - loss: 2.4076 - val_loss: 1.2541\n",
      "Epoch 376/800\n",
      "5/5 [==============================] - 0s 6ms/step - loss: 2.4038 - val_loss: 1.1662\n",
      "Epoch 377/800\n",
      "5/5 [==============================] - 0s 6ms/step - loss: 2.3654 - val_loss: 1.2189\n",
      "Epoch 378/800\n",
      "5/5 [==============================] - 0s 6ms/step - loss: 2.3783 - val_loss: 1.2795\n",
      "Epoch 379/800\n",
      "5/5 [==============================] - 0s 6ms/step - loss: 2.3411 - val_loss: 1.1575\n",
      "Epoch 380/800\n",
      "5/5 [==============================] - 0s 6ms/step - loss: 2.4438 - val_loss: 1.1391\n",
      "Epoch 381/800\n",
      "5/5 [==============================] - 0s 8ms/step - loss: 2.3463 - val_loss: 1.2293\n",
      "Epoch 382/800\n",
      "5/5 [==============================] - ETA: 0s - loss: 3.021 - 0s 8ms/step - loss: 2.5647 - val_loss: 1.6575\n",
      "Epoch 383/800\n",
      "5/5 [==============================] - 0s 6ms/step - loss: 2.5809 - val_loss: 1.1534\n",
      "Epoch 384/800\n",
      "5/5 [==============================] - 0s 8ms/step - loss: 2.3937 - val_loss: 1.2090\n",
      "Epoch 385/800\n",
      "5/5 [==============================] - 0s 6ms/step - loss: 2.3495 - val_loss: 1.1784\n",
      "Epoch 386/800\n",
      "5/5 [==============================] - 0s 7ms/step - loss: 2.4268 - val_loss: 1.1550\n",
      "Epoch 387/800\n",
      "5/5 [==============================] - 0s 4ms/step - loss: 2.4442 - val_loss: 1.2237\n",
      "Epoch 388/800\n",
      "5/5 [==============================] - 0s 8ms/step - loss: 2.4169 - val_loss: 1.2136\n",
      "Epoch 389/800\n",
      "5/5 [==============================] - 0s 6ms/step - loss: 2.3710 - val_loss: 1.2727\n",
      "Epoch 390/800\n",
      "5/5 [==============================] - 0s 6ms/step - loss: 2.3151 - val_loss: 1.1137\n",
      "Epoch 391/800\n",
      "5/5 [==============================] - 0s 6ms/step - loss: 2.3362 - val_loss: 1.1215\n",
      "Epoch 392/800\n",
      "5/5 [==============================] - 0s 6ms/step - loss: 2.2855 - val_loss: 1.2757\n",
      "Epoch 393/800\n",
      "5/5 [==============================] - 0s 7ms/step - loss: 2.3428 - val_loss: 1.1356\n",
      "Epoch 394/800\n",
      "5/5 [==============================] - 0s 8ms/step - loss: 2.3091 - val_loss: 1.1155\n",
      "Epoch 395/800\n",
      "5/5 [==============================] - 0s 8ms/step - loss: 2.3982 - val_loss: 1.1779\n",
      "Epoch 396/800\n",
      "5/5 [==============================] - 0s 6ms/step - loss: 2.2792 - val_loss: 1.1027\n",
      "Epoch 397/800\n",
      "5/5 [==============================] - 0s 8ms/step - loss: 2.2930 - val_loss: 1.1083\n",
      "Epoch 398/800\n",
      "5/5 [==============================] - 0s 6ms/step - loss: 2.3349 - val_loss: 1.1294\n",
      "Epoch 399/800\n",
      "5/5 [==============================] - 0s 6ms/step - loss: 2.2686 - val_loss: 1.5382\n",
      "Epoch 400/800\n",
      "5/5 [==============================] - 0s 6ms/step - loss: 2.5766 - val_loss: 1.2012\n",
      "Epoch 401/800\n",
      "5/5 [==============================] - 0s 6ms/step - loss: 2.2733 - val_loss: 1.2000\n",
      "Epoch 402/800\n",
      "5/5 [==============================] - 0s 6ms/step - loss: 2.4800 - val_loss: 1.1287\n",
      "Epoch 403/800\n",
      "5/5 [==============================] - 0s 6ms/step - loss: 2.2709 - val_loss: 1.1916\n",
      "Epoch 404/800\n",
      "5/5 [==============================] - 0s 6ms/step - loss: 2.3273 - val_loss: 1.1294\n",
      "Epoch 405/800\n",
      "5/5 [==============================] - 0s 6ms/step - loss: 2.2724 - val_loss: 1.3057\n"
     ]
    },
    {
     "name": "stdout",
     "output_type": "stream",
     "text": [
      "Epoch 406/800\n",
      "5/5 [==============================] - 0s 6ms/step - loss: 2.2669 - val_loss: 1.0778\n",
      "Epoch 407/800\n",
      "5/5 [==============================] - 0s 8ms/step - loss: 2.2841 - val_loss: 1.0906\n",
      "Epoch 408/800\n",
      "5/5 [==============================] - 0s 6ms/step - loss: 2.3224 - val_loss: 1.1280\n",
      "Epoch 409/800\n",
      "5/5 [==============================] - 0s 6ms/step - loss: 2.2567 - val_loss: 1.1409\n",
      "Epoch 410/800\n",
      "5/5 [==============================] - 0s 6ms/step - loss: 2.2548 - val_loss: 1.0746\n",
      "Epoch 411/800\n",
      "5/5 [==============================] - 0s 6ms/step - loss: 2.3630 - val_loss: 1.0763\n",
      "Epoch 412/800\n",
      "5/5 [==============================] - 0s 7ms/step - loss: 2.3110 - val_loss: 1.2076\n",
      "Epoch 413/800\n",
      "5/5 [==============================] - 0s 6ms/step - loss: 2.2732 - val_loss: 1.0886\n",
      "Epoch 414/800\n",
      "5/5 [==============================] - 0s 6ms/step - loss: 2.3506 - val_loss: 1.0677\n",
      "Epoch 415/800\n",
      "5/5 [==============================] - 0s 6ms/step - loss: 2.3640 - val_loss: 1.2166\n",
      "Epoch 416/800\n",
      "5/5 [==============================] - 0s 6ms/step - loss: 2.2509 - val_loss: 1.0688\n",
      "Epoch 417/800\n",
      "5/5 [==============================] - 0s 6ms/step - loss: 2.2732 - val_loss: 1.0932\n",
      "Epoch 418/800\n",
      "5/5 [==============================] - 0s 6ms/step - loss: 2.2538 - val_loss: 1.1350\n",
      "Epoch 419/800\n",
      "5/5 [==============================] - 0s 6ms/step - loss: 2.2786 - val_loss: 1.1049\n",
      "Epoch 420/800\n",
      "5/5 [==============================] - 0s 9ms/step - loss: 2.2406 - val_loss: 1.0711\n",
      "Epoch 421/800\n",
      "5/5 [==============================] - 0s 7ms/step - loss: 2.2811 - val_loss: 1.1358\n",
      "Epoch 422/800\n",
      "5/5 [==============================] - 0s 6ms/step - loss: 2.2362 - val_loss: 1.0746\n",
      "Epoch 423/800\n",
      "5/5 [==============================] - 0s 8ms/step - loss: 2.2570 - val_loss: 1.0792\n",
      "Epoch 424/800\n",
      "5/5 [==============================] - 0s 6ms/step - loss: 2.2783 - val_loss: 1.1036\n",
      "Epoch 425/800\n",
      "5/5 [==============================] - 0s 7ms/step - loss: 2.2318 - val_loss: 1.0711\n",
      "Epoch 426/800\n",
      "5/5 [==============================] - 0s 6ms/step - loss: 2.2716 - val_loss: 1.0758\n",
      "Epoch 427/800\n",
      "5/5 [==============================] - 0s 6ms/step - loss: 2.2387 - val_loss: 1.1815\n",
      "Epoch 428/800\n",
      "5/5 [==============================] - 0s 6ms/step - loss: 2.4770 - val_loss: 1.2717\n",
      "Epoch 429/800\n",
      "5/5 [==============================] - 0s 8ms/step - loss: 2.1948 - val_loss: 1.3426\n",
      "Epoch 430/800\n",
      "5/5 [==============================] - 0s 6ms/step - loss: 2.8059 - val_loss: 1.0848\n",
      "Epoch 431/800\n",
      "5/5 [==============================] - 0s 6ms/step - loss: 2.2883 - val_loss: 1.5440\n",
      "Epoch 432/800\n",
      "5/5 [==============================] - 0s 6ms/step - loss: 2.4702 - val_loss: 1.0977\n",
      "Epoch 433/800\n",
      "5/5 [==============================] - 0s 6ms/step - loss: 2.2942 - val_loss: 1.1255\n",
      "Epoch 434/800\n",
      "5/5 [==============================] - 0s 4ms/step - loss: 2.2631 - val_loss: 1.2721\n",
      "Epoch 435/800\n",
      "5/5 [==============================] - 0s 6ms/step - loss: 2.3149 - val_loss: 1.1129\n",
      "Epoch 436/800\n",
      "5/5 [==============================] - 0s 6ms/step - loss: 2.2756 - val_loss: 1.0980\n",
      "Epoch 437/800\n",
      "5/5 [==============================] - 0s 6ms/step - loss: 2.2786 - val_loss: 1.4097\n",
      "Epoch 438/800\n",
      "5/5 [==============================] - 0s 6ms/step - loss: 2.6120 - val_loss: 1.2536\n",
      "Epoch 439/800\n",
      "5/5 [==============================] - 0s 6ms/step - loss: 2.3744 - val_loss: 1.1959\n",
      "Epoch 440/800\n",
      "5/5 [==============================] - 0s 8ms/step - loss: 2.3894 - val_loss: 1.1316\n",
      "Epoch 441/800\n",
      "5/5 [==============================] - 0s 6ms/step - loss: 2.2480 - val_loss: 1.2561\n",
      "Epoch 442/800\n",
      "5/5 [==============================] - 0s 8ms/step - loss: 2.2424 - val_loss: 1.0707\n",
      "Epoch 443/800\n",
      "5/5 [==============================] - ETA: 0s - loss: 0.693 - 0s 6ms/step - loss: 2.3192 - val_loss: 1.0765\n",
      "Epoch 444/800\n",
      "5/5 [==============================] - 0s 8ms/step - loss: 2.3155 - val_loss: 1.3683\n",
      "Epoch 445/800\n",
      "5/5 [==============================] - 0s 8ms/step - loss: 2.3534 - val_loss: 1.1227\n",
      "Epoch 446/800\n",
      "5/5 [==============================] - 0s 8ms/step - loss: 2.2903 - val_loss: 1.2051\n",
      "Epoch 447/800\n",
      "5/5 [==============================] - 0s 6ms/step - loss: 2.2358 - val_loss: 1.0749\n",
      "Epoch 448/800\n",
      "5/5 [==============================] - 0s 8ms/step - loss: 2.2730 - val_loss: 1.1020\n",
      "Epoch 449/800\n",
      "5/5 [==============================] - 0s 6ms/step - loss: 2.2284 - val_loss: 1.1203\n",
      "Epoch 450/800\n",
      "5/5 [==============================] - 0s 6ms/step - loss: 2.2403 - val_loss: 1.0754\n",
      "Epoch 451/800\n",
      "5/5 [==============================] - 0s 6ms/step - loss: 2.2296 - val_loss: 1.1416\n",
      "Epoch 452/800\n",
      "5/5 [==============================] - 0s 8ms/step - loss: 2.2335 - val_loss: 1.0974\n",
      "Epoch 453/800\n",
      "5/5 [==============================] - 0s 6ms/step - loss: 2.2764 - val_loss: 1.0720\n",
      "Epoch 454/800\n",
      "5/5 [==============================] - 0s 6ms/step - loss: 2.3427 - val_loss: 1.2288\n",
      "Epoch 455/800\n",
      "5/5 [==============================] - 0s 8ms/step - loss: 2.2190 - val_loss: 1.0702\n",
      "Epoch 456/800\n",
      "5/5 [==============================] - 0s 7ms/step - loss: 2.2723 - val_loss: 1.0774\n",
      "Epoch 457/800\n",
      "5/5 [==============================] - 0s 5ms/step - loss: 2.2225 - val_loss: 1.3124\n",
      "Epoch 458/800\n",
      "5/5 [==============================] - 0s 8ms/step - loss: 2.3340 - val_loss: 1.2628\n",
      "Epoch 459/800\n",
      "5/5 [==============================] - 0s 8ms/step - loss: 2.2825 - val_loss: 1.0692\n",
      "Epoch 460/800\n",
      "5/5 [==============================] - 0s 7ms/step - loss: 2.2534 - val_loss: 1.1315\n",
      "Epoch 461/800\n",
      "5/5 [==============================] - 0s 8ms/step - loss: 2.2503 - val_loss: 1.2229\n",
      "Epoch 462/800\n",
      "5/5 [==============================] - 0s 7ms/step - loss: 2.3296 - val_loss: 1.1950\n",
      "Epoch 463/800\n",
      "5/5 [==============================] - 0s 6ms/step - loss: 2.1941 - val_loss: 1.0786\n",
      "Epoch 464/800\n",
      "5/5 [==============================] - 0s 8ms/step - loss: 2.2505 - val_loss: 1.1693\n",
      "Epoch 00464: early stopping\n"
     ]
    },
    {
     "data": {
      "text/plain": [
       "<tensorflow.python.keras.callbacks.History at 0x1942bb9fb08>"
      ]
     },
     "execution_count": 63,
     "metadata": {},
     "output_type": "execute_result"
    }
   ],
   "source": [
    "model.fit(x=X_train, \n",
    "          y=y_train, \n",
    "          epochs=800,\n",
    "          validation_data=(X_test, y_test), verbose=1,\n",
    "          callbacks=[early_stop]\n",
    "          )"
   ]
  },
  {
   "cell_type": "code",
   "execution_count": 64,
   "metadata": {},
   "outputs": [
    {
     "data": {
      "text/html": [
       "<div>\n",
       "<style scoped>\n",
       "    .dataframe tbody tr th:only-of-type {\n",
       "        vertical-align: middle;\n",
       "    }\n",
       "\n",
       "    .dataframe tbody tr th {\n",
       "        vertical-align: top;\n",
       "    }\n",
       "\n",
       "    .dataframe thead th {\n",
       "        text-align: right;\n",
       "    }\n",
       "</style>\n",
       "<table border=\"1\" class=\"dataframe\">\n",
       "  <thead>\n",
       "    <tr style=\"text-align: right;\">\n",
       "      <th></th>\n",
       "      <th>loss</th>\n",
       "      <th>val_loss</th>\n",
       "    </tr>\n",
       "  </thead>\n",
       "  <tbody>\n",
       "    <tr>\n",
       "      <th>0</th>\n",
       "      <td>831.794983</td>\n",
       "      <td>804.491455</td>\n",
       "    </tr>\n",
       "    <tr>\n",
       "      <th>1</th>\n",
       "      <td>792.100708</td>\n",
       "      <td>764.094727</td>\n",
       "    </tr>\n",
       "    <tr>\n",
       "      <th>2</th>\n",
       "      <td>753.844849</td>\n",
       "      <td>723.568604</td>\n",
       "    </tr>\n",
       "    <tr>\n",
       "      <th>3</th>\n",
       "      <td>715.197693</td>\n",
       "      <td>683.232788</td>\n",
       "    </tr>\n",
       "    <tr>\n",
       "      <th>4</th>\n",
       "      <td>676.183594</td>\n",
       "      <td>642.856079</td>\n",
       "    </tr>\n",
       "    <tr>\n",
       "      <th>...</th>\n",
       "      <td>...</td>\n",
       "      <td>...</td>\n",
       "    </tr>\n",
       "    <tr>\n",
       "      <th>459</th>\n",
       "      <td>2.253397</td>\n",
       "      <td>1.131531</td>\n",
       "    </tr>\n",
       "    <tr>\n",
       "      <th>460</th>\n",
       "      <td>2.250277</td>\n",
       "      <td>1.222903</td>\n",
       "    </tr>\n",
       "    <tr>\n",
       "      <th>461</th>\n",
       "      <td>2.329633</td>\n",
       "      <td>1.194978</td>\n",
       "    </tr>\n",
       "    <tr>\n",
       "      <th>462</th>\n",
       "      <td>2.194115</td>\n",
       "      <td>1.078587</td>\n",
       "    </tr>\n",
       "    <tr>\n",
       "      <th>463</th>\n",
       "      <td>2.250506</td>\n",
       "      <td>1.169299</td>\n",
       "    </tr>\n",
       "  </tbody>\n",
       "</table>\n",
       "<p>464 rows × 2 columns</p>\n",
       "</div>"
      ],
      "text/plain": [
       "           loss    val_loss\n",
       "0    831.794983  804.491455\n",
       "1    792.100708  764.094727\n",
       "2    753.844849  723.568604\n",
       "3    715.197693  683.232788\n",
       "4    676.183594  642.856079\n",
       "..          ...         ...\n",
       "459    2.253397    1.131531\n",
       "460    2.250277    1.222903\n",
       "461    2.329633    1.194978\n",
       "462    2.194115    1.078587\n",
       "463    2.250506    1.169299\n",
       "\n",
       "[464 rows x 2 columns]"
      ]
     },
     "execution_count": 64,
     "metadata": {},
     "output_type": "execute_result"
    }
   ],
   "source": [
    "model_loss = pd.DataFrame(model.history.history)\n",
    "model_loss"
   ]
  },
  {
   "cell_type": "code",
   "execution_count": 87,
   "metadata": {},
   "outputs": [
    {
     "data": {
      "text/plain": [
       "<matplotlib.legend.Legend at 0x194311e5908>"
      ]
     },
     "execution_count": 87,
     "metadata": {},
     "output_type": "execute_result"
    },
    {
     "data": {
      "image/png": "[encoded data removed]",
      "text/plain": [
       "<Figure size 400x360 with 1 Axes>"
      ]
     },
     "metadata": {},
     "output_type": "display_data"
    }
   ],
   "source": [
    "fig, ax = plt.subplots()\n",
    "fig.set_size_inches(5,4.5)\n",
    "mpl.rcParams['font.size'] = 10\n",
    "\n",
    "plt.plot(model_loss[\"loss\"], \"k-\", label = \"Loss in Training\", linewidth = 2)\n",
    "plt.plot(model_loss[\"val_loss\"], \"k--\", label = \"Loss in Validation\",linewidth = 2)\n",
    "ax.set(ylabel = \"Loss\", xlabel = \"No. of Epochs\")\n",
    "fig.patch.set_facecolor(\"White\")\n",
    "ax.tick_params(length = 4, width = 2)\n",
    "ax.legend()\n",
    "#plt.savefig(\"Model Validation.png\",dpi=600, Transperant = True)"
   ]
  },
  {
   "cell_type": "code",
   "execution_count": 86,
   "metadata": {},
   "outputs": [],
   "source": [
    "predictions = model.predict(X_test)"
   ]
  },
  {
   "cell_type": "code",
   "execution_count": 87,
   "metadata": {},
   "outputs": [
    {
     "data": {
      "text/plain": [
       "1.3661290977399043"
      ]
     },
     "execution_count": 87,
     "metadata": {},
     "output_type": "execute_result"
    }
   ],
   "source": [
    "np.sqrt(MSE(y_test, predictions))"
   ]
  },
  {
   "cell_type": "code",
   "execution_count": 213,
   "metadata": {},
   "outputs": [
    {
     "data": {
      "image/png": "[encoded data removed]",
      "text/plain": [
       "<Figure size 640x480 with 1 Axes>"
      ]
     },
     "metadata": {},
     "output_type": "display_data"
    }
   ],
   "source": [
    "fig, ax = plt.subplots()\n",
    "ax.scatter(y_test, predictions, c = \"k\")\n",
    "plt.plot(y_test, y_test, c = \"k\", linewidth = 2)\n",
    "ax.set(ylabel = \"Predicted Data\", xlabel = \"Test Data\")\n",
    "fig.patch.set_facecolor(\"White\")\n",
    "ax.tick_params(length = 4, width = 2)\n",
    "plt.savefig(\"ANN.png\",dpi=600, Transperant = True)"
   ]
  },
  {
   "cell_type": "code",
   "execution_count": 210,
   "metadata": {},
   "outputs": [
    {
     "data": {
      "text/plain": [
       "0.861796983115156"
      ]
     },
     "execution_count": 210,
     "metadata": {},
     "output_type": "execute_result"
    }
   ],
   "source": [
    "r2_score(y_test, predictions)"
   ]
  },
  {
   "cell_type": "code",
   "execution_count": 88,
   "metadata": {},
   "outputs": [],
   "source": [
    "model = Sequential()\n",
    "\n",
    "model.add(Dense(5,activation='relu'))\n",
    "model.add(Dense(10,activation='relu'))\n",
    "model.add(Dense(10,activation='relu'))\n",
    "model.add(Dense(5,activation='relu'))\n",
    "\n",
    "model.add(Dense(1))\n",
    "\n",
    "model.compile(optimizer='adam',loss='mse')"
   ]
  },
  {
   "cell_type": "code",
   "execution_count": 89,
   "metadata": {},
   "outputs": [
    {
     "name": "stdout",
     "output_type": "stream",
     "text": [
      "Epoch 1/800\n",
      "5/5 [==============================] - 0s 16ms/step - loss: 1502.5389 - val_loss: 1436.8572\n",
      "Epoch 2/800\n",
      "5/5 [==============================] - 0s 6ms/step - loss: 1429.5669 - val_loss: 1371.4954\n",
      "Epoch 3/800\n",
      "5/5 [==============================] - 0s 9ms/step - loss: 1364.8030 - val_loss: 1311.4185\n",
      "Epoch 4/800\n",
      "5/5 [==============================] - 0s 7ms/step - loss: 1303.4526 - val_loss: 1255.4388\n",
      "Epoch 5/800\n",
      "5/5 [==============================] - 0s 6ms/step - loss: 1249.9087 - val_loss: 1203.0353\n",
      "Epoch 6/800\n",
      "5/5 [==============================] - 0s 7ms/step - loss: 1196.2972 - val_loss: 1155.1172\n",
      "Epoch 7/800\n",
      "5/5 [==============================] - 0s 7ms/step - loss: 1148.6267 - val_loss: 1109.5781\n",
      "Epoch 8/800\n",
      "5/5 [==============================] - 0s 7ms/step - loss: 1103.6396 - val_loss: 1066.7582\n",
      "Epoch 9/800\n",
      "5/5 [==============================] - 0s 10ms/step - loss: 1061.0021 - val_loss: 1031.0248\n",
      "Epoch 10/800\n",
      "5/5 [==============================] - 0s 6ms/step - loss: 1028.8615 - val_loss: 1003.9910\n",
      "Epoch 11/800\n",
      "5/5 [==============================] - 0s 7ms/step - loss: 1004.2332 - val_loss: 981.4403\n",
      "Epoch 12/800\n",
      "5/5 [==============================] - 0s 7ms/step - loss: 982.1230 - val_loss: 960.4235\n",
      "Epoch 13/800\n",
      "5/5 [==============================] - 0s 8ms/step - loss: 960.6893 - val_loss: 939.5725\n",
      "Epoch 14/800\n",
      "5/5 [==============================] - 0s 7ms/step - loss: 938.7723 - val_loss: 918.0834\n",
      "Epoch 15/800\n",
      "5/5 [==============================] - 0s 6ms/step - loss: 915.8791 - val_loss: 895.4243\n",
      "Epoch 16/800\n",
      "5/5 [==============================] - 0s 8ms/step - loss: 891.7970 - val_loss: 871.2515\n",
      "Epoch 17/800\n",
      "5/5 [==============================] - 0s 8ms/step - loss: 865.9086 - val_loss: 845.2897\n",
      "Epoch 18/800\n",
      "5/5 [==============================] - 0s 7ms/step - loss: 837.2076 - val_loss: 816.6765\n",
      "Epoch 19/800\n",
      "5/5 [==============================] - 0s 7ms/step - loss: 806.3463 - val_loss: 783.8632\n",
      "Epoch 20/800\n",
      "5/5 [==============================] - 0s 7ms/step - loss: 770.2858 - val_loss: 747.1682\n",
      "Epoch 21/800\n",
      "5/5 [==============================] - 0s 7ms/step - loss: 731.7532 - val_loss: 705.9229\n",
      "Epoch 22/800\n",
      "5/5 [==============================] - 0s 8ms/step - loss: 686.5320 - val_loss: 660.8525\n",
      "Epoch 23/800\n",
      "5/5 [==============================] - 0s 6ms/step - loss: 638.9432 - val_loss: 611.4877\n",
      "Epoch 24/800\n",
      "5/5 [==============================] - 0s 7ms/step - loss: 588.0795 - val_loss: 559.1320\n",
      "Epoch 25/800\n",
      "5/5 [==============================] - 0s 7ms/step - loss: 534.6359 - val_loss: 505.6711\n",
      "Epoch 26/800\n",
      "5/5 [==============================] - 0s 6ms/step - loss: 481.1920 - val_loss: 452.6226\n",
      "Epoch 27/800\n",
      "5/5 [==============================] - 0s 8ms/step - loss: 428.0803 - val_loss: 401.8435\n",
      "Epoch 28/800\n",
      "5/5 [==============================] - 0s 8ms/step - loss: 378.4969 - val_loss: 353.8211\n",
      "Epoch 29/800\n",
      "5/5 [==============================] - 0s 7ms/step - loss: 332.3680 - val_loss: 310.5979\n",
      "Epoch 30/800\n",
      "5/5 [==============================] - ETA: 0s - loss: 324.501 - 0s 7ms/step - loss: 292.5358 - val_loss: 273.5822\n",
      "Epoch 31/800\n",
      "5/5 [==============================] - 0s 7ms/step - loss: 259.1872 - val_loss: 244.2395\n",
      "Epoch 32/800\n",
      "5/5 [==============================] - 0s 7ms/step - loss: 232.7548 - val_loss: 223.4371\n",
      "Epoch 33/800\n",
      "5/5 [==============================] - 0s 7ms/step - loss: 216.0928 - val_loss: 209.0785\n",
      "Epoch 34/800\n",
      "5/5 [==============================] - 0s 7ms/step - loss: 205.0637 - val_loss: 200.3470\n",
      "Epoch 35/800\n",
      "5/5 [==============================] - 0s 7ms/step - loss: 199.2633 - val_loss: 195.3670\n",
      "Epoch 36/800\n",
      "5/5 [==============================] - 0s 6ms/step - loss: 196.4697 - val_loss: 192.7184\n",
      "Epoch 37/800\n",
      "5/5 [==============================] - 0s 9ms/step - loss: 194.1751 - val_loss: 191.2021\n",
      "Epoch 38/800\n",
      "5/5 [==============================] - 0s 6ms/step - loss: 194.0353 - val_loss: 189.9170\n",
      "Epoch 39/800\n",
      "5/5 [==============================] - 0s 8ms/step - loss: 193.0670 - val_loss: 188.6591\n",
      "Epoch 40/800\n",
      "5/5 [==============================] - 0s 8ms/step - loss: 191.3846 - val_loss: 187.2311\n",
      "Epoch 41/800\n",
      "5/5 [==============================] - 0s 6ms/step - loss: 190.0699 - val_loss: 185.8270\n",
      "Epoch 42/800\n",
      "5/5 [==============================] - 0s 8ms/step - loss: 187.9068 - val_loss: 184.3145\n",
      "Epoch 43/800\n",
      "5/5 [==============================] - 0s 6ms/step - loss: 186.3770 - val_loss: 182.6126\n",
      "Epoch 44/800\n",
      "5/5 [==============================] - 0s 7ms/step - loss: 184.7450 - val_loss: 180.9292\n",
      "Epoch 45/800\n",
      "5/5 [==============================] - 0s 7ms/step - loss: 183.3264 - val_loss: 179.3069\n",
      "Epoch 46/800\n",
      "5/5 [==============================] - 0s 7ms/step - loss: 181.6834 - val_loss: 177.5489\n",
      "Epoch 47/800\n",
      "5/5 [==============================] - 0s 7ms/step - loss: 179.9743 - val_loss: 175.9282\n",
      "Epoch 48/800\n",
      "5/5 [==============================] - 0s 7ms/step - loss: 178.4075 - val_loss: 174.1549\n",
      "Epoch 49/800\n",
      "5/5 [==============================] - 0s 7ms/step - loss: 176.6908 - val_loss: 172.1493\n",
      "Epoch 50/800\n",
      "5/5 [==============================] - 0s 7ms/step - loss: 174.8826 - val_loss: 170.2509\n",
      "Epoch 51/800\n",
      "5/5 [==============================] - 0s 7ms/step - loss: 173.2140 - val_loss: 168.3138\n",
      "Epoch 52/800\n",
      "5/5 [==============================] - 0s 7ms/step - loss: 171.3249 - val_loss: 166.7508\n",
      "Epoch 53/800\n",
      "5/5 [==============================] - 0s 7ms/step - loss: 169.9983 - val_loss: 165.1992\n",
      "Epoch 54/800\n",
      "5/5 [==============================] - 0s 7ms/step - loss: 168.7674 - val_loss: 164.1378\n",
      "Epoch 55/800\n",
      "5/5 [==============================] - 0s 6ms/step - loss: 167.3538 - val_loss: 162.8205\n",
      "Epoch 56/800\n",
      "5/5 [==============================] - 0s 8ms/step - loss: 165.9780 - val_loss: 161.7867\n",
      "Epoch 57/800\n",
      "5/5 [==============================] - 0s 6ms/step - loss: 165.0034 - val_loss: 160.7649\n",
      "Epoch 58/800\n",
      "5/5 [==============================] - 0s 6ms/step - loss: 164.0356 - val_loss: 159.7972\n",
      "Epoch 59/800\n",
      "5/5 [==============================] - 0s 6ms/step - loss: 163.0609 - val_loss: 158.6939\n",
      "Epoch 60/800\n",
      "5/5 [==============================] - 0s 7ms/step - loss: 161.9938 - val_loss: 157.4836\n",
      "Epoch 61/800\n",
      "5/5 [==============================] - 0s 6ms/step - loss: 160.8586 - val_loss: 156.4571\n",
      "Epoch 62/800\n",
      "5/5 [==============================] - 0s 6ms/step - loss: 159.9592 - val_loss: 155.4557\n",
      "Epoch 63/800\n",
      "5/5 [==============================] - 0s 6ms/step - loss: 158.7139 - val_loss: 154.3720\n",
      "Epoch 64/800\n",
      "5/5 [==============================] - 0s 6ms/step - loss: 157.6868 - val_loss: 153.5373\n",
      "Epoch 65/800\n",
      "5/5 [==============================] - 0s 10ms/step - loss: 157.1687 - val_loss: 152.6624\n",
      "Epoch 66/800\n",
      "5/5 [==============================] - 0s 9ms/step - loss: 156.2307 - val_loss: 151.5846\n",
      "Epoch 67/800\n",
      "5/5 [==============================] - 0s 8ms/step - loss: 155.3692 - val_loss: 150.6129\n",
      "Epoch 68/800\n",
      "5/5 [==============================] - 0s 8ms/step - loss: 154.1768 - val_loss: 149.6760\n",
      "Epoch 69/800\n",
      "5/5 [==============================] - 0s 8ms/step - loss: 153.2759 - val_loss: 148.7247\n",
      "Epoch 70/800\n",
      "5/5 [==============================] - 0s 8ms/step - loss: 152.3049 - val_loss: 147.7776\n",
      "Epoch 71/800\n",
      "5/5 [==============================] - 0s 7ms/step - loss: 151.5222 - val_loss: 146.8422\n",
      "Epoch 72/800\n",
      "5/5 [==============================] - 0s 8ms/step - loss: 150.6696 - val_loss: 145.9423\n",
      "Epoch 73/800\n",
      "5/5 [==============================] - 0s 7ms/step - loss: 150.0284 - val_loss: 145.0911\n",
      "Epoch 74/800\n",
      "5/5 [==============================] - 0s 6ms/step - loss: 148.9548 - val_loss: 144.2536\n",
      "Epoch 75/800\n",
      "5/5 [==============================] - 0s 8ms/step - loss: 148.1559 - val_loss: 143.3880\n",
      "Epoch 76/800\n",
      "5/5 [==============================] - 0s 6ms/step - loss: 147.1978 - val_loss: 142.6308\n",
      "Epoch 77/800\n",
      "5/5 [==============================] - 0s 6ms/step - loss: 146.4713 - val_loss: 141.8246\n",
      "Epoch 78/800\n",
      "5/5 [==============================] - 0s 6ms/step - loss: 146.2960 - val_loss: 141.2657\n",
      "Epoch 79/800\n",
      "5/5 [==============================] - 0s 7ms/step - loss: 144.7773 - val_loss: 140.1499\n",
      "Epoch 80/800\n",
      "5/5 [==============================] - 0s 6ms/step - loss: 144.0862 - val_loss: 139.4225\n"
     ]
    },
    {
     "name": "stdout",
     "output_type": "stream",
     "text": [
      "Epoch 81/800\n",
      "5/5 [==============================] - 0s 6ms/step - loss: 143.2543 - val_loss: 138.6257\n",
      "Epoch 82/800\n",
      "5/5 [==============================] - 0s 6ms/step - loss: 142.4663 - val_loss: 137.8557\n",
      "Epoch 83/800\n",
      "5/5 [==============================] - 0s 6ms/step - loss: 141.5706 - val_loss: 137.1479\n",
      "Epoch 84/800\n",
      "5/5 [==============================] - 0s 6ms/step - loss: 140.8631 - val_loss: 136.3891\n",
      "Epoch 85/800\n",
      "5/5 [==============================] - 0s 10ms/step - loss: 140.1752 - val_loss: 135.6992\n",
      "Epoch 86/800\n",
      "5/5 [==============================] - 0s 9ms/step - loss: 139.5997 - val_loss: 135.0351\n",
      "Epoch 87/800\n",
      "5/5 [==============================] - 0s 7ms/step - loss: 138.7386 - val_loss: 134.2463\n",
      "Epoch 88/800\n",
      "5/5 [==============================] - 0s 8ms/step - loss: 137.9054 - val_loss: 133.4832\n",
      "Epoch 89/800\n",
      "5/5 [==============================] - 0s 7ms/step - loss: 137.1337 - val_loss: 132.6935\n",
      "Epoch 90/800\n",
      "5/5 [==============================] - 0s 9ms/step - loss: 136.4100 - val_loss: 131.9361\n",
      "Epoch 91/800\n",
      "5/5 [==============================] - 0s 8ms/step - loss: 135.8276 - val_loss: 131.2077\n",
      "Epoch 92/800\n",
      "5/5 [==============================] - 0s 8ms/step - loss: 135.5782 - val_loss: 130.5982\n",
      "Epoch 93/800\n",
      "5/5 [==============================] - 0s 10ms/step - loss: 134.3499 - val_loss: 129.9765\n",
      "Epoch 94/800\n",
      "5/5 [==============================] - 0s 7ms/step - loss: 134.3246 - val_loss: 129.4191\n",
      "Epoch 95/800\n",
      "5/5 [==============================] - 0s 6ms/step - loss: 133.7277 - val_loss: 128.4595\n",
      "Epoch 96/800\n",
      "5/5 [==============================] - 0s 6ms/step - loss: 132.2615 - val_loss: 127.8522\n",
      "Epoch 97/800\n",
      "5/5 [==============================] - 0s 6ms/step - loss: 131.7718 - val_loss: 127.2477\n",
      "Epoch 98/800\n",
      "5/5 [==============================] - 0s 6ms/step - loss: 131.3788 - val_loss: 126.4717\n",
      "Epoch 99/800\n",
      "5/5 [==============================] - 0s 7ms/step - loss: 130.3484 - val_loss: 125.7781\n",
      "Epoch 100/800\n",
      "5/5 [==============================] - 0s 6ms/step - loss: 129.6834 - val_loss: 125.1014\n",
      "Epoch 101/800\n",
      "5/5 [==============================] - 0s 6ms/step - loss: 129.2723 - val_loss: 124.5005\n",
      "Epoch 102/800\n",
      "5/5 [==============================] - 0s 6ms/step - loss: 128.4305 - val_loss: 123.9192\n",
      "Epoch 103/800\n",
      "5/5 [==============================] - 0s 7ms/step - loss: 127.6220 - val_loss: 123.1737\n",
      "Epoch 104/800\n",
      "5/5 [==============================] - 0s 9ms/step - loss: 126.8779 - val_loss: 122.5587\n",
      "Epoch 105/800\n",
      "5/5 [==============================] - 0s 9ms/step - loss: 126.4441 - val_loss: 121.9178\n",
      "Epoch 106/800\n",
      "5/5 [==============================] - 0s 8ms/step - loss: 125.7695 - val_loss: 121.2898\n",
      "Epoch 107/800\n",
      "5/5 [==============================] - 0s 9ms/step - loss: 125.0465 - val_loss: 120.7518\n",
      "Epoch 108/800\n",
      "5/5 [==============================] - 0s 9ms/step - loss: 124.6975 - val_loss: 120.2910\n",
      "Epoch 109/800\n",
      "5/5 [==============================] - 0s 10ms/step - loss: 124.0902 - val_loss: 119.7534\n",
      "Epoch 110/800\n",
      "5/5 [==============================] - 0s 10ms/step - loss: 123.4590 - val_loss: 118.9771\n",
      "Epoch 111/800\n",
      "5/5 [==============================] - 0s 8ms/step - loss: 122.7081 - val_loss: 118.3203\n",
      "Epoch 112/800\n",
      "5/5 [==============================] - 0s 8ms/step - loss: 122.2553 - val_loss: 117.7054\n",
      "Epoch 113/800\n",
      "5/5 [==============================] - 0s 10ms/step - loss: 121.5837 - val_loss: 116.8772\n",
      "Epoch 114/800\n",
      "5/5 [==============================] - 0s 9ms/step - loss: 120.7786 - val_loss: 116.2352\n",
      "Epoch 115/800\n",
      "5/5 [==============================] - 0s 9ms/step - loss: 120.3241 - val_loss: 115.6210\n",
      "Epoch 116/800\n",
      "5/5 [==============================] - 0s 8ms/step - loss: 119.4625 - val_loss: 115.0615\n",
      "Epoch 117/800\n",
      "5/5 [==============================] - 0s 9ms/step - loss: 118.8963 - val_loss: 114.5675\n",
      "Epoch 118/800\n",
      "5/5 [==============================] - 0s 8ms/step - loss: 118.3920 - val_loss: 114.0219\n",
      "Epoch 119/800\n",
      "5/5 [==============================] - 0s 9ms/step - loss: 118.5234 - val_loss: 113.6314\n",
      "Epoch 120/800\n",
      "5/5 [==============================] - 0s 9ms/step - loss: 117.2136 - val_loss: 112.6103\n",
      "Epoch 121/800\n",
      "5/5 [==============================] - 0s 9ms/step - loss: 116.5326 - val_loss: 111.9291\n",
      "Epoch 122/800\n",
      "5/5 [==============================] - 0s 9ms/step - loss: 116.0251 - val_loss: 111.3232\n",
      "Epoch 123/800\n",
      "5/5 [==============================] - 0s 10ms/step - loss: 115.2841 - val_loss: 110.7283\n",
      "Epoch 124/800\n",
      "5/5 [==============================] - 0s 7ms/step - loss: 114.8708 - val_loss: 110.2193\n",
      "Epoch 125/800\n",
      "5/5 [==============================] - 0s 9ms/step - loss: 114.2633 - val_loss: 109.6189\n",
      "Epoch 126/800\n",
      "5/5 [==============================] - 0s 9ms/step - loss: 113.6833 - val_loss: 108.9173\n",
      "Epoch 127/800\n",
      "5/5 [==============================] - 0s 9ms/step - loss: 112.7574 - val_loss: 108.3231\n",
      "Epoch 128/800\n",
      "5/5 [==============================] - 0s 7ms/step - loss: 112.4626 - val_loss: 107.7355\n",
      "Epoch 129/800\n",
      "5/5 [==============================] - 0s 8ms/step - loss: 111.9044 - val_loss: 107.0466\n",
      "Epoch 130/800\n",
      "5/5 [==============================] - 0s 8ms/step - loss: 111.1931 - val_loss: 106.4035\n",
      "Epoch 131/800\n",
      "5/5 [==============================] - 0s 11ms/step - loss: 110.8209 - val_loss: 105.7525\n",
      "Epoch 132/800\n",
      "5/5 [==============================] - 0s 10ms/step - loss: 109.8542 - val_loss: 105.1052\n",
      "Epoch 133/800\n",
      "5/5 [==============================] - 0s 8ms/step - loss: 109.2836 - val_loss: 104.4732\n",
      "Epoch 134/800\n",
      "5/5 [==============================] - 0s 8ms/step - loss: 108.6352 - val_loss: 103.8469\n",
      "Epoch 135/800\n",
      "5/5 [==============================] - 0s 7ms/step - loss: 107.8102 - val_loss: 103.1914\n",
      "Epoch 136/800\n",
      "5/5 [==============================] - 0s 9ms/step - loss: 107.4539 - val_loss: 102.6073\n",
      "Epoch 137/800\n",
      "5/5 [==============================] - 0s 9ms/step - loss: 106.9614 - val_loss: 101.9347\n",
      "Epoch 138/800\n",
      "5/5 [==============================] - 0s 7ms/step - loss: 106.3053 - val_loss: 101.3036\n",
      "Epoch 139/800\n",
      "5/5 [==============================] - 0s 8ms/step - loss: 105.5194 - val_loss: 100.7873\n",
      "Epoch 140/800\n",
      "5/5 [==============================] - 0s 9ms/step - loss: 104.9633 - val_loss: 100.3957\n",
      "Epoch 141/800\n",
      "5/5 [==============================] - 0s 10ms/step - loss: 104.5136 - val_loss: 99.9978\n",
      "Epoch 142/800\n",
      "5/5 [==============================] - 0s 10ms/step - loss: 104.1069 - val_loss: 99.4162\n",
      "Epoch 143/800\n",
      "5/5 [==============================] - 0s 7ms/step - loss: 103.4902 - val_loss: 98.3466\n",
      "Epoch 144/800\n",
      "5/5 [==============================] - 0s 8ms/step - loss: 102.3895 - val_loss: 97.7009\n",
      "Epoch 145/800\n",
      "5/5 [==============================] - 0s 8ms/step - loss: 101.9606 - val_loss: 97.0848\n",
      "Epoch 146/800\n",
      "5/5 [==============================] - 0s 8ms/step - loss: 101.2856 - val_loss: 96.5717\n",
      "Epoch 147/800\n",
      "5/5 [==============================] - 0s 9ms/step - loss: 100.6979 - val_loss: 96.0461\n",
      "Epoch 148/800\n",
      "5/5 [==============================] - 0s 9ms/step - loss: 100.1272 - val_loss: 95.5914\n",
      "Epoch 149/800\n",
      "5/5 [==============================] - 0s 8ms/step - loss: 99.6524 - val_loss: 95.0664\n",
      "Epoch 150/800\n",
      "5/5 [==============================] - 0s 8ms/step - loss: 99.1866 - val_loss: 94.1461\n",
      "Epoch 151/800\n",
      "5/5 [==============================] - 0s 9ms/step - loss: 98.2496 - val_loss: 93.5601\n",
      "Epoch 152/800\n",
      "5/5 [==============================] - 0s 9ms/step - loss: 97.6544 - val_loss: 93.0391\n",
      "Epoch 153/800\n",
      "5/5 [==============================] - 0s 9ms/step - loss: 97.0195 - val_loss: 92.3988\n",
      "Epoch 154/800\n",
      "5/5 [==============================] - 0s 9ms/step - loss: 96.4711 - val_loss: 91.5951\n",
      "Epoch 155/800\n",
      "5/5 [==============================] - 0s 8ms/step - loss: 95.6310 - val_loss: 90.9975\n",
      "Epoch 156/800\n",
      "5/5 [==============================] - 0s 8ms/step - loss: 94.9984 - val_loss: 90.2935\n",
      "Epoch 157/800\n",
      "5/5 [==============================] - 0s 8ms/step - loss: 94.3792 - val_loss: 89.6876\n",
      "Epoch 158/800\n",
      "5/5 [==============================] - 0s 7ms/step - loss: 93.8739 - val_loss: 89.1260\n",
      "Epoch 159/800\n",
      "5/5 [==============================] - 0s 9ms/step - loss: 93.2816 - val_loss: 88.5570\n",
      "Epoch 160/800\n",
      "5/5 [==============================] - 0s 9ms/step - loss: 92.5285 - val_loss: 87.9347\n"
     ]
    },
    {
     "name": "stdout",
     "output_type": "stream",
     "text": [
      "Epoch 161/800\n",
      "5/5 [==============================] - 0s 9ms/step - loss: 91.8587 - val_loss: 87.3487\n",
      "Epoch 162/800\n",
      "5/5 [==============================] - 0s 8ms/step - loss: 91.1680 - val_loss: 86.8636\n",
      "Epoch 163/800\n",
      "5/5 [==============================] - 0s 9ms/step - loss: 90.7383 - val_loss: 86.4332\n",
      "Epoch 164/800\n",
      "5/5 [==============================] - 0s 8ms/step - loss: 90.2212 - val_loss: 85.7597\n",
      "Epoch 165/800\n",
      "5/5 [==============================] - 0s 7ms/step - loss: 89.6005 - val_loss: 85.2035\n",
      "Epoch 166/800\n",
      "5/5 [==============================] - 0s 9ms/step - loss: 89.1910 - val_loss: 84.7742\n",
      "Epoch 167/800\n",
      "5/5 [==============================] - 0s 7ms/step - loss: 88.4937 - val_loss: 83.9966\n",
      "Epoch 168/800\n",
      "5/5 [==============================] - 0s 8ms/step - loss: 87.5825 - val_loss: 82.8441\n",
      "Epoch 169/800\n",
      "5/5 [==============================] - 0s 9ms/step - loss: 86.7575 - val_loss: 81.9563\n",
      "Epoch 170/800\n",
      "5/5 [==============================] - 0s 10ms/step - loss: 85.8777 - val_loss: 81.2366\n",
      "Epoch 171/800\n",
      "5/5 [==============================] - 0s 7ms/step - loss: 85.4477 - val_loss: 80.5651\n",
      "Epoch 172/800\n",
      "5/5 [==============================] - 0s 8ms/step - loss: 84.7590 - val_loss: 79.9514\n",
      "Epoch 173/800\n",
      "5/5 [==============================] - 0s 8ms/step - loss: 84.0726 - val_loss: 79.3524\n",
      "Epoch 174/800\n",
      "5/5 [==============================] - 0s 7ms/step - loss: 83.4319 - val_loss: 78.5839\n",
      "Epoch 175/800\n",
      "5/5 [==============================] - 0s 7ms/step - loss: 82.9784 - val_loss: 77.8281\n",
      "Epoch 176/800\n",
      "5/5 [==============================] - 0s 7ms/step - loss: 81.8441 - val_loss: 76.9684\n",
      "Epoch 177/800\n",
      "5/5 [==============================] - 0s 9ms/step - loss: 81.1297 - val_loss: 76.2327\n",
      "Epoch 178/800\n",
      "5/5 [==============================] - 0s 9ms/step - loss: 80.5490 - val_loss: 75.7619\n",
      "Epoch 179/800\n",
      "5/5 [==============================] - 0s 7ms/step - loss: 79.6311 - val_loss: 75.0353\n",
      "Epoch 180/800\n",
      "5/5 [==============================] - 0s 8ms/step - loss: 79.0652 - val_loss: 74.4561\n",
      "Epoch 181/800\n",
      "5/5 [==============================] - 0s 7ms/step - loss: 78.5677 - val_loss: 73.9258\n",
      "Epoch 182/800\n",
      "5/5 [==============================] - 0s 7ms/step - loss: 77.6991 - val_loss: 73.1313\n",
      "Epoch 183/800\n",
      "5/5 [==============================] - 0s 8ms/step - loss: 76.9254 - val_loss: 72.4575\n",
      "Epoch 184/800\n",
      "5/5 [==============================] - 0s 8ms/step - loss: 76.2522 - val_loss: 71.8812\n",
      "Epoch 185/800\n",
      "5/5 [==============================] - 0s 8ms/step - loss: 76.2866 - val_loss: 71.6685\n",
      "Epoch 186/800\n",
      "5/5 [==============================] - 0s 7ms/step - loss: 75.2675 - val_loss: 70.8187\n",
      "Epoch 187/800\n",
      "5/5 [==============================] - 0s 8ms/step - loss: 74.7436 - val_loss: 69.9971\n",
      "Epoch 188/800\n",
      "5/5 [==============================] - 0s 7ms/step - loss: 73.6912 - val_loss: 69.2623\n",
      "Epoch 189/800\n",
      "5/5 [==============================] - 0s 10ms/step - loss: 73.1520 - val_loss: 68.5192\n",
      "Epoch 190/800\n",
      "5/5 [==============================] - 0s 8ms/step - loss: 72.3321 - val_loss: 67.8501\n",
      "Epoch 191/800\n",
      "5/5 [==============================] - 0s 9ms/step - loss: 71.6784 - val_loss: 67.2652\n",
      "Epoch 192/800\n",
      "5/5 [==============================] - 0s 8ms/step - loss: 71.0521 - val_loss: 66.5688\n",
      "Epoch 193/800\n",
      "5/5 [==============================] - 0s 6ms/step - loss: 70.4604 - val_loss: 65.8900\n",
      "Epoch 194/800\n",
      "5/5 [==============================] - 0s 7ms/step - loss: 69.8998 - val_loss: 65.2134\n",
      "Epoch 195/800\n",
      "5/5 [==============================] - 0s 7ms/step - loss: 69.3996 - val_loss: 64.5868\n",
      "Epoch 196/800\n",
      "5/5 [==============================] - 0s 8ms/step - loss: 68.7493 - val_loss: 63.9191\n",
      "Epoch 197/800\n",
      "5/5 [==============================] - 0s 8ms/step - loss: 68.0300 - val_loss: 63.2055\n",
      "Epoch 198/800\n",
      "5/5 [==============================] - 0s 8ms/step - loss: 67.3338 - val_loss: 62.5028\n",
      "Epoch 199/800\n",
      "5/5 [==============================] - 0s 9ms/step - loss: 66.8310 - val_loss: 61.8225\n",
      "Epoch 200/800\n",
      "5/5 [==============================] - 0s 7ms/step - loss: 66.1492 - val_loss: 61.1720\n",
      "Epoch 201/800\n",
      "5/5 [==============================] - 0s 7ms/step - loss: 65.5637 - val_loss: 60.3981\n",
      "Epoch 202/800\n",
      "5/5 [==============================] - 0s 7ms/step - loss: 64.9345 - val_loss: 59.8324\n",
      "Epoch 203/800\n",
      "5/5 [==============================] - 0s 9ms/step - loss: 64.3068 - val_loss: 59.0270\n",
      "Epoch 204/800\n",
      "5/5 [==============================] - 0s 8ms/step - loss: 63.8125 - val_loss: 58.4999\n",
      "Epoch 205/800\n",
      "5/5 [==============================] - 0s 8ms/step - loss: 62.9422 - val_loss: 57.9210\n",
      "Epoch 206/800\n",
      "5/5 [==============================] - 0s 9ms/step - loss: 62.3870 - val_loss: 57.4120\n",
      "Epoch 207/800\n",
      "5/5 [==============================] - 0s 7ms/step - loss: 61.5007 - val_loss: 56.4591\n",
      "Epoch 208/800\n",
      "5/5 [==============================] - 0s 9ms/step - loss: 61.1439 - val_loss: 55.8293\n",
      "Epoch 209/800\n",
      "5/5 [==============================] - 0s 8ms/step - loss: 60.8838 - val_loss: 55.0298\n",
      "Epoch 210/800\n",
      "5/5 [==============================] - 0s 7ms/step - loss: 59.8018 - val_loss: 54.2999\n",
      "Epoch 211/800\n",
      "5/5 [==============================] - 0s 8ms/step - loss: 58.9894 - val_loss: 53.8736\n",
      "Epoch 212/800\n",
      "5/5 [==============================] - 0s 7ms/step - loss: 58.3709 - val_loss: 53.2967\n",
      "Epoch 213/800\n",
      "5/5 [==============================] - 0s 6ms/step - loss: 57.7850 - val_loss: 52.5558\n",
      "Epoch 214/800\n",
      "5/5 [==============================] - 0s 9ms/step - loss: 56.9482 - val_loss: 51.7063\n",
      "Epoch 215/800\n",
      "5/5 [==============================] - 0s 8ms/step - loss: 56.3918 - val_loss: 51.1375\n",
      "Epoch 216/800\n",
      "5/5 [==============================] - 0s 8ms/step - loss: 55.8045 - val_loss: 50.5574\n",
      "Epoch 217/800\n",
      "5/5 [==============================] - 0s 7ms/step - loss: 55.2649 - val_loss: 50.0514\n",
      "Epoch 218/800\n",
      "5/5 [==============================] - 0s 11ms/step - loss: 54.2871 - val_loss: 49.5232\n",
      "Epoch 219/800\n",
      "5/5 [==============================] - 0s 6ms/step - loss: 54.0024 - val_loss: 48.7116\n",
      "Epoch 220/800\n",
      "5/5 [==============================] - 0s 8ms/step - loss: 53.2368 - val_loss: 47.9811\n",
      "Epoch 221/800\n",
      "5/5 [==============================] - 0s 9ms/step - loss: 52.5630 - val_loss: 47.3527\n",
      "Epoch 222/800\n",
      "5/5 [==============================] - 0s 9ms/step - loss: 51.9709 - val_loss: 46.7837\n",
      "Epoch 223/800\n",
      "5/5 [==============================] - 0s 8ms/step - loss: 51.3154 - val_loss: 46.0849\n",
      "Epoch 224/800\n",
      "5/5 [==============================] - 0s 9ms/step - loss: 50.7096 - val_loss: 45.4785\n",
      "Epoch 225/800\n",
      "5/5 [==============================] - 0s 7ms/step - loss: 50.2166 - val_loss: 45.0356\n",
      "Epoch 226/800\n",
      "5/5 [==============================] - 0s 8ms/step - loss: 49.5323 - val_loss: 45.5739\n",
      "Epoch 227/800\n",
      "5/5 [==============================] - 0s 13ms/step - loss: 49.9659 - val_loss: 45.4944\n",
      "Epoch 228/800\n",
      "5/5 [==============================] - 0s 8ms/step - loss: 49.0962 - val_loss: 43.9987\n",
      "Epoch 229/800\n",
      "5/5 [==============================] - 0s 7ms/step - loss: 47.9077 - val_loss: 42.8398\n",
      "Epoch 230/800\n",
      "5/5 [==============================] - 0s 7ms/step - loss: 46.9801 - val_loss: 41.8957\n",
      "Epoch 231/800\n",
      "5/5 [==============================] - 0s 7ms/step - loss: 46.6701 - val_loss: 41.1960\n",
      "Epoch 232/800\n",
      "5/5 [==============================] - 0s 8ms/step - loss: 46.1315 - val_loss: 40.6002\n",
      "Epoch 233/800\n",
      "5/5 [==============================] - 0s 7ms/step - loss: 45.1590 - val_loss: 40.0739\n",
      "Epoch 234/800\n",
      "5/5 [==============================] - 0s 8ms/step - loss: 44.5629 - val_loss: 39.5315\n",
      "Epoch 235/800\n",
      "5/5 [==============================] - 0s 7ms/step - loss: 43.8397 - val_loss: 38.8526\n",
      "Epoch 236/800\n",
      "5/5 [==============================] - 0s 8ms/step - loss: 43.4496 - val_loss: 38.2315\n",
      "Epoch 237/800\n",
      "5/5 [==============================] - 0s 9ms/step - loss: 42.7359 - val_loss: 38.2863\n",
      "Epoch 238/800\n",
      "5/5 [==============================] - 0s 10ms/step - loss: 42.2003 - val_loss: 37.6083\n",
      "Epoch 239/800\n",
      "5/5 [==============================] - 0s 10ms/step - loss: 41.3642 - val_loss: 36.6742\n",
      "Epoch 240/800\n",
      "5/5 [==============================] - 0s 12ms/step - loss: 40.9038 - val_loss: 36.0417\n",
      "Epoch 241/800\n",
      "5/5 [==============================] - 0s 11ms/step - loss: 40.5724 - val_loss: 35.5198\n",
      "Epoch 242/800\n"
     ]
    },
    {
     "name": "stdout",
     "output_type": "stream",
     "text": [
      "5/5 [==============================] - 0s 10ms/step - loss: 39.7005 - val_loss: 35.0359\n",
      "Epoch 243/800\n",
      "5/5 [==============================] - 0s 11ms/step - loss: 39.1094 - val_loss: 34.6109\n",
      "Epoch 244/800\n",
      "5/5 [==============================] - 0s 9ms/step - loss: 38.5905 - val_loss: 34.2163\n",
      "Epoch 245/800\n",
      "5/5 [==============================] - 0s 10ms/step - loss: 38.0318 - val_loss: 33.4985\n",
      "Epoch 246/800\n",
      "5/5 [==============================] - 0s 8ms/step - loss: 37.3808 - val_loss: 32.7672\n",
      "Epoch 247/800\n",
      "5/5 [==============================] - 0s 9ms/step - loss: 36.7218 - val_loss: 32.1515\n",
      "Epoch 248/800\n",
      "5/5 [==============================] - 0s 9ms/step - loss: 36.1739 - val_loss: 31.5306\n",
      "Epoch 249/800\n",
      "5/5 [==============================] - 0s 9ms/step - loss: 35.6579 - val_loss: 31.0321\n",
      "Epoch 250/800\n",
      "5/5 [==============================] - 0s 8ms/step - loss: 34.8278 - val_loss: 30.7929\n",
      "Epoch 251/800\n",
      "5/5 [==============================] - 0s 8ms/step - loss: 34.3909 - val_loss: 30.2632\n",
      "Epoch 252/800\n",
      "5/5 [==============================] - 0s 11ms/step - loss: 33.7339 - val_loss: 29.9255\n",
      "Epoch 253/800\n",
      "5/5 [==============================] - 0s 8ms/step - loss: 33.1767 - val_loss: 29.2300\n",
      "Epoch 254/800\n",
      "5/5 [==============================] - 0s 9ms/step - loss: 32.5673 - val_loss: 28.5710\n",
      "Epoch 255/800\n",
      "5/5 [==============================] - 0s 9ms/step - loss: 32.0457 - val_loss: 28.0069\n",
      "Epoch 256/800\n",
      "5/5 [==============================] - 0s 10ms/step - loss: 31.5773 - val_loss: 27.5143\n",
      "Epoch 257/800\n",
      "5/5 [==============================] - 0s 6ms/step - loss: 30.7322 - val_loss: 27.1292\n",
      "Epoch 258/800\n",
      "5/5 [==============================] - 0s 7ms/step - loss: 30.1102 - val_loss: 26.5923\n",
      "Epoch 259/800\n",
      "5/5 [==============================] - 0s 9ms/step - loss: 29.4556 - val_loss: 26.1825\n",
      "Epoch 260/800\n",
      "5/5 [==============================] - 0s 9ms/step - loss: 28.9507 - val_loss: 25.6317\n",
      "Epoch 261/800\n",
      "5/5 [==============================] - 0s 9ms/step - loss: 28.2435 - val_loss: 25.2124\n",
      "Epoch 262/800\n",
      "5/5 [==============================] - 0s 9ms/step - loss: 27.5270 - val_loss: 24.6588\n",
      "Epoch 263/800\n",
      "5/5 [==============================] - 0s 9ms/step - loss: 26.6627 - val_loss: 23.8213\n",
      "Epoch 264/800\n",
      "5/5 [==============================] - 0s 8ms/step - loss: 25.9756 - val_loss: 23.1179\n",
      "Epoch 265/800\n",
      "5/5 [==============================] - 0s 10ms/step - loss: 25.5383 - val_loss: 22.5388\n",
      "Epoch 266/800\n",
      "5/5 [==============================] - 0s 8ms/step - loss: 24.8419 - val_loss: 22.1989\n",
      "Epoch 267/800\n",
      "5/5 [==============================] - 0s 8ms/step - loss: 24.0849 - val_loss: 21.6070\n",
      "Epoch 268/800\n",
      "5/5 [==============================] - 0s 7ms/step - loss: 23.4859 - val_loss: 21.0840\n",
      "Epoch 269/800\n",
      "5/5 [==============================] - 0s 7ms/step - loss: 22.8914 - val_loss: 20.6547\n",
      "Epoch 270/800\n",
      "5/5 [==============================] - 0s 8ms/step - loss: 22.6359 - val_loss: 20.6781\n",
      "Epoch 271/800\n",
      "5/5 [==============================] - 0s 7ms/step - loss: 21.8194 - val_loss: 19.5559\n",
      "Epoch 272/800\n",
      "5/5 [==============================] - 0s 8ms/step - loss: 21.0723 - val_loss: 18.8312\n",
      "Epoch 273/800\n",
      "5/5 [==============================] - 0s 7ms/step - loss: 20.5071 - val_loss: 18.5376\n",
      "Epoch 274/800\n",
      "5/5 [==============================] - 0s 7ms/step - loss: 19.8689 - val_loss: 18.5341\n",
      "Epoch 275/800\n",
      "5/5 [==============================] - 0s 8ms/step - loss: 19.7905 - val_loss: 18.0652\n",
      "Epoch 276/800\n",
      "5/5 [==============================] - 0s 7ms/step - loss: 19.1910 - val_loss: 16.8594\n",
      "Epoch 277/800\n",
      "5/5 [==============================] - 0s 9ms/step - loss: 18.4932 - val_loss: 16.3976\n",
      "Epoch 278/800\n",
      "5/5 [==============================] - 0s 7ms/step - loss: 17.9382 - val_loss: 16.1347\n",
      "Epoch 279/800\n",
      "5/5 [==============================] - 0s 9ms/step - loss: 17.4063 - val_loss: 15.9895\n",
      "Epoch 280/800\n",
      "5/5 [==============================] - 0s 8ms/step - loss: 16.9548 - val_loss: 15.3271\n",
      "Epoch 281/800\n",
      "5/5 [==============================] - 0s 7ms/step - loss: 16.4361 - val_loss: 14.8002\n",
      "Epoch 282/800\n",
      "5/5 [==============================] - 0s 9ms/step - loss: 15.9808 - val_loss: 14.3932\n",
      "Epoch 283/800\n",
      "5/5 [==============================] - 0s 8ms/step - loss: 15.6792 - val_loss: 14.1845\n",
      "Epoch 284/800\n",
      "5/5 [==============================] - 0s 10ms/step - loss: 15.1658 - val_loss: 13.6117\n",
      "Epoch 285/800\n",
      "5/5 [==============================] - 0s 38ms/step - loss: 14.7274 - val_loss: 13.0966\n",
      "Epoch 286/800\n",
      "5/5 [==============================] - 0s 9ms/step - loss: 14.2150 - val_loss: 12.4980\n",
      "Epoch 287/800\n",
      "5/5 [==============================] - 0s 8ms/step - loss: 13.8450 - val_loss: 12.1138\n",
      "Epoch 288/800\n",
      "5/5 [==============================] - 0s 7ms/step - loss: 13.4911 - val_loss: 11.8277\n",
      "Epoch 289/800\n",
      "5/5 [==============================] - 0s 8ms/step - loss: 13.0524 - val_loss: 11.2747\n",
      "Epoch 290/800\n",
      "5/5 [==============================] - 0s 8ms/step - loss: 12.7861 - val_loss: 10.9282\n",
      "Epoch 291/800\n",
      "5/5 [==============================] - 0s 8ms/step - loss: 12.3518 - val_loss: 10.9496\n",
      "Epoch 292/800\n",
      "5/5 [==============================] - 0s 7ms/step - loss: 11.8676 - val_loss: 10.4786\n",
      "Epoch 293/800\n",
      "5/5 [==============================] - 0s 8ms/step - loss: 11.5002 - val_loss: 9.9841\n",
      "Epoch 294/800\n",
      "5/5 [==============================] - 0s 9ms/step - loss: 11.0615 - val_loss: 9.7415\n",
      "Epoch 295/800\n",
      "5/5 [==============================] - 0s 7ms/step - loss: 10.7950 - val_loss: 9.4152\n",
      "Epoch 296/800\n",
      "5/5 [==============================] - 0s 9ms/step - loss: 10.4581 - val_loss: 8.9898\n",
      "Epoch 297/800\n",
      "5/5 [==============================] - 0s 10ms/step - loss: 10.0585 - val_loss: 8.5168\n",
      "Epoch 298/800\n",
      "5/5 [==============================] - 0s 8ms/step - loss: 10.1832 - val_loss: 8.2361\n",
      "Epoch 299/800\n",
      "5/5 [==============================] - 0s 7ms/step - loss: 9.9064 - val_loss: 8.5085\n",
      "Epoch 300/800\n",
      "5/5 [==============================] - 0s 7ms/step - loss: 9.5252 - val_loss: 8.3107\n",
      "Epoch 301/800\n",
      "5/5 [==============================] - 0s 8ms/step - loss: 9.1365 - val_loss: 7.5630\n",
      "Epoch 302/800\n",
      "5/5 [==============================] - 0s 7ms/step - loss: 9.0626 - val_loss: 7.2885\n",
      "Epoch 303/800\n",
      "5/5 [==============================] - 0s 8ms/step - loss: 8.7738 - val_loss: 7.0757\n",
      "Epoch 304/800\n",
      "5/5 [==============================] - 0s 9ms/step - loss: 8.3966 - val_loss: 7.0571\n",
      "Epoch 305/800\n",
      "5/5 [==============================] - 0s 7ms/step - loss: 8.2104 - val_loss: 7.3329\n",
      "Epoch 306/800\n",
      "5/5 [==============================] - 0s 7ms/step - loss: 8.2891 - val_loss: 6.9536\n",
      "Epoch 307/800\n",
      "5/5 [==============================] - 0s 8ms/step - loss: 7.8431 - val_loss: 6.1826\n",
      "Epoch 308/800\n",
      "5/5 [==============================] - 0s 7ms/step - loss: 7.7452 - val_loss: 5.9772\n",
      "Epoch 309/800\n",
      "5/5 [==============================] - 0s 8ms/step - loss: 7.5745 - val_loss: 5.7867\n",
      "Epoch 310/800\n",
      "5/5 [==============================] - 0s 9ms/step - loss: 7.3102 - val_loss: 5.8892\n",
      "Epoch 311/800\n",
      "5/5 [==============================] - 0s 8ms/step - loss: 7.1223 - val_loss: 5.6089\n",
      "Epoch 312/800\n",
      "5/5 [==============================] - 0s 8ms/step - loss: 6.9782 - val_loss: 5.3019\n",
      "Epoch 313/800\n",
      "5/5 [==============================] - 0s 9ms/step - loss: 6.7647 - val_loss: 5.2233\n",
      "Epoch 314/800\n",
      "5/5 [==============================] - 0s 7ms/step - loss: 6.7428 - val_loss: 5.0023\n",
      "Epoch 315/800\n",
      "5/5 [==============================] - 0s 9ms/step - loss: 6.5143 - val_loss: 5.0443\n",
      "Epoch 316/800\n",
      "5/5 [==============================] - 0s 9ms/step - loss: 6.3782 - val_loss: 4.7746\n",
      "Epoch 317/800\n",
      "5/5 [==============================] - 0s 8ms/step - loss: 6.1913 - val_loss: 4.7479\n",
      "Epoch 318/800\n",
      "5/5 [==============================] - 0s 9ms/step - loss: 6.1439 - val_loss: 4.6744\n",
      "Epoch 319/800\n",
      "5/5 [==============================] - 0s 8ms/step - loss: 5.9612 - val_loss: 4.3515\n",
      "Epoch 320/800\n",
      "5/5 [==============================] - 0s 8ms/step - loss: 5.8700 - val_loss: 4.2113\n",
      "Epoch 321/800\n",
      "5/5 [==============================] - 0s 8ms/step - loss: 5.7902 - val_loss: 4.1637\n",
      "Epoch 322/800\n",
      "5/5 [==============================] - 0s 12ms/step - loss: 5.6410 - val_loss: 4.0397\n",
      "Epoch 323/800\n",
      "5/5 [==============================] - 0s 8ms/step - loss: 5.6111 - val_loss: 3.9470\n",
      "Epoch 324/800\n",
      "5/5 [==============================] - 0s 8ms/step - loss: 5.4704 - val_loss: 3.9330\n",
      "Epoch 325/800\n",
      "5/5 [==============================] - 0s 8ms/step - loss: 5.3909 - val_loss: 3.8690\n",
      "Epoch 326/800\n",
      "5/5 [==============================] - 0s 8ms/step - loss: 5.3396 - val_loss: 3.6933\n",
      "Epoch 327/800\n",
      "5/5 [==============================] - 0s 7ms/step - loss: 5.2620 - val_loss: 3.9493\n",
      "Epoch 328/800\n",
      "5/5 [==============================] - 0s 8ms/step - loss: 5.2545 - val_loss: 3.6620\n",
      "Epoch 329/800\n",
      "5/5 [==============================] - 0s 8ms/step - loss: 5.0737 - val_loss: 3.4530\n",
      "Epoch 330/800\n",
      "5/5 [==============================] - 0s 7ms/step - loss: 5.0501 - val_loss: 3.3917\n",
      "Epoch 331/800\n",
      "5/5 [==============================] - 0s 8ms/step - loss: 4.9494 - val_loss: 3.3478\n",
      "Epoch 332/800\n",
      "5/5 [==============================] - 0s 10ms/step - loss: 4.8316 - val_loss: 3.2632\n",
      "Epoch 333/800\n",
      "5/5 [==============================] - 0s 8ms/step - loss: 4.7480 - val_loss: 3.2298\n",
      "Epoch 334/800\n",
      "5/5 [==============================] - 0s 8ms/step - loss: 4.6527 - val_loss: 3.2305\n",
      "Epoch 335/800\n",
      "5/5 [==============================] - 0s 7ms/step - loss: 4.5735 - val_loss: 3.0940\n",
      "Epoch 336/800\n",
      "5/5 [==============================] - 0s 10ms/step - loss: 4.4962 - val_loss: 2.9962\n",
      "Epoch 337/800\n",
      "5/5 [==============================] - 0s 8ms/step - loss: 4.4588 - val_loss: 2.8871\n",
      "Epoch 338/800\n",
      "5/5 [==============================] - 0s 7ms/step - loss: 4.2836 - val_loss: 3.1845\n",
      "Epoch 339/800\n",
      "5/5 [==============================] - 0s 7ms/step - loss: 4.3307 - val_loss: 2.9065\n",
      "Epoch 340/800\n",
      "5/5 [==============================] - 0s 7ms/step - loss: 4.1411 - val_loss: 2.7016\n",
      "Epoch 341/800\n",
      "5/5 [==============================] - 0s 7ms/step - loss: 4.1783 - val_loss: 2.6552\n",
      "Epoch 342/800\n",
      "5/5 [==============================] - 0s 9ms/step - loss: 4.1123 - val_loss: 2.8425\n",
      "Epoch 343/800\n",
      "5/5 [==============================] - 0s 9ms/step - loss: 3.9710 - val_loss: 2.5621\n",
      "Epoch 344/800\n",
      "5/5 [==============================] - 0s 9ms/step - loss: 3.8734 - val_loss: 2.4825\n",
      "Epoch 345/800\n",
      "5/5 [==============================] - 0s 9ms/step - loss: 3.8453 - val_loss: 2.4740\n",
      "Epoch 346/800\n",
      "5/5 [==============================] - 0s 7ms/step - loss: 3.7278 - val_loss: 2.4151\n",
      "Epoch 347/800\n",
      "5/5 [==============================] - 0s 12ms/step - loss: 3.6834 - val_loss: 2.3639\n",
      "Epoch 348/800\n",
      "5/5 [==============================] - 0s 10ms/step - loss: 3.6574 - val_loss: 2.5153\n",
      "Epoch 349/800\n",
      "5/5 [==============================] - 0s 9ms/step - loss: 3.6017 - val_loss: 2.4424\n",
      "Epoch 350/800\n",
      "5/5 [==============================] - 0s 9ms/step - loss: 3.5172 - val_loss: 2.2773\n",
      "Epoch 351/800\n",
      "5/5 [==============================] - 0s 9ms/step - loss: 3.4465 - val_loss: 2.2336\n",
      "Epoch 352/800\n",
      "5/5 [==============================] - 0s 6ms/step - loss: 3.3850 - val_loss: 2.2541\n",
      "Epoch 353/800\n",
      "5/5 [==============================] - 0s 8ms/step - loss: 3.3322 - val_loss: 2.1526\n",
      "Epoch 354/800\n",
      "5/5 [==============================] - 0s 8ms/step - loss: 3.3192 - val_loss: 2.1030\n",
      "Epoch 355/800\n",
      "5/5 [==============================] - 0s 8ms/step - loss: 3.2707 - val_loss: 2.2086\n",
      "Epoch 356/800\n",
      "5/5 [==============================] - 0s 7ms/step - loss: 3.2241 - val_loss: 2.1011\n",
      "Epoch 357/800\n",
      "5/5 [==============================] - 0s 10ms/step - loss: 3.2117 - val_loss: 2.0136\n",
      "Epoch 358/800\n",
      "5/5 [==============================] - 0s 8ms/step - loss: 3.1318 - val_loss: 2.1271\n",
      "Epoch 359/800\n",
      "5/5 [==============================] - 0s 7ms/step - loss: 3.1705 - val_loss: 2.2504\n",
      "Epoch 360/800\n",
      "5/5 [==============================] - 0s 7ms/step - loss: 3.0904 - val_loss: 1.9351\n",
      "Epoch 361/800\n",
      "5/5 [==============================] - 0s 10ms/step - loss: 3.1701 - val_loss: 1.9170\n",
      "Epoch 362/800\n",
      "5/5 [==============================] - 0s 8ms/step - loss: 3.0283 - val_loss: 2.1271\n",
      "Epoch 363/800\n",
      "5/5 [==============================] - 0s 9ms/step - loss: 3.0049 - val_loss: 1.9345\n",
      "Epoch 364/800\n",
      "5/5 [==============================] - 0s 10ms/step - loss: 2.9387 - val_loss: 1.8665\n",
      "Epoch 365/800\n",
      "5/5 [==============================] - 0s 9ms/step - loss: 2.9568 - val_loss: 1.8481\n",
      "Epoch 366/800\n",
      "5/5 [==============================] - 0s 8ms/step - loss: 2.9026 - val_loss: 1.9204\n",
      "Epoch 367/800\n",
      "5/5 [==============================] - 0s 11ms/step - loss: 2.8553 - val_loss: 1.8212\n",
      "Epoch 368/800\n",
      "5/5 [==============================] - 0s 13ms/step - loss: 2.8556 - val_loss: 1.8057\n",
      "Epoch 369/800\n",
      "5/5 [==============================] - 0s 17ms/step - loss: 2.8108 - val_loss: 1.9464\n",
      "Epoch 370/800\n",
      "5/5 [==============================] - 0s 10ms/step - loss: 2.8818 - val_loss: 1.8600\n",
      "Epoch 371/800\n",
      "5/5 [==============================] - 0s 11ms/step - loss: 2.8951 - val_loss: 1.8390\n",
      "Epoch 372/800\n",
      "5/5 [==============================] - 0s 8ms/step - loss: 2.8316 - val_loss: 1.9361\n",
      "Epoch 373/800\n",
      "5/5 [==============================] - 0s 9ms/step - loss: 2.7588 - val_loss: 1.9872\n",
      "Epoch 374/800\n",
      "5/5 [==============================] - 0s 12ms/step - loss: 2.7748 - val_loss: 1.8985\n",
      "Epoch 375/800\n",
      "5/5 [==============================] - 0s 13ms/step - loss: 2.7250 - val_loss: 1.8525\n",
      "Epoch 376/800\n",
      "5/5 [==============================] - 0s 9ms/step - loss: 2.6467 - val_loss: 1.7294\n",
      "Epoch 377/800\n",
      "5/5 [==============================] - 0s 10ms/step - loss: 2.7142 - val_loss: 1.7308\n",
      "Epoch 378/800\n",
      "5/5 [==============================] - 0s 9ms/step - loss: 2.6247 - val_loss: 1.7929\n",
      "Epoch 379/800\n",
      "5/5 [==============================] - 0s 13ms/step - loss: 2.7880 - val_loss: 1.8552\n",
      "Epoch 380/800\n",
      "5/5 [==============================] - 0s 11ms/step - loss: 2.5723 - val_loss: 1.7271\n",
      "Epoch 381/800\n",
      "5/5 [==============================] - 0s 27ms/step - loss: 2.7332 - val_loss: 1.7175\n",
      "Epoch 382/800\n",
      "5/5 [==============================] - 0s 24ms/step - loss: 2.6076 - val_loss: 1.8940\n",
      "Epoch 383/800\n",
      "5/5 [==============================] - 0s 16ms/step - loss: 2.5513 - val_loss: 1.7032\n",
      "Epoch 384/800\n",
      "5/5 [==============================] - 0s 13ms/step - loss: 2.5989 - val_loss: 1.6935\n",
      "Epoch 385/800\n",
      "5/5 [==============================] - 0s 21ms/step - loss: 2.5307 - val_loss: 1.7559\n",
      "Epoch 386/800\n",
      "5/5 [==============================] - 0s 14ms/step - loss: 2.5519 - val_loss: 1.6920\n",
      "Epoch 387/800\n",
      "5/5 [==============================] - 0s 13ms/step - loss: 2.5066 - val_loss: 1.6920\n",
      "Epoch 388/800\n",
      "5/5 [==============================] - 0s 27ms/step - loss: 2.5037 - val_loss: 1.7089\n",
      "Epoch 389/800\n",
      "5/5 [==============================] - 0s 12ms/step - loss: 2.5204 - val_loss: 1.7313\n",
      "Epoch 390/800\n",
      "5/5 [==============================] - 0s 9ms/step - loss: 2.4729 - val_loss: 1.6730\n",
      "Epoch 391/800\n",
      "5/5 [==============================] - 0s 14ms/step - loss: 2.4830 - val_loss: 1.7070\n",
      "Epoch 392/800\n",
      "5/5 [==============================] - 0s 12ms/step - loss: 2.4748 - val_loss: 1.7378\n",
      "Epoch 393/800\n",
      "5/5 [==============================] - 0s 12ms/step - loss: 2.5192 - val_loss: 1.9163\n",
      "Epoch 394/800\n",
      "5/5 [==============================] - 0s 12ms/step - loss: 2.5033 - val_loss: 1.6664\n",
      "Epoch 395/800\n",
      "5/5 [==============================] - 0s 17ms/step - loss: 2.5230 - val_loss: 1.6361\n",
      "Epoch 396/800\n",
      "5/5 [==============================] - 0s 9ms/step - loss: 2.3929 - val_loss: 1.7908\n",
      "Epoch 397/800\n",
      "5/5 [==============================] - 0s 9ms/step - loss: 2.5493 - val_loss: 1.9145\n",
      "Epoch 398/800\n",
      "5/5 [==============================] - 0s 8ms/step - loss: 2.4423 - val_loss: 1.6375\n",
      "Epoch 399/800\n",
      "5/5 [==============================] - 0s 22ms/step - loss: 2.5034 - val_loss: 1.6222\n",
      "Epoch 400/800\n",
      "5/5 [==============================] - 0s 10ms/step - loss: 2.5778 - val_loss: 2.0414\n",
      "Epoch 401/800\n",
      "5/5 [==============================] - 0s 14ms/step - loss: 2.5959 - val_loss: 1.6127\n",
      "Epoch 402/800\n",
      "5/5 [==============================] - 0s 12ms/step - loss: 2.3534 - val_loss: 1.7787\n",
      "Epoch 403/800\n",
      "5/5 [==============================] - 0s 16ms/step - loss: 2.4531 - val_loss: 1.6560\n",
      "Epoch 404/800\n",
      "5/5 [==============================] - 0s 12ms/step - loss: 2.3482 - val_loss: 1.6185\n",
      "Epoch 405/800\n"
     ]
    },
    {
     "name": "stdout",
     "output_type": "stream",
     "text": [
      "5/5 [==============================] - 0s 8ms/step - loss: 2.4369 - val_loss: 1.6487\n",
      "Epoch 406/800\n",
      "5/5 [==============================] - 0s 10ms/step - loss: 2.3469 - val_loss: 1.7198\n",
      "Epoch 407/800\n",
      "5/5 [==============================] - 0s 13ms/step - loss: 2.3437 - val_loss: 1.6180\n",
      "Epoch 408/800\n",
      "5/5 [==============================] - 0s 12ms/step - loss: 2.3419 - val_loss: 1.6272\n",
      "Epoch 409/800\n",
      "5/5 [==============================] - 0s 12ms/step - loss: 2.3203 - val_loss: 1.6299\n",
      "Epoch 410/800\n",
      "5/5 [==============================] - 0s 8ms/step - loss: 2.3125 - val_loss: 1.6373\n",
      "Epoch 411/800\n",
      "5/5 [==============================] - 0s 12ms/step - loss: 2.2936 - val_loss: 1.7255\n",
      "Epoch 412/800\n",
      "5/5 [==============================] - 0s 18ms/step - loss: 2.3857 - val_loss: 1.7583\n",
      "Epoch 413/800\n",
      "5/5 [==============================] - 0s 24ms/step - loss: 2.2194 - val_loss: 1.6525\n",
      "Epoch 414/800\n",
      "5/5 [==============================] - 0s 21ms/step - loss: 2.5400 - val_loss: 1.6287\n",
      "Epoch 415/800\n",
      "5/5 [==============================] - 0s 20ms/step - loss: 2.2989 - val_loss: 1.9966\n",
      "Epoch 416/800\n",
      "5/5 [==============================] - 0s 14ms/step - loss: 2.4399 - val_loss: 1.6489\n",
      "Epoch 417/800\n",
      "5/5 [==============================] - 0s 20ms/step - loss: 2.2530 - val_loss: 1.6986\n",
      "Epoch 418/800\n",
      "5/5 [==============================] - 0s 18ms/step - loss: 2.4158 - val_loss: 1.6240\n",
      "Epoch 419/800\n",
      "5/5 [==============================] - 0s 17ms/step - loss: 2.4525 - val_loss: 2.0325\n",
      "Epoch 420/800\n",
      "5/5 [==============================] - 0s 11ms/step - loss: 2.3585 - val_loss: 1.6052\n",
      "Epoch 421/800\n",
      "5/5 [==============================] - 0s 13ms/step - loss: 2.4255 - val_loss: 1.5922\n",
      "Epoch 422/800\n",
      "5/5 [==============================] - 0s 12ms/step - loss: 2.2227 - val_loss: 1.6913\n",
      "Epoch 423/800\n",
      "5/5 [==============================] - 0s 19ms/step - loss: 2.3026 - val_loss: 1.6799\n",
      "Epoch 424/800\n",
      "5/5 [==============================] - 0s 9ms/step - loss: 2.2395 - val_loss: 1.6298\n",
      "Epoch 425/800\n",
      "5/5 [==============================] - 0s 12ms/step - loss: 2.3680 - val_loss: 1.6096\n",
      "Epoch 426/800\n",
      "5/5 [==============================] - 0s 10ms/step - loss: 2.2310 - val_loss: 1.6052\n",
      "Epoch 427/800\n",
      "5/5 [==============================] - 0s 16ms/step - loss: 2.2621 - val_loss: 1.6020\n",
      "Epoch 428/800\n",
      "5/5 [==============================] - 0s 9ms/step - loss: 2.2243 - val_loss: 1.6564\n",
      "Epoch 429/800\n",
      "5/5 [==============================] - 0s 12ms/step - loss: 2.2482 - val_loss: 1.7021\n",
      "Epoch 430/800\n",
      "5/5 [==============================] - 0s 11ms/step - loss: 2.1996 - val_loss: 1.6013\n",
      "Epoch 431/800\n",
      "5/5 [==============================] - 0s 16ms/step - loss: 2.2539 - val_loss: 1.5958\n",
      "Epoch 432/800\n",
      "5/5 [==============================] - 0s 16ms/step - loss: 2.2535 - val_loss: 2.0105\n",
      "Epoch 433/800\n",
      "5/5 [==============================] - 0s 9ms/step - loss: 2.4865 - val_loss: 1.6261\n",
      "Epoch 434/800\n",
      "5/5 [==============================] - 0s 23ms/step - loss: 2.3473 - val_loss: 1.6318\n",
      "Epoch 435/800\n",
      "5/5 [==============================] - 0s 14ms/step - loss: 2.2158 - val_loss: 1.8064\n",
      "Epoch 436/800\n",
      "5/5 [==============================] - 0s 10ms/step - loss: 2.3759 - val_loss: 1.5876\n",
      "Epoch 437/800\n",
      "5/5 [==============================] - 0s 16ms/step - loss: 2.1545 - val_loss: 1.5977\n",
      "Epoch 438/800\n",
      "5/5 [==============================] - 0s 20ms/step - loss: 2.3694 - val_loss: 1.5453\n",
      "Epoch 439/800\n",
      "5/5 [==============================] - 0s 12ms/step - loss: 2.2023 - val_loss: 1.7257\n",
      "Epoch 440/800\n",
      "5/5 [==============================] - 0s 7ms/step - loss: 2.2331 - val_loss: 1.5715\n",
      "Epoch 441/800\n",
      "5/5 [==============================] - 0s 11ms/step - loss: 2.2057 - val_loss: 1.5698\n",
      "Epoch 442/800\n",
      "5/5 [==============================] - 0s 13ms/step - loss: 2.2469 - val_loss: 1.6112\n",
      "Epoch 443/800\n",
      "5/5 [==============================] - 0s 16ms/step - loss: 2.1952 - val_loss: 1.5706\n",
      "Epoch 444/800\n",
      "5/5 [==============================] - 0s 12ms/step - loss: 2.2077 - val_loss: 1.6116\n",
      "Epoch 445/800\n",
      "5/5 [==============================] - 0s 13ms/step - loss: 2.2019 - val_loss: 1.5732\n",
      "Epoch 446/800\n",
      "5/5 [==============================] - 0s 18ms/step - loss: 2.2287 - val_loss: 1.5714\n",
      "Epoch 447/800\n",
      "5/5 [==============================] - 0s 11ms/step - loss: 2.1547 - val_loss: 1.6067\n",
      "Epoch 448/800\n",
      "5/5 [==============================] - 0s 8ms/step - loss: 2.1716 - val_loss: 1.6123\n",
      "Epoch 449/800\n",
      "5/5 [==============================] - 0s 10ms/step - loss: 2.1563 - val_loss: 1.6165\n",
      "Epoch 450/800\n",
      "5/5 [==============================] - 0s 10ms/step - loss: 2.1540 - val_loss: 1.5883\n",
      "Epoch 451/800\n",
      "5/5 [==============================] - 0s 7ms/step - loss: 2.2375 - val_loss: 1.5933\n",
      "Epoch 452/800\n",
      "5/5 [==============================] - 0s 9ms/step - loss: 2.1514 - val_loss: 1.6800\n",
      "Epoch 453/800\n",
      "5/5 [==============================] - 0s 9ms/step - loss: 2.1494 - val_loss: 1.5894\n",
      "Epoch 454/800\n",
      "5/5 [==============================] - 0s 9ms/step - loss: 2.1546 - val_loss: 1.5949\n",
      "Epoch 455/800\n",
      "5/5 [==============================] - 0s 14ms/step - loss: 2.1912 - val_loss: 1.6437\n",
      "Epoch 456/800\n",
      "5/5 [==============================] - 0s 10ms/step - loss: 2.1765 - val_loss: 1.5930\n",
      "Epoch 457/800\n",
      "5/5 [==============================] - 0s 10ms/step - loss: 2.1740 - val_loss: 1.5979\n",
      "Epoch 458/800\n",
      "5/5 [==============================] - 0s 7ms/step - loss: 2.2276 - val_loss: 1.6330\n",
      "Epoch 459/800\n",
      "5/5 [==============================] - 0s 10ms/step - loss: 2.1354 - val_loss: 1.5656\n",
      "Epoch 460/800\n",
      "5/5 [==============================] - 0s 14ms/step - loss: 2.1575 - val_loss: 1.5674\n",
      "Epoch 461/800\n",
      "5/5 [==============================] - 0s 8ms/step - loss: 2.1424 - val_loss: 1.5821\n",
      "Epoch 462/800\n",
      "5/5 [==============================] - 0s 12ms/step - loss: 2.1194 - val_loss: 1.5550\n",
      "Epoch 463/800\n",
      "5/5 [==============================] - 0s 7ms/step - loss: 2.1333 - val_loss: 1.5711\n",
      "Epoch 464/800\n",
      "5/5 [==============================] - 0s 10ms/step - loss: 2.1139 - val_loss: 1.5979\n",
      "Epoch 465/800\n",
      "5/5 [==============================] - 0s 15ms/step - loss: 2.1312 - val_loss: 1.5673\n",
      "Epoch 466/800\n",
      "5/5 [==============================] - 0s 10ms/step - loss: 2.1703 - val_loss: 1.5589\n",
      "Epoch 467/800\n",
      "5/5 [==============================] - 0s 8ms/step - loss: 2.1582 - val_loss: 1.5927\n",
      "Epoch 468/800\n",
      "5/5 [==============================] - 0s 6ms/step - loss: 2.1162 - val_loss: 1.5674\n",
      "Epoch 469/800\n",
      "5/5 [==============================] - 0s 10ms/step - loss: 2.1153 - val_loss: 1.5720\n",
      "Epoch 470/800\n",
      "5/5 [==============================] - 0s 11ms/step - loss: 2.1213 - val_loss: 1.6009\n",
      "Epoch 471/800\n",
      "5/5 [==============================] - 0s 8ms/step - loss: 2.1567 - val_loss: 1.6493\n",
      "Epoch 472/800\n",
      "5/5 [==============================] - 0s 11ms/step - loss: 2.1612 - val_loss: 1.6790\n",
      "Epoch 473/800\n",
      "5/5 [==============================] - 0s 8ms/step - loss: 2.1287 - val_loss: 1.5849\n",
      "Epoch 474/800\n",
      "5/5 [==============================] - 0s 9ms/step - loss: 2.1283 - val_loss: 1.5940\n",
      "Epoch 475/800\n",
      "5/5 [==============================] - 0s 17ms/step - loss: 2.1161 - val_loss: 1.6200\n",
      "Epoch 476/800\n",
      "5/5 [==============================] - 0s 11ms/step - loss: 2.1060 - val_loss: 1.5630\n",
      "Epoch 477/800\n",
      "5/5 [==============================] - 0s 8ms/step - loss: 2.1279 - val_loss: 1.5742\n",
      "Epoch 478/800\n",
      "5/5 [==============================] - 0s 8ms/step - loss: 2.1053 - val_loss: 1.5824\n",
      "Epoch 479/800\n",
      "5/5 [==============================] - 0s 9ms/step - loss: 2.1092 - val_loss: 1.6099\n",
      "Epoch 480/800\n",
      "5/5 [==============================] - 0s 10ms/step - loss: 2.1098 - val_loss: 1.6294\n",
      "Epoch 481/800\n",
      "5/5 [==============================] - 0s 7ms/step - loss: 2.1333 - val_loss: 1.6018\n",
      "Epoch 482/800\n",
      "5/5 [==============================] - 0s 11ms/step - loss: 2.1150 - val_loss: 1.6545\n",
      "Epoch 483/800\n",
      "5/5 [==============================] - 0s 7ms/step - loss: 2.1032 - val_loss: 1.6051\n",
      "Epoch 484/800\n",
      "5/5 [==============================] - 0s 8ms/step - loss: 2.1042 - val_loss: 1.5968\n",
      "Epoch 485/800\n",
      "5/5 [==============================] - 0s 14ms/step - loss: 2.1027 - val_loss: 1.6161\n",
      "Epoch 486/800\n",
      "5/5 [==============================] - 0s 8ms/step - loss: 2.0916 - val_loss: 1.6256\n",
      "Epoch 487/800\n",
      "5/5 [==============================] - 0s 10ms/step - loss: 2.1389 - val_loss: 1.5792\n",
      "Epoch 488/800\n",
      "5/5 [==============================] - 0s 9ms/step - loss: 2.0927 - val_loss: 1.5760\n",
      "Epoch 00488: early stopping\n"
     ]
    },
    {
     "data": {
      "text/plain": [
       "<tensorflow.python.keras.callbacks.History at 0x160751e82c8>"
      ]
     },
     "execution_count": 89,
     "metadata": {},
     "output_type": "execute_result"
    }
   ],
   "source": [
    "model.fit(x=X_train, \n",
    "          y=y_train, \n",
    "          epochs=800,\n",
    "          validation_data=(X_test, y_test), verbose=1,\n",
    "          callbacks=[early_stop]\n",
    "          )"
   ]
  },
  {
   "cell_type": "code",
   "execution_count": 90,
   "metadata": {},
   "outputs": [],
   "source": [
    "predictions = model.predict(X_test)"
   ]
  },
  {
   "cell_type": "code",
   "execution_count": 91,
   "metadata": {},
   "outputs": [
    {
     "ename": "TypeError",
     "evalue": "no numeric data to plot",
     "output_type": "error",
     "traceback": [
      "\u001b[1;31m---------------------------------------------------------------------------\u001b[0m",
      "\u001b[1;31mTypeError\u001b[0m                                 Traceback (most recent call last)",
      "\u001b[1;32m<ipython-input-91-dd94a6926206>\u001b[0m in \u001b[0;36m<module>\u001b[1;34m\u001b[0m\n\u001b[0;32m      1\u001b[0m \u001b[0mmodel_loss\u001b[0m \u001b[1;33m=\u001b[0m \u001b[0mpd\u001b[0m\u001b[1;33m.\u001b[0m\u001b[0mDataFrame\u001b[0m\u001b[1;33m(\u001b[0m\u001b[0mmodel\u001b[0m\u001b[1;33m.\u001b[0m\u001b[0mhistory\u001b[0m\u001b[1;33m.\u001b[0m\u001b[0mhistory\u001b[0m\u001b[1;33m)\u001b[0m\u001b[1;33m\u001b[0m\u001b[1;33m\u001b[0m\u001b[0m\n\u001b[1;32m----> 2\u001b[1;33m \u001b[0mmodel_loss\u001b[0m\u001b[1;33m.\u001b[0m\u001b[0mplot\u001b[0m\u001b[1;33m(\u001b[0m\u001b[1;33m)\u001b[0m\u001b[1;33m\u001b[0m\u001b[1;33m\u001b[0m\u001b[0m\n\u001b[0m",
      "\u001b[1;32m~\\anaconda3\\lib\\site-packages\\pandas\\plotting\\_core.py\u001b[0m in \u001b[0;36m__call__\u001b[1;34m(self, *args, **kwargs)\u001b[0m\n\u001b[0;32m    845\u001b[0m                     \u001b[0mdata\u001b[0m\u001b[1;33m.\u001b[0m\u001b[0mcolumns\u001b[0m \u001b[1;33m=\u001b[0m \u001b[0mlabel_name\u001b[0m\u001b[1;33m\u001b[0m\u001b[1;33m\u001b[0m\u001b[0m\n\u001b[0;32m    846\u001b[0m \u001b[1;33m\u001b[0m\u001b[0m\n\u001b[1;32m--> 847\u001b[1;33m         \u001b[1;32mreturn\u001b[0m \u001b[0mplot_backend\u001b[0m\u001b[1;33m.\u001b[0m\u001b[0mplot\u001b[0m\u001b[1;33m(\u001b[0m\u001b[0mdata\u001b[0m\u001b[1;33m,\u001b[0m \u001b[0mkind\u001b[0m\u001b[1;33m=\u001b[0m\u001b[0mkind\u001b[0m\u001b[1;33m,\u001b[0m \u001b[1;33m**\u001b[0m\u001b[0mkwargs\u001b[0m\u001b[1;33m)\u001b[0m\u001b[1;33m\u001b[0m\u001b[1;33m\u001b[0m\u001b[0m\n\u001b[0m\u001b[0;32m    848\u001b[0m \u001b[1;33m\u001b[0m\u001b[0m\n\u001b[0;32m    849\u001b[0m     \u001b[0m__call__\u001b[0m\u001b[1;33m.\u001b[0m\u001b[0m__doc__\u001b[0m \u001b[1;33m=\u001b[0m \u001b[0m__doc__\u001b[0m\u001b[1;33m\u001b[0m\u001b[1;33m\u001b[0m\u001b[0m\n",
      "\u001b[1;32m~\\anaconda3\\lib\\site-packages\\pandas\\plotting\\_matplotlib\\__init__.py\u001b[0m in \u001b[0;36mplot\u001b[1;34m(data, kind, **kwargs)\u001b[0m\n\u001b[0;32m     59\u001b[0m             \u001b[0mkwargs\u001b[0m\u001b[1;33m[\u001b[0m\u001b[1;34m\"ax\"\u001b[0m\u001b[1;33m]\u001b[0m \u001b[1;33m=\u001b[0m \u001b[0mgetattr\u001b[0m\u001b[1;33m(\u001b[0m\u001b[0max\u001b[0m\u001b[1;33m,\u001b[0m \u001b[1;34m\"left_ax\"\u001b[0m\u001b[1;33m,\u001b[0m \u001b[0max\u001b[0m\u001b[1;33m)\u001b[0m\u001b[1;33m\u001b[0m\u001b[1;33m\u001b[0m\u001b[0m\n\u001b[0;32m     60\u001b[0m     \u001b[0mplot_obj\u001b[0m \u001b[1;33m=\u001b[0m \u001b[0mPLOT_CLASSES\u001b[0m\u001b[1;33m[\u001b[0m\u001b[0mkind\u001b[0m\u001b[1;33m]\u001b[0m\u001b[1;33m(\u001b[0m\u001b[0mdata\u001b[0m\u001b[1;33m,\u001b[0m \u001b[1;33m**\u001b[0m\u001b[0mkwargs\u001b[0m\u001b[1;33m)\u001b[0m\u001b[1;33m\u001b[0m\u001b[1;33m\u001b[0m\u001b[0m\n\u001b[1;32m---> 61\u001b[1;33m     \u001b[0mplot_obj\u001b[0m\u001b[1;33m.\u001b[0m\u001b[0mgenerate\u001b[0m\u001b[1;33m(\u001b[0m\u001b[1;33m)\u001b[0m\u001b[1;33m\u001b[0m\u001b[1;33m\u001b[0m\u001b[0m\n\u001b[0m\u001b[0;32m     62\u001b[0m     \u001b[0mplot_obj\u001b[0m\u001b[1;33m.\u001b[0m\u001b[0mdraw\u001b[0m\u001b[1;33m(\u001b[0m\u001b[1;33m)\u001b[0m\u001b[1;33m\u001b[0m\u001b[1;33m\u001b[0m\u001b[0m\n\u001b[0;32m     63\u001b[0m     \u001b[1;32mreturn\u001b[0m \u001b[0mplot_obj\u001b[0m\u001b[1;33m.\u001b[0m\u001b[0mresult\u001b[0m\u001b[1;33m\u001b[0m\u001b[1;33m\u001b[0m\u001b[0m\n",
      "\u001b[1;32m~\\anaconda3\\lib\\site-packages\\pandas\\plotting\\_matplotlib\\core.py\u001b[0m in \u001b[0;36mgenerate\u001b[1;34m(self)\u001b[0m\n\u001b[0;32m    259\u001b[0m     \u001b[1;32mdef\u001b[0m \u001b[0mgenerate\u001b[0m\u001b[1;33m(\u001b[0m\u001b[0mself\u001b[0m\u001b[1;33m)\u001b[0m\u001b[1;33m:\u001b[0m\u001b[1;33m\u001b[0m\u001b[1;33m\u001b[0m\u001b[0m\n\u001b[0;32m    260\u001b[0m         \u001b[0mself\u001b[0m\u001b[1;33m.\u001b[0m\u001b[0m_args_adjust\u001b[0m\u001b[1;33m(\u001b[0m\u001b[1;33m)\u001b[0m\u001b[1;33m\u001b[0m\u001b[1;33m\u001b[0m\u001b[0m\n\u001b[1;32m--> 261\u001b[1;33m         \u001b[0mself\u001b[0m\u001b[1;33m.\u001b[0m\u001b[0m_compute_plot_data\u001b[0m\u001b[1;33m(\u001b[0m\u001b[1;33m)\u001b[0m\u001b[1;33m\u001b[0m\u001b[1;33m\u001b[0m\u001b[0m\n\u001b[0m\u001b[0;32m    262\u001b[0m         \u001b[0mself\u001b[0m\u001b[1;33m.\u001b[0m\u001b[0m_setup_subplots\u001b[0m\u001b[1;33m(\u001b[0m\u001b[1;33m)\u001b[0m\u001b[1;33m\u001b[0m\u001b[1;33m\u001b[0m\u001b[0m\n\u001b[0;32m    263\u001b[0m         \u001b[0mself\u001b[0m\u001b[1;33m.\u001b[0m\u001b[0m_make_plot\u001b[0m\u001b[1;33m(\u001b[0m\u001b[1;33m)\u001b[0m\u001b[1;33m\u001b[0m\u001b[1;33m\u001b[0m\u001b[0m\n",
      "\u001b[1;32m~\\anaconda3\\lib\\site-packages\\pandas\\plotting\\_matplotlib\\core.py\u001b[0m in \u001b[0;36m_compute_plot_data\u001b[1;34m(self)\u001b[0m\n\u001b[0;32m    408\u001b[0m         \u001b[1;31m# no non-numeric frames or series allowed\u001b[0m\u001b[1;33m\u001b[0m\u001b[1;33m\u001b[0m\u001b[1;33m\u001b[0m\u001b[0m\n\u001b[0;32m    409\u001b[0m         \u001b[1;32mif\u001b[0m \u001b[0mis_empty\u001b[0m\u001b[1;33m:\u001b[0m\u001b[1;33m\u001b[0m\u001b[1;33m\u001b[0m\u001b[0m\n\u001b[1;32m--> 410\u001b[1;33m             \u001b[1;32mraise\u001b[0m \u001b[0mTypeError\u001b[0m\u001b[1;33m(\u001b[0m\u001b[1;34m\"no numeric data to plot\"\u001b[0m\u001b[1;33m)\u001b[0m\u001b[1;33m\u001b[0m\u001b[1;33m\u001b[0m\u001b[0m\n\u001b[0m\u001b[0;32m    411\u001b[0m \u001b[1;33m\u001b[0m\u001b[0m\n\u001b[0;32m    412\u001b[0m         \u001b[1;31m# GH25587: cast ExtensionArray of pandas (IntegerArray, etc.) to\u001b[0m\u001b[1;33m\u001b[0m\u001b[1;33m\u001b[0m\u001b[1;33m\u001b[0m\u001b[0m\n",
      "\u001b[1;31mTypeError\u001b[0m: no numeric data to plot"
     ]
    }
   ],
   "source": [
    "model_loss = pd.DataFrame(model.history.history)\n",
    "model_loss.plot()"
   ]
  },
  {
   "cell_type": "code",
   "execution_count": 92,
   "metadata": {},
   "outputs": [
    {
     "data": {
      "text/plain": [
       "1.2553865726512463"
      ]
     },
     "execution_count": 92,
     "metadata": {},
     "output_type": "execute_result"
    }
   ],
   "source": [
    "np.sqrt(MSE(y_test, predictions))"
   ]
  },
  {
   "cell_type": "code",
   "execution_count": 93,
   "metadata": {},
   "outputs": [
    {
     "data": {
      "text/plain": [
       "[<matplotlib.lines.Line2D at 0x160739d9308>]"
      ]
     },
     "execution_count": 93,
     "metadata": {},
     "output_type": "execute_result"
    },
    {
     "data": {
      "image/png": "[encoded data removed]",
      "text/plain": [
       "<Figure size 640x480 with 1 Axes>"
      ]
     },
     "metadata": {},
     "output_type": "display_data"
    }
   ],
   "source": [
    "# Our predictions\n",
    "plt.scatter(y_test,predictions)\n",
    "\n",
    "# Perfect predictions\n",
    "plt.plot(y_test,y_test,'r')"
   ]
  },
  {
   "cell_type": "code",
   "execution_count": 22,
   "metadata": {},
   "outputs": [],
   "source": [
    "Efficiency = pd.DataFrame({\"R^2\": [86.54, 86.35, 85.87, 86.18],\n",
    "                          \"RMSE\" : [1.2076, 1.22, 1.238, 1.2238]})"
   ]
  },
  {
   "cell_type": "code",
   "execution_count": 23,
   "metadata": {},
   "outputs": [
    {
     "data": {
      "text/html": [
       "<div>\n",
       "<style scoped>\n",
       "    .dataframe tbody tr th:only-of-type {\n",
       "        vertical-align: middle;\n",
       "    }\n",
       "\n",
       "    .dataframe tbody tr th {\n",
       "        vertical-align: top;\n",
       "    }\n",
       "\n",
       "    .dataframe thead th {\n",
       "        text-align: right;\n",
       "    }\n",
       "</style>\n",
       "<table border=\"1\" class=\"dataframe\">\n",
       "  <thead>\n",
       "    <tr style=\"text-align: right;\">\n",
       "      <th></th>\n",
       "      <th>R^2</th>\n",
       "      <th>RMSE</th>\n",
       "    </tr>\n",
       "  </thead>\n",
       "  <tbody>\n",
       "    <tr>\n",
       "      <th>Linear Regression</th>\n",
       "      <td>86.54</td>\n",
       "      <td>1.2076</td>\n",
       "    </tr>\n",
       "    <tr>\n",
       "      <th>Random Forest</th>\n",
       "      <td>86.35</td>\n",
       "      <td>1.2200</td>\n",
       "    </tr>\n",
       "    <tr>\n",
       "      <th>Gradient Boosting</th>\n",
       "      <td>85.87</td>\n",
       "      <td>1.2380</td>\n",
       "    </tr>\n",
       "    <tr>\n",
       "      <th>ANN</th>\n",
       "      <td>86.18</td>\n",
       "      <td>1.2238</td>\n",
       "    </tr>\n",
       "  </tbody>\n",
       "</table>\n",
       "</div>"
      ],
      "text/plain": [
       "                     R^2    RMSE\n",
       "Linear Regression  86.54  1.2076\n",
       "Random Forest      86.35  1.2200\n",
       "Gradient Boosting  85.87  1.2380\n",
       "ANN                86.18  1.2238"
      ]
     },
     "execution_count": 23,
     "metadata": {},
     "output_type": "execute_result"
    }
   ],
   "source": [
    "Efficiency.index = [\"Linear Regression\", \"Random Forest\", \"Gradient Boosting\", \"ANN\"]\n",
    "Efficiency.head()"
   ]
  },
  {
   "cell_type": "code",
   "execution_count": 24,
   "metadata": {},
   "outputs": [],
   "source": [
    "Efficiency.to_excel(\"efficiency.xlsx\")"
   ]
  },
  {
   "cell_type": "code",
   "execution_count": 247,
   "metadata": {},
   "outputs": [
    {
     "data": {
      "text/plain": [
       "<matplotlib.axes._subplots.AxesSubplot at 0x213a76a3f08>"
      ]
     },
     "execution_count": 247,
     "metadata": {},
     "output_type": "execute_result"
    },
    {
     "data": {
      "image/png": "[encoded data removed]",
      "text/plain": [
       "<Figure size 640x480 with 1 Axes>"
      ]
     },
     "metadata": {},
     "output_type": "display_data"
    }
   ],
   "source": [
    "Efficiency[\"R^2\"].plot(kind = \"bar\")"
   ]
  },
  {
   "cell_type": "code",
   "execution_count": 248,
   "metadata": {},
   "outputs": [
    {
     "data": {
      "text/plain": [
       "<matplotlib.axes._subplots.AxesSubplot at 0x213a75818c8>"
      ]
     },
     "execution_count": 248,
     "metadata": {},
     "output_type": "execute_result"
    },
    {
     "data": {
      "image/png": "[encoded data removed]",
      "text/plain": [
       "<Figure size 640x480 with 1 Axes>"
      ]
     },
     "metadata": {},
     "output_type": "display_data"
    }
   ],
   "source": [
    "Efficiency[\"RMSE\"].plot(kind = \"bar\")"
   ]
  },
  {
   "cell_type": "code",
   "execution_count": 106,
   "metadata": {},
   "outputs": [],
   "source": [
    "\n",
    "ANOVA = pd.DataFrame({\"Test Data_y\": y_test,\n",
    "                      \"Linear Regression\": y_pred, \n",
    "                      \"Random Forest\": y_pred_rf, \n",
    "                      \"Gradient Boosting\": y_pred_gb})"
   ]
  },
  {
   "cell_type": "code",
   "execution_count": 109,
   "metadata": {},
   "outputs": [],
   "source": [
    "predictions = np.concatenate(predictions)"
   ]
  },
  {
   "cell_type": "code",
   "execution_count": 111,
   "metadata": {},
   "outputs": [
    {
     "data": {
      "text/html": [
       "<div>\n",
       "<style scoped>\n",
       "    .dataframe tbody tr th:only-of-type {\n",
       "        vertical-align: middle;\n",
       "    }\n",
       "\n",
       "    .dataframe tbody tr th {\n",
       "        vertical-align: top;\n",
       "    }\n",
       "\n",
       "    .dataframe thead th {\n",
       "        text-align: right;\n",
       "    }\n",
       "</style>\n",
       "<table border=\"1\" class=\"dataframe\">\n",
       "  <thead>\n",
       "    <tr style=\"text-align: right;\">\n",
       "      <th></th>\n",
       "      <th>Test Data_y</th>\n",
       "      <th>Linear Regression</th>\n",
       "      <th>Random Forest</th>\n",
       "      <th>Gradient Boosting</th>\n",
       "      <th>ANN</th>\n",
       "    </tr>\n",
       "  </thead>\n",
       "  <tbody>\n",
       "    <tr>\n",
       "      <th>0</th>\n",
       "      <td>34.5</td>\n",
       "      <td>33.121972</td>\n",
       "      <td>33.094202</td>\n",
       "      <td>32.534360</td>\n",
       "      <td>33.123756</td>\n",
       "    </tr>\n",
       "    <tr>\n",
       "      <th>1</th>\n",
       "      <td>31.0</td>\n",
       "      <td>31.282746</td>\n",
       "      <td>31.716181</td>\n",
       "      <td>31.498123</td>\n",
       "      <td>30.979561</td>\n",
       "    </tr>\n",
       "    <tr>\n",
       "      <th>2</th>\n",
       "      <td>36.5</td>\n",
       "      <td>35.559106</td>\n",
       "      <td>36.909011</td>\n",
       "      <td>37.045558</td>\n",
       "      <td>35.746750</td>\n",
       "    </tr>\n",
       "    <tr>\n",
       "      <th>3</th>\n",
       "      <td>28.5</td>\n",
       "      <td>28.851931</td>\n",
       "      <td>29.068889</td>\n",
       "      <td>28.957736</td>\n",
       "      <td>28.711899</td>\n",
       "    </tr>\n",
       "    <tr>\n",
       "      <th>4</th>\n",
       "      <td>31.0</td>\n",
       "      <td>31.492160</td>\n",
       "      <td>31.989890</td>\n",
       "      <td>32.106073</td>\n",
       "      <td>31.553474</td>\n",
       "    </tr>\n",
       "    <tr>\n",
       "      <th>5</th>\n",
       "      <td>33.0</td>\n",
       "      <td>33.726200</td>\n",
       "      <td>34.076581</td>\n",
       "      <td>34.985504</td>\n",
       "      <td>33.829178</td>\n",
       "    </tr>\n",
       "    <tr>\n",
       "      <th>6</th>\n",
       "      <td>27.5</td>\n",
       "      <td>28.439423</td>\n",
       "      <td>28.142548</td>\n",
       "      <td>27.843666</td>\n",
       "      <td>28.346132</td>\n",
       "    </tr>\n",
       "    <tr>\n",
       "      <th>7</th>\n",
       "      <td>31.0</td>\n",
       "      <td>32.098916</td>\n",
       "      <td>32.264657</td>\n",
       "      <td>31.647781</td>\n",
       "      <td>32.298412</td>\n",
       "    </tr>\n",
       "    <tr>\n",
       "      <th>8</th>\n",
       "      <td>38.0</td>\n",
       "      <td>37.800729</td>\n",
       "      <td>38.260642</td>\n",
       "      <td>38.363277</td>\n",
       "      <td>37.883602</td>\n",
       "    </tr>\n",
       "    <tr>\n",
       "      <th>9</th>\n",
       "      <td>29.0</td>\n",
       "      <td>29.053762</td>\n",
       "      <td>28.895234</td>\n",
       "      <td>28.268056</td>\n",
       "      <td>28.975079</td>\n",
       "    </tr>\n",
       "    <tr>\n",
       "      <th>10</th>\n",
       "      <td>31.0</td>\n",
       "      <td>30.679782</td>\n",
       "      <td>30.783824</td>\n",
       "      <td>30.322311</td>\n",
       "      <td>30.679148</td>\n",
       "    </tr>\n",
       "    <tr>\n",
       "      <th>11</th>\n",
       "      <td>32.0</td>\n",
       "      <td>31.692727</td>\n",
       "      <td>32.340711</td>\n",
       "      <td>32.525726</td>\n",
       "      <td>31.861242</td>\n",
       "    </tr>\n",
       "    <tr>\n",
       "      <th>12</th>\n",
       "      <td>31.0</td>\n",
       "      <td>31.084707</td>\n",
       "      <td>31.585495</td>\n",
       "      <td>31.451366</td>\n",
       "      <td>31.160902</td>\n",
       "    </tr>\n",
       "    <tr>\n",
       "      <th>13</th>\n",
       "      <td>27.5</td>\n",
       "      <td>28.642517</td>\n",
       "      <td>28.246277</td>\n",
       "      <td>28.113078</td>\n",
       "      <td>28.549456</td>\n",
       "    </tr>\n",
       "    <tr>\n",
       "      <th>14</th>\n",
       "      <td>30.0</td>\n",
       "      <td>30.069234</td>\n",
       "      <td>30.583760</td>\n",
       "      <td>30.523633</td>\n",
       "      <td>30.067987</td>\n",
       "    </tr>\n",
       "    <tr>\n",
       "      <th>15</th>\n",
       "      <td>31.0</td>\n",
       "      <td>30.472896</td>\n",
       "      <td>30.538363</td>\n",
       "      <td>30.064651</td>\n",
       "      <td>30.594343</td>\n",
       "    </tr>\n",
       "    <tr>\n",
       "      <th>16</th>\n",
       "      <td>29.0</td>\n",
       "      <td>29.459951</td>\n",
       "      <td>29.102222</td>\n",
       "      <td>28.746964</td>\n",
       "      <td>29.412243</td>\n",
       "    </tr>\n",
       "    <tr>\n",
       "      <th>17</th>\n",
       "      <td>33.0</td>\n",
       "      <td>37.790619</td>\n",
       "      <td>37.608347</td>\n",
       "      <td>37.642733</td>\n",
       "      <td>36.967834</td>\n",
       "    </tr>\n",
       "    <tr>\n",
       "      <th>18</th>\n",
       "      <td>28.0</td>\n",
       "      <td>28.441950</td>\n",
       "      <td>28.328449</td>\n",
       "      <td>27.825687</td>\n",
       "      <td>28.408518</td>\n",
       "    </tr>\n",
       "    <tr>\n",
       "      <th>19</th>\n",
       "      <td>32.0</td>\n",
       "      <td>32.101444</td>\n",
       "      <td>32.027545</td>\n",
       "      <td>31.544744</td>\n",
       "      <td>32.209221</td>\n",
       "    </tr>\n",
       "    <tr>\n",
       "      <th>20</th>\n",
       "      <td>28.5</td>\n",
       "      <td>29.047442</td>\n",
       "      <td>28.784229</td>\n",
       "      <td>28.738350</td>\n",
       "      <td>28.727650</td>\n",
       "    </tr>\n",
       "    <tr>\n",
       "      <th>21</th>\n",
       "      <td>28.5</td>\n",
       "      <td>28.848139</td>\n",
       "      <td>28.547320</td>\n",
       "      <td>28.354830</td>\n",
       "      <td>28.845678</td>\n",
       "    </tr>\n",
       "    <tr>\n",
       "      <th>22</th>\n",
       "      <td>30.0</td>\n",
       "      <td>29.863612</td>\n",
       "      <td>29.692389</td>\n",
       "      <td>29.607667</td>\n",
       "      <td>29.938595</td>\n",
       "    </tr>\n",
       "    <tr>\n",
       "      <th>23</th>\n",
       "      <td>37.0</td>\n",
       "      <td>34.744201</td>\n",
       "      <td>35.167899</td>\n",
       "      <td>35.352896</td>\n",
       "      <td>34.931877</td>\n",
       "    </tr>\n",
       "    <tr>\n",
       "      <th>24</th>\n",
       "      <td>34.0</td>\n",
       "      <td>33.939405</td>\n",
       "      <td>33.774463</td>\n",
       "      <td>34.590197</td>\n",
       "      <td>33.819714</td>\n",
       "    </tr>\n",
       "    <tr>\n",
       "      <th>25</th>\n",
       "      <td>27.5</td>\n",
       "      <td>28.029442</td>\n",
       "      <td>28.108602</td>\n",
       "      <td>28.206687</td>\n",
       "      <td>25.353846</td>\n",
       "    </tr>\n",
       "    <tr>\n",
       "      <th>26</th>\n",
       "      <td>38.5</td>\n",
       "      <td>37.800729</td>\n",
       "      <td>38.260642</td>\n",
       "      <td>38.363277</td>\n",
       "      <td>37.883602</td>\n",
       "    </tr>\n",
       "    <tr>\n",
       "      <th>27</th>\n",
       "      <td>33.0</td>\n",
       "      <td>33.321275</td>\n",
       "      <td>33.041861</td>\n",
       "      <td>33.167566</td>\n",
       "      <td>33.476128</td>\n",
       "    </tr>\n",
       "    <tr>\n",
       "      <th>28</th>\n",
       "      <td>38.5</td>\n",
       "      <td>37.800729</td>\n",
       "      <td>38.260642</td>\n",
       "      <td>38.363277</td>\n",
       "      <td>37.883602</td>\n",
       "    </tr>\n",
       "    <tr>\n",
       "      <th>29</th>\n",
       "      <td>28.5</td>\n",
       "      <td>28.436895</td>\n",
       "      <td>28.113242</td>\n",
       "      <td>27.914631</td>\n",
       "      <td>26.714678</td>\n",
       "    </tr>\n",
       "    <tr>\n",
       "      <th>30</th>\n",
       "      <td>38.5</td>\n",
       "      <td>37.809576</td>\n",
       "      <td>38.130261</td>\n",
       "      <td>38.472874</td>\n",
       "      <td>37.571449</td>\n",
       "    </tr>\n",
       "    <tr>\n",
       "      <th>31</th>\n",
       "      <td>31.5</td>\n",
       "      <td>30.884140</td>\n",
       "      <td>30.778382</td>\n",
       "      <td>30.630213</td>\n",
       "      <td>30.853128</td>\n",
       "    </tr>\n",
       "    <tr>\n",
       "      <th>32</th>\n",
       "      <td>28.0</td>\n",
       "      <td>28.650100</td>\n",
       "      <td>29.413357</td>\n",
       "      <td>29.330179</td>\n",
       "      <td>29.974373</td>\n",
       "    </tr>\n",
       "    <tr>\n",
       "      <th>33</th>\n",
       "      <td>31.5</td>\n",
       "      <td>31.492160</td>\n",
       "      <td>31.989890</td>\n",
       "      <td>32.106073</td>\n",
       "      <td>31.553474</td>\n",
       "    </tr>\n",
       "    <tr>\n",
       "      <th>34</th>\n",
       "      <td>30.0</td>\n",
       "      <td>30.475423</td>\n",
       "      <td>31.259592</td>\n",
       "      <td>30.271897</td>\n",
       "      <td>30.505156</td>\n",
       "    </tr>\n",
       "    <tr>\n",
       "      <th>35</th>\n",
       "      <td>29.0</td>\n",
       "      <td>29.665573</td>\n",
       "      <td>29.910274</td>\n",
       "      <td>29.830162</td>\n",
       "      <td>29.541637</td>\n",
       "    </tr>\n",
       "    <tr>\n",
       "      <th>36</th>\n",
       "      <td>28.0</td>\n",
       "      <td>28.844348</td>\n",
       "      <td>28.742595</td>\n",
       "      <td>28.734032</td>\n",
       "      <td>28.524326</td>\n",
       "    </tr>\n",
       "    <tr>\n",
       "      <th>37</th>\n",
       "      <td>31.5</td>\n",
       "      <td>32.096388</td>\n",
       "      <td>31.954750</td>\n",
       "      <td>31.118546</td>\n",
       "      <td>31.895233</td>\n",
       "    </tr>\n",
       "    <tr>\n",
       "      <th>38</th>\n",
       "      <td>34.5</td>\n",
       "      <td>35.154181</td>\n",
       "      <td>35.947941</td>\n",
       "      <td>34.768661</td>\n",
       "      <td>35.264992</td>\n",
       "    </tr>\n",
       "    <tr>\n",
       "      <th>39</th>\n",
       "      <td>38.5</td>\n",
       "      <td>37.800729</td>\n",
       "      <td>38.260642</td>\n",
       "      <td>38.363277</td>\n",
       "      <td>37.883602</td>\n",
       "    </tr>\n",
       "    <tr>\n",
       "      <th>40</th>\n",
       "      <td>38.0</td>\n",
       "      <td>31.909724</td>\n",
       "      <td>32.616291</td>\n",
       "      <td>32.723562</td>\n",
       "      <td>31.589298</td>\n",
       "    </tr>\n",
       "    <tr>\n",
       "      <th>41</th>\n",
       "      <td>31.5</td>\n",
       "      <td>31.087235</td>\n",
       "      <td>31.084096</td>\n",
       "      <td>31.259940</td>\n",
       "      <td>31.071709</td>\n",
       "    </tr>\n",
       "    <tr>\n",
       "      <th>42</th>\n",
       "      <td>33.0</td>\n",
       "      <td>32.098916</td>\n",
       "      <td>32.264657</td>\n",
       "      <td>31.647781</td>\n",
       "      <td>32.298412</td>\n",
       "    </tr>\n",
       "    <tr>\n",
       "      <th>43</th>\n",
       "      <td>30.5</td>\n",
       "      <td>30.675990</td>\n",
       "      <td>30.585160</td>\n",
       "      <td>30.046999</td>\n",
       "      <td>30.812927</td>\n",
       "    </tr>\n",
       "    <tr>\n",
       "      <th>44</th>\n",
       "      <td>32.0</td>\n",
       "      <td>31.284010</td>\n",
       "      <td>31.589505</td>\n",
       "      <td>31.594673</td>\n",
       "      <td>31.338959</td>\n",
       "    </tr>\n",
       "    <tr>\n",
       "      <th>45</th>\n",
       "      <td>36.0</td>\n",
       "      <td>36.785257</td>\n",
       "      <td>38.065073</td>\n",
       "      <td>37.857775</td>\n",
       "      <td>36.790688</td>\n",
       "    </tr>\n",
       "    <tr>\n",
       "      <th>46</th>\n",
       "      <td>30.0</td>\n",
       "      <td>30.881613</td>\n",
       "      <td>31.425245</td>\n",
       "      <td>30.842898</td>\n",
       "      <td>30.942320</td>\n",
       "    </tr>\n",
       "    <tr>\n",
       "      <th>47</th>\n",
       "      <td>30.5</td>\n",
       "      <td>30.882876</td>\n",
       "      <td>31.024565</td>\n",
       "      <td>30.803829</td>\n",
       "      <td>30.897726</td>\n",
       "    </tr>\n",
       "    <tr>\n",
       "      <th>48</th>\n",
       "      <td>35.0</td>\n",
       "      <td>34.742937</td>\n",
       "      <td>35.009602</td>\n",
       "      <td>34.986542</td>\n",
       "      <td>34.719849</td>\n",
       "    </tr>\n",
       "    <tr>\n",
       "      <th>49</th>\n",
       "      <td>33.0</td>\n",
       "      <td>32.710727</td>\n",
       "      <td>32.638208</td>\n",
       "      <td>33.239207</td>\n",
       "      <td>32.864971</td>\n",
       "    </tr>\n",
       "    <tr>\n",
       "      <th>50</th>\n",
       "      <td>30.0</td>\n",
       "      <td>30.474160</td>\n",
       "      <td>30.734777</td>\n",
       "      <td>30.186079</td>\n",
       "      <td>30.549747</td>\n",
       "    </tr>\n",
       "    <tr>\n",
       "      <th>51</th>\n",
       "      <td>28.5</td>\n",
       "      <td>28.843084</td>\n",
       "      <td>28.790014</td>\n",
       "      <td>28.728054</td>\n",
       "      <td>27.530794</td>\n",
       "    </tr>\n",
       "    <tr>\n",
       "      <th>52</th>\n",
       "      <td>33.0</td>\n",
       "      <td>33.115653</td>\n",
       "      <td>32.655671</td>\n",
       "      <td>32.607612</td>\n",
       "      <td>33.209961</td>\n",
       "    </tr>\n",
       "    <tr>\n",
       "      <th>53</th>\n",
       "      <td>35.5</td>\n",
       "      <td>35.371178</td>\n",
       "      <td>36.781309</td>\n",
       "      <td>33.550294</td>\n",
       "      <td>34.993053</td>\n",
       "    </tr>\n",
       "    <tr>\n",
       "      <th>54</th>\n",
       "      <td>38.5</td>\n",
       "      <td>37.801993</td>\n",
       "      <td>38.190287</td>\n",
       "      <td>38.278438</td>\n",
       "      <td>37.839012</td>\n",
       "    </tr>\n",
       "    <tr>\n",
       "      <th>55</th>\n",
       "      <td>31.5</td>\n",
       "      <td>30.877821</td>\n",
       "      <td>30.711434</td>\n",
       "      <td>30.600530</td>\n",
       "      <td>31.014456</td>\n",
       "    </tr>\n",
       "    <tr>\n",
       "      <th>56</th>\n",
       "      <td>36.5</td>\n",
       "      <td>37.798202</td>\n",
       "      <td>34.548329</td>\n",
       "      <td>34.726510</td>\n",
       "      <td>37.972790</td>\n",
       "    </tr>\n",
       "    <tr>\n",
       "      <th>57</th>\n",
       "      <td>33.0</td>\n",
       "      <td>33.928031</td>\n",
       "      <td>34.023251</td>\n",
       "      <td>34.878356</td>\n",
       "      <td>33.752880</td>\n",
       "    </tr>\n",
       "    <tr>\n",
       "      <th>58</th>\n",
       "      <td>30.5</td>\n",
       "      <td>30.267274</td>\n",
       "      <td>30.180001</td>\n",
       "      <td>31.167131</td>\n",
       "      <td>30.174343</td>\n",
       "    </tr>\n",
       "  </tbody>\n",
       "</table>\n",
       "</div>"
      ],
      "text/plain": [
       "    Test Data_y  Linear Regression  Random Forest  Gradient Boosting  \\\n",
       "0          34.5          33.121972      33.094202          32.534360   \n",
       "1          31.0          31.282746      31.716181          31.498123   \n",
       "2          36.5          35.559106      36.909011          37.045558   \n",
       "3          28.5          28.851931      29.068889          28.957736   \n",
       "4          31.0          31.492160      31.989890          32.106073   \n",
       "5          33.0          33.726200      34.076581          34.985504   \n",
       "6          27.5          28.439423      28.142548          27.843666   \n",
       "7          31.0          32.098916      32.264657          31.647781   \n",
       "8          38.0          37.800729      38.260642          38.363277   \n",
       "9          29.0          29.053762      28.895234          28.268056   \n",
       "10         31.0          30.679782      30.783824          30.322311   \n",
       "11         32.0          31.692727      32.340711          32.525726   \n",
       "12         31.0          31.084707      31.585495          31.451366   \n",
       "13         27.5          28.642517      28.246277          28.113078   \n",
       "14         30.0          30.069234      30.583760          30.523633   \n",
       "15         31.0          30.472896      30.538363          30.064651   \n",
       "16         29.0          29.459951      29.102222          28.746964   \n",
       "17         33.0          37.790619      37.608347          37.642733   \n",
       "18         28.0          28.441950      28.328449          27.825687   \n",
       "19         32.0          32.101444      32.027545          31.544744   \n",
       "20         28.5          29.047442      28.784229          28.738350   \n",
       "21         28.5          28.848139      28.547320          28.354830   \n",
       "22         30.0          29.863612      29.692389          29.607667   \n",
       "23         37.0          34.744201      35.167899          35.352896   \n",
       "24         34.0          33.939405      33.774463          34.590197   \n",
       "25         27.5          28.029442      28.108602          28.206687   \n",
       "26         38.5          37.800729      38.260642          38.363277   \n",
       "27         33.0          33.321275      33.041861          33.167566   \n",
       "28         38.5          37.800729      38.260642          38.363277   \n",
       "29         28.5          28.436895      28.113242          27.914631   \n",
       "30         38.5          37.809576      38.130261          38.472874   \n",
       "31         31.5          30.884140      30.778382          30.630213   \n",
       "32         28.0          28.650100      29.413357          29.330179   \n",
       "33         31.5          31.492160      31.989890          32.106073   \n",
       "34         30.0          30.475423      31.259592          30.271897   \n",
       "35         29.0          29.665573      29.910274          29.830162   \n",
       "36         28.0          28.844348      28.742595          28.734032   \n",
       "37         31.5          32.096388      31.954750          31.118546   \n",
       "38         34.5          35.154181      35.947941          34.768661   \n",
       "39         38.5          37.800729      38.260642          38.363277   \n",
       "40         38.0          31.909724      32.616291          32.723562   \n",
       "41         31.5          31.087235      31.084096          31.259940   \n",
       "42         33.0          32.098916      32.264657          31.647781   \n",
       "43         30.5          30.675990      30.585160          30.046999   \n",
       "44         32.0          31.284010      31.589505          31.594673   \n",
       "45         36.0          36.785257      38.065073          37.857775   \n",
       "46         30.0          30.881613      31.425245          30.842898   \n",
       "47         30.5          30.882876      31.024565          30.803829   \n",
       "48         35.0          34.742937      35.009602          34.986542   \n",
       "49         33.0          32.710727      32.638208          33.239207   \n",
       "50         30.0          30.474160      30.734777          30.186079   \n",
       "51         28.5          28.843084      28.790014          28.728054   \n",
       "52         33.0          33.115653      32.655671          32.607612   \n",
       "53         35.5          35.371178      36.781309          33.550294   \n",
       "54         38.5          37.801993      38.190287          38.278438   \n",
       "55         31.5          30.877821      30.711434          30.600530   \n",
       "56         36.5          37.798202      34.548329          34.726510   \n",
       "57         33.0          33.928031      34.023251          34.878356   \n",
       "58         30.5          30.267274      30.180001          31.167131   \n",
       "\n",
       "          ANN  \n",
       "0   33.123756  \n",
       "1   30.979561  \n",
       "2   35.746750  \n",
       "3   28.711899  \n",
       "4   31.553474  \n",
       "5   33.829178  \n",
       "6   28.346132  \n",
       "7   32.298412  \n",
       "8   37.883602  \n",
       "9   28.975079  \n",
       "10  30.679148  \n",
       "11  31.861242  \n",
       "12  31.160902  \n",
       "13  28.549456  \n",
       "14  30.067987  \n",
       "15  30.594343  \n",
       "16  29.412243  \n",
       "17  36.967834  \n",
       "18  28.408518  \n",
       "19  32.209221  \n",
       "20  28.727650  \n",
       "21  28.845678  \n",
       "22  29.938595  \n",
       "23  34.931877  \n",
       "24  33.819714  \n",
       "25  25.353846  \n",
       "26  37.883602  \n",
       "27  33.476128  \n",
       "28  37.883602  \n",
       "29  26.714678  \n",
       "30  37.571449  \n",
       "31  30.853128  \n",
       "32  29.974373  \n",
       "33  31.553474  \n",
       "34  30.505156  \n",
       "35  29.541637  \n",
       "36  28.524326  \n",
       "37  31.895233  \n",
       "38  35.264992  \n",
       "39  37.883602  \n",
       "40  31.589298  \n",
       "41  31.071709  \n",
       "42  32.298412  \n",
       "43  30.812927  \n",
       "44  31.338959  \n",
       "45  36.790688  \n",
       "46  30.942320  \n",
       "47  30.897726  \n",
       "48  34.719849  \n",
       "49  32.864971  \n",
       "50  30.549747  \n",
       "51  27.530794  \n",
       "52  33.209961  \n",
       "53  34.993053  \n",
       "54  37.839012  \n",
       "55  31.014456  \n",
       "56  37.972790  \n",
       "57  33.752880  \n",
       "58  30.174343  "
      ]
     },
     "execution_count": 111,
     "metadata": {},
     "output_type": "execute_result"
    }
   ],
   "source": [
    "ANOVA = pd.DataFrame({\"Test Data_y\": y_test,\n",
    "                      \"Linear Regression\": y_pred, \n",
    "                      \"Random Forest\": y_pred_rf, \n",
    "                      \"Gradient Boosting\": y_pred_gb,\n",
    "                     \"ANN\": predictions})\n",
    "ANOVA"
   ]
  },
  {
   "cell_type": "code",
   "execution_count": 112,
   "metadata": {},
   "outputs": [],
   "source": [
    "ANOVA.to_excel(\"ANOVA.xlsx\")"
   ]
  },
  {
   "cell_type": "code",
   "execution_count": 29,
   "metadata": {},
   "outputs": [],
   "source": [
    "new = pd.read_excel(\"test.xlsx\", sheet_name= \"Sheet1\")\n",
    "new.head()\n",
    "new.columns = [\"Depth\", \"N60\", \"Phi\", \"Wolff\", \"This_study\"]"
   ]
  },
  {
   "cell_type": "code",
   "execution_count": 30,
   "metadata": {},
   "outputs": [],
   "source": [
    "new[\"Nitish\"] = 26.1261 + 0.3125 * new[\"N60\"]"
   ]
  },
  {
   "cell_type": "code",
   "execution_count": 33,
   "metadata": {},
   "outputs": [],
   "source": [
    "new[\"err_This_study\"] = abs(new[\"Phi\"] - new[\"This_study\"])\n",
    "new[\"err_Wolff\"] = abs(new[\"Phi\"] - new[\"Wolff\"])\n",
    "new[\"err_Nitish\"] = abs(new[\"Phi\"] - new[\"Nitish\"])\n",
    "new.sort_values(by = [\"Phi\"], inplace = True)\n",
    "new.reset_index(inplace = True)"
   ]
  },
  {
   "cell_type": "code",
   "execution_count": 34,
   "metadata": {},
   "outputs": [
    {
     "data": {
      "text/html": [
       "<div>\n",
       "<style scoped>\n",
       "    .dataframe tbody tr th:only-of-type {\n",
       "        vertical-align: middle;\n",
       "    }\n",
       "\n",
       "    .dataframe tbody tr th {\n",
       "        vertical-align: top;\n",
       "    }\n",
       "\n",
       "    .dataframe thead th {\n",
       "        text-align: right;\n",
       "    }\n",
       "</style>\n",
       "<table border=\"1\" class=\"dataframe\">\n",
       "  <thead>\n",
       "    <tr style=\"text-align: right;\">\n",
       "      <th></th>\n",
       "      <th>index</th>\n",
       "      <th>Depth</th>\n",
       "      <th>N60</th>\n",
       "      <th>Phi</th>\n",
       "      <th>Wolff</th>\n",
       "      <th>This_study</th>\n",
       "      <th>Nitish</th>\n",
       "      <th>err_This_study</th>\n",
       "      <th>err_Wolff</th>\n",
       "      <th>err_Nitish</th>\n",
       "    </tr>\n",
       "  </thead>\n",
       "  <tbody>\n",
       "    <tr>\n",
       "      <th>0</th>\n",
       "      <td>55</td>\n",
       "      <td>1.5</td>\n",
       "      <td>1.2</td>\n",
       "      <td>27.5</td>\n",
       "      <td>27.459222</td>\n",
       "      <td>27.93976</td>\n",
       "      <td>26.5011</td>\n",
       "      <td>0.43976</td>\n",
       "      <td>0.040778</td>\n",
       "      <td>0.9989</td>\n",
       "    </tr>\n",
       "    <tr>\n",
       "      <th>1</th>\n",
       "      <td>54</td>\n",
       "      <td>6.0</td>\n",
       "      <td>3.0</td>\n",
       "      <td>27.5</td>\n",
       "      <td>27.995140</td>\n",
       "      <td>28.62970</td>\n",
       "      <td>27.0636</td>\n",
       "      <td>1.12970</td>\n",
       "      <td>0.495140</td>\n",
       "      <td>0.4364</td>\n",
       "    </tr>\n",
       "    <tr>\n",
       "      <th>2</th>\n",
       "      <td>25</td>\n",
       "      <td>9.0</td>\n",
       "      <td>2.4</td>\n",
       "      <td>28.0</td>\n",
       "      <td>27.816890</td>\n",
       "      <td>28.51762</td>\n",
       "      <td>26.8761</td>\n",
       "      <td>0.51762</td>\n",
       "      <td>0.183110</td>\n",
       "      <td>1.1239</td>\n",
       "    </tr>\n",
       "    <tr>\n",
       "      <th>3</th>\n",
       "      <td>15</td>\n",
       "      <td>13.5</td>\n",
       "      <td>3.6</td>\n",
       "      <td>28.5</td>\n",
       "      <td>28.173002</td>\n",
       "      <td>29.01688</td>\n",
       "      <td>27.2511</td>\n",
       "      <td>0.51688</td>\n",
       "      <td>0.326998</td>\n",
       "      <td>1.2489</td>\n",
       "    </tr>\n",
       "    <tr>\n",
       "      <th>4</th>\n",
       "      <td>36</td>\n",
       "      <td>4.5</td>\n",
       "      <td>4.2</td>\n",
       "      <td>28.5</td>\n",
       "      <td>28.350474</td>\n",
       "      <td>28.97176</td>\n",
       "      <td>27.4386</td>\n",
       "      <td>0.47176</td>\n",
       "      <td>0.149526</td>\n",
       "      <td>1.0614</td>\n",
       "    </tr>\n",
       "  </tbody>\n",
       "</table>\n",
       "</div>"
      ],
      "text/plain": [
       "   index  Depth  N60   Phi      Wolff  This_study   Nitish  err_This_study  \\\n",
       "0     55    1.5  1.2  27.5  27.459222    27.93976  26.5011         0.43976   \n",
       "1     54    6.0  3.0  27.5  27.995140    28.62970  27.0636         1.12970   \n",
       "2     25    9.0  2.4  28.0  27.816890    28.51762  26.8761         0.51762   \n",
       "3     15   13.5  3.6  28.5  28.173002    29.01688  27.2511         0.51688   \n",
       "4     36    4.5  4.2  28.5  28.350474    28.97176  27.4386         0.47176   \n",
       "\n",
       "   err_Wolff  err_Nitish  \n",
       "0   0.040778      0.9989  \n",
       "1   0.495140      0.4364  \n",
       "2   0.183110      1.1239  \n",
       "3   0.326998      1.2489  \n",
       "4   0.149526      1.0614  "
      ]
     },
     "execution_count": 34,
     "metadata": {},
     "output_type": "execute_result"
    }
   ],
   "source": [
    "new.head()"
   ]
  },
  {
   "cell_type": "code",
   "execution_count": 35,
   "metadata": {},
   "outputs": [
    {
     "data": {
      "text/plain": [
       "0.7395797829085259"
      ]
     },
     "execution_count": 35,
     "metadata": {},
     "output_type": "execute_result"
    }
   ],
   "source": [
    "r2_score(new[\"Phi\"], new[\"Wolff\"])"
   ]
  },
  {
   "cell_type": "code",
   "execution_count": 36,
   "metadata": {},
   "outputs": [
    {
     "data": {
      "text/plain": [
       "0.9096113582900339"
      ]
     },
     "execution_count": 36,
     "metadata": {},
     "output_type": "execute_result"
    }
   ],
   "source": [
    "r2_score(new[\"Phi\"], new[\"This_study\"])"
   ]
  },
  {
   "cell_type": "code",
   "execution_count": 37,
   "metadata": {},
   "outputs": [
    {
     "data": {
      "text/plain": [
       "0.5929253643014616"
      ]
     },
     "execution_count": 37,
     "metadata": {},
     "output_type": "execute_result"
    }
   ],
   "source": [
    "r2_score(new[\"Phi\"], new[\"Nitish\"])"
   ]
  },
  {
   "cell_type": "code",
   "execution_count": 38,
   "metadata": {},
   "outputs": [
    {
     "data": {
      "text/plain": [
       "1.7678742202540563"
      ]
     },
     "execution_count": 38,
     "metadata": {},
     "output_type": "execute_result"
    }
   ],
   "source": [
    "(MSE(new[\"Phi\"], new[\"Wolff\"]))**0.5"
   ]
  },
  {
   "cell_type": "code",
   "execution_count": 39,
   "metadata": {},
   "outputs": [
    {
     "data": {
      "text/plain": [
       "1.0415279875292738"
      ]
     },
     "execution_count": 39,
     "metadata": {},
     "output_type": "execute_result"
    }
   ],
   "source": [
    "(MSE(new[\"Phi\"], new[\"This_study\"]))**0.5"
   ]
  },
  {
   "cell_type": "code",
   "execution_count": 40,
   "metadata": {},
   "outputs": [
    {
     "data": {
      "text/plain": [
       "2.2102990446497635"
      ]
     },
     "execution_count": 40,
     "metadata": {},
     "output_type": "execute_result"
    }
   ],
   "source": [
    "(MSE(new[\"Phi\"], new[\"Nitish\"]))**0.5"
   ]
  },
  {
   "cell_type": "code",
   "execution_count": 42,
   "metadata": {},
   "outputs": [
    {
     "data": {
      "image/png": "[encoded data removed]",
      "text/plain": [
       "<Figure size 520x320 with 1 Axes>"
      ]
     },
     "metadata": {},
     "output_type": "display_data"
    }
   ],
   "source": [
    "\n",
    "fig, ax = plt.subplots()\n",
    "fig.set_size_inches(6.5,4)\n",
    "\n",
    "p1 = plt.bar(new.index, new[\"err_This_study\"], label = \"This Study\", color = \"silver\")\n",
    "p2 = plt.bar(new.index, new[\"err_Wolff\"],bottom = new[\"err_This_study\"], label = \"Wolff [14]\", color = \"white\")\n",
    "p2 = plt.bar(new.index,  new[\"err_Nitish\"],bottom = new[\"err_Wolff\"], label = \"Puri [1]\", color = \"grey\")\n",
    "ax.set(ylabel = \"Errors \", xlabel = \"Observations\")\n",
    "fig.patch.set_facecolor(\"White\")\n",
    "mpl.rc('xtick', labelsize=10)     \n",
    "mpl.rc('ytick', labelsize=10)\n",
    "ax.tick_params(length = 4, width = 2)\n",
    "ax.legend(loc = 2, prop = {\"size\" : 10})\n",
    "plt.rcParams.update({'font.size': 10})\n",
    "mpl.rcParams['text.color'] = 'black'\n",
    "plt.savefig(\"Error.jpg\",dpi=600, Transperant = True)"
   ]
  },
  {
   "cell_type": "code",
   "execution_count": 132,
   "metadata": {},
   "outputs": [
    {
     "data": {
      "text/plain": [
       "<matplotlib.axes._subplots.AxesSubplot at 0x277c4966308>"
      ]
     },
     "execution_count": 132,
     "metadata": {},
     "output_type": "execute_result"
    },
    {
     "data": {
      "image/png": "[encoded data removed]",
      "text/plain": [
       "<Figure size 640x480 with 1 Axes>"
      ]
     },
     "metadata": {},
     "output_type": "display_data"
    }
   ],
   "source": [
    "sns.scatterplot(new[\"Phi\"], new[\"Wolff\"])"
   ]
  },
  {
   "cell_type": "code",
   "execution_count": 133,
   "metadata": {},
   "outputs": [
    {
     "data": {
      "text/plain": [
       "<matplotlib.axes._subplots.AxesSubplot at 0x277c4a16e88>"
      ]
     },
     "execution_count": 133,
     "metadata": {},
     "output_type": "execute_result"
    },
    {
     "data": {
      "image/png": "[encoded data removed]",
      "text/plain": [
       "<Figure size 640x480 with 1 Axes>"
      ]
     },
     "metadata": {},
     "output_type": "display_data"
    }
   ],
   "source": [
    "sns.scatterplot(new[\"Phi\"], new[\"This_study\"])"
   ]
  },
  {
   "cell_type": "code",
   "execution_count": 142,
   "metadata": {},
   "outputs": [
    {
     "data": {
      "text/plain": [
       "<matplotlib.axes._subplots.AxesSubplot at 0x277c4d46388>"
      ]
     },
     "execution_count": 142,
     "metadata": {},
     "output_type": "execute_result"
    },
    {
     "data": {
      "image/png": "[encoded data removed]",
      "text/plain": [
       "<Figure size 640x480 with 1 Axes>"
      ]
     },
     "metadata": {},
     "output_type": "display_data"
    }
   ],
   "source": [
    "sns.scatterplot(new[\"Phi\"], new[\"Nitish\"])"
   ]
  },
  {
   "cell_type": "code",
   "execution_count": null,
   "metadata": {},
   "outputs": [],
   "source": []
  }
 ],
 "metadata": {
  "kernelspec": {
   "display_name": "Python 3",
   "language": "python",
   "name": "python3"
  },
  "language_info": {
   "codemirror_mode": {
    "name": "ipython",
    "version": 3
   },
   "file_extension": ".py",
   "mimetype": "text/x-python",
   "name": "python",
   "nbconvert_exporter": "python",
   "pygments_lexer": "ipython3",
   "version": "3.7.6"
  }
 },
 "nbformat": 4,
 "nbformat_minor": 4
}
